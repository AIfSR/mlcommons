{
 "cells": [
  {
   "cell_type": "code",
   "execution_count": 1,
   "id": "c1d6d904-b1de-47a1-80c0-40f28e33bec3",
   "metadata": {},
   "outputs": [],
   "source": [
    "import pandas as pd\n",
    "from cloudmesh.common.util import readfile\n",
    "from io import StringIO\n",
    "import matplotlib.pyplot as plt\n",
    "import seaborn as sns"
   ]
  },
  {
   "cell_type": "code",
   "execution_count": 20,
   "id": "c41c5208-adb5-4d99-93e5-ded5e1f9bb12",
   "metadata": {},
   "outputs": [
    {
     "data": {
      "text/html": [
       "<div>\n",
       "<style scoped>\n",
       "    .dataframe tbody tr th:only-of-type {\n",
       "        vertical-align: middle;\n",
       "    }\n",
       "\n",
       "    .dataframe tbody tr th {\n",
       "        vertical-align: top;\n",
       "    }\n",
       "\n",
       "    .dataframe thead th {\n",
       "        text-align: right;\n",
       "    }\n",
       "</style>\n",
       "<table border=\"1\" class=\"dataframe\">\n",
       "  <thead>\n",
       "    <tr style=\"text-align: right;\">\n",
       "      <th></th>\n",
       "      <th>time</th>\n",
       "      <th>gpu_util</th>\n",
       "      <th>memory_util</th>\n",
       "      <th>encoder_util</th>\n",
       "      <th>decoder_util</th>\n",
       "      <th>gpu_temp_C</th>\n",
       "      <th>power_draw_W</th>\n",
       "      <th>x</th>\n",
       "    </tr>\n",
       "  </thead>\n",
       "  <tbody>\n",
       "    <tr>\n",
       "      <th>0</th>\n",
       "      <td>2022-03-15 12:56:26.143543</td>\n",
       "      <td>36</td>\n",
       "      <td>1</td>\n",
       "      <td>0</td>\n",
       "      <td>0</td>\n",
       "      <td>51</td>\n",
       "      <td>116.27</td>\n",
       "      <td>0</td>\n",
       "    </tr>\n",
       "    <tr>\n",
       "      <th>1</th>\n",
       "      <td>2022-03-15 12:56:26.309014</td>\n",
       "      <td>36</td>\n",
       "      <td>1</td>\n",
       "      <td>0</td>\n",
       "      <td>0</td>\n",
       "      <td>51</td>\n",
       "      <td>123.73</td>\n",
       "      <td>1</td>\n",
       "    </tr>\n",
       "    <tr>\n",
       "      <th>2</th>\n",
       "      <td>2022-03-15 12:56:26.451868</td>\n",
       "      <td>0</td>\n",
       "      <td>1</td>\n",
       "      <td>0</td>\n",
       "      <td>0</td>\n",
       "      <td>51</td>\n",
       "      <td>136.45</td>\n",
       "      <td>2</td>\n",
       "    </tr>\n",
       "    <tr>\n",
       "      <th>3</th>\n",
       "      <td>2022-03-15 12:56:26.593504</td>\n",
       "      <td>5</td>\n",
       "      <td>1</td>\n",
       "      <td>0</td>\n",
       "      <td>0</td>\n",
       "      <td>51</td>\n",
       "      <td>136.33</td>\n",
       "      <td>3</td>\n",
       "    </tr>\n",
       "    <tr>\n",
       "      <th>4</th>\n",
       "      <td>2022-03-15 12:56:26.735810</td>\n",
       "      <td>20</td>\n",
       "      <td>1</td>\n",
       "      <td>0</td>\n",
       "      <td>0</td>\n",
       "      <td>51</td>\n",
       "      <td>136.61</td>\n",
       "      <td>4</td>\n",
       "    </tr>\n",
       "    <tr>\n",
       "      <th>...</th>\n",
       "      <td>...</td>\n",
       "      <td>...</td>\n",
       "      <td>...</td>\n",
       "      <td>...</td>\n",
       "      <td>...</td>\n",
       "      <td>...</td>\n",
       "      <td>...</td>\n",
       "      <td>...</td>\n",
       "    </tr>\n",
       "    <tr>\n",
       "      <th>163</th>\n",
       "      <td>2022-03-15 12:56:33.253895</td>\n",
       "      <td>24</td>\n",
       "      <td>3</td>\n",
       "      <td>0</td>\n",
       "      <td>0</td>\n",
       "      <td>52</td>\n",
       "      <td>145.04</td>\n",
       "      <td>163</td>\n",
       "    </tr>\n",
       "    <tr>\n",
       "      <th>164</th>\n",
       "      <td>2022-03-15 12:56:33.393750</td>\n",
       "      <td>14</td>\n",
       "      <td>1</td>\n",
       "      <td>0</td>\n",
       "      <td>0</td>\n",
       "      <td>52</td>\n",
       "      <td>144.40</td>\n",
       "      <td>164</td>\n",
       "    </tr>\n",
       "    <tr>\n",
       "      <th>165</th>\n",
       "      <td>2022-03-15 12:56:33.538253</td>\n",
       "      <td>7</td>\n",
       "      <td>1</td>\n",
       "      <td>0</td>\n",
       "      <td>0</td>\n",
       "      <td>52</td>\n",
       "      <td>142.76</td>\n",
       "      <td>165</td>\n",
       "    </tr>\n",
       "    <tr>\n",
       "      <th>166</th>\n",
       "      <td>2022-03-15 12:56:33.697652</td>\n",
       "      <td>7</td>\n",
       "      <td>1</td>\n",
       "      <td>0</td>\n",
       "      <td>0</td>\n",
       "      <td>52</td>\n",
       "      <td>141.81</td>\n",
       "      <td>166</td>\n",
       "    </tr>\n",
       "    <tr>\n",
       "      <th>167</th>\n",
       "      <td>2022-03-15 12:56:33.844200</td>\n",
       "      <td>15</td>\n",
       "      <td>1</td>\n",
       "      <td>0</td>\n",
       "      <td>0</td>\n",
       "      <td>52</td>\n",
       "      <td>140.30</td>\n",
       "      <td>167</td>\n",
       "    </tr>\n",
       "  </tbody>\n",
       "</table>\n",
       "<p>168 rows × 8 columns</p>\n",
       "</div>"
      ],
      "text/plain": [
       "                          time  gpu_util  memory_util  encoder_util  \\\n",
       "0   2022-03-15 12:56:26.143543        36            1             0   \n",
       "1   2022-03-15 12:56:26.309014        36            1             0   \n",
       "2   2022-03-15 12:56:26.451868         0            1             0   \n",
       "3   2022-03-15 12:56:26.593504         5            1             0   \n",
       "4   2022-03-15 12:56:26.735810        20            1             0   \n",
       "..                         ...       ...          ...           ...   \n",
       "163 2022-03-15 12:56:33.253895        24            3             0   \n",
       "164 2022-03-15 12:56:33.393750        14            1             0   \n",
       "165 2022-03-15 12:56:33.538253         7            1             0   \n",
       "166 2022-03-15 12:56:33.697652         7            1             0   \n",
       "167 2022-03-15 12:56:33.844200        15            1             0   \n",
       "\n",
       "     decoder_util  gpu_temp_C  power_draw_W    x  \n",
       "0               0          51        116.27    0  \n",
       "1               0          51        123.73    1  \n",
       "2               0          51        136.45    2  \n",
       "3               0          51        136.33    3  \n",
       "4               0          51        136.61    4  \n",
       "..            ...         ...           ...  ...  \n",
       "163             0          52        145.04  163  \n",
       "164             0          52        144.40  164  \n",
       "165             0          52        142.76  165  \n",
       "166             0          52        141.81  166  \n",
       "167             0          52        140.30  167  \n",
       "\n",
       "[168 rows x 8 columns]"
      ]
     },
     "execution_count": 20,
     "metadata": {},
     "output_type": "execute_result"
    }
   ],
   "source": [
    "filename=\"mnist.log.log\"\n",
    "\n",
    "content = readfile (\"mnist.log.log\").splitlines()\n",
    "\n",
    "header = \"time,gpu_util,memory_util,encoder_util,decoder_util,gpu_temp_C,power_draw_W\"\n",
    "result = \"\"\n",
    "for line in content:\n",
    "    if not line.startswith(\"#\") and not line.startswith(\" \") and not line.startswith(\"\\n\") and not line.startswith(\"gpu\"):\n",
    "        result = result + line + \"\\n\"\n",
    "\n",
    "result = header + \"\\n\" + result\n",
    "\n",
    "\n",
    "\n",
    "csvStringIO = StringIO(result)\n",
    "\n",
    "df = pd.read_csv(csvStringIO, comment='#', sep=\",\") \n",
    "\n",
    "df.time = pd.to_datetime(df['time'], format='%Y-%m-%d %H:%M:%S.%f')\n",
    "df[\"x\"] = df.index\n",
    "\n",
    "df"
   ]
  },
  {
   "cell_type": "code",
   "execution_count": 15,
   "id": "71a6c7b2-0d3f-4cff-863e-7514c2d87052",
   "metadata": {},
   "outputs": [
    {
     "data": {
      "text/plain": [
       "0     2022-03-15 12:56:26.143543\n",
       "1     2022-03-15 12:56:26.309014\n",
       "2     2022-03-15 12:56:26.451868\n",
       "3     2022-03-15 12:56:26.593504\n",
       "4     2022-03-15 12:56:26.735810\n",
       "                 ...            \n",
       "163   2022-03-15 12:56:33.253895\n",
       "164   2022-03-15 12:56:33.393750\n",
       "165   2022-03-15 12:56:33.538253\n",
       "166   2022-03-15 12:56:33.697652\n",
       "167   2022-03-15 12:56:33.844200\n",
       "Name: time, Length: 168, dtype: datetime64[ns]"
      ]
     },
     "execution_count": 15,
     "metadata": {},
     "output_type": "execute_result"
    }
   ],
   "source": [
    "df[\"time\"]"
   ]
  },
  {
   "cell_type": "code",
   "execution_count": 26,
   "id": "14e993bc-e138-42c5-abcb-a04f10a4c904",
   "metadata": {},
   "outputs": [
    {
     "data": {
      "text/plain": [
       "<AxesSubplot:xlabel='time', ylabel='gpu_util'>"
      ]
     },
     "execution_count": 26,
     "metadata": {},
     "output_type": "execute_result"
    },
    {
     "data": {
      "image/png": "[encoded data removed]",
      "text/plain": [
       "<Figure size 432x288 with 1 Axes>"
      ]
     },
     "metadata": {
      "needs_background": "light"
     },
     "output_type": "display_data"
    }
   ],
   "source": [
    "sns.lineplot(y='gpu_util', x=\"time\", data=df)"
   ]
  },
  {
   "cell_type": "code",
   "execution_count": 27,
   "id": "43797eac-b55b-4f6a-83d1-a3dfd48281ce",
   "metadata": {},
   "outputs": [
    {
     "data": {
      "text/plain": [
       "<AxesSubplot:xlabel='time', ylabel='gpu_temp_C'>"
      ]
     },
     "execution_count": 27,
     "metadata": {},
     "output_type": "execute_result"
    },
    {
     "data": {
      "image/png": "[encoded data removed]",
      "text/plain": [
       "<Figure size 432x288 with 1 Axes>"
      ]
     },
     "metadata": {
      "needs_background": "light"
     },
     "output_type": "display_data"
    }
   ],
   "source": [
    "sns.lineplot(y='gpu_temp_C', x=\"time\", data=df)"
   ]
  },
  {
   "cell_type": "code",
   "execution_count": 28,
   "id": "6b68dc7d-ff0b-4243-b3e9-aa04d1ee1e01",
   "metadata": {},
   "outputs": [
    {
     "data": {
      "text/plain": [
       "<AxesSubplot:xlabel='time', ylabel='power_draw_W'>"
      ]
     },
     "execution_count": 28,
     "metadata": {},
     "output_type": "execute_result"
    },
    {
     "data": {
      "image/png": "[encoded data removed]",
      "text/plain": [
       "<Figure size 432x288 with 1 Axes>"
      ]
     },
     "metadata": {
      "needs_background": "light"
     },
     "output_type": "display_data"
    }
   ],
   "source": [
    "sns.lineplot(y='power_draw_W', x=\"time\", data=df)"
   ]
  },
  {
   "cell_type": "code",
   "execution_count": null,
   "id": "e4e51bc7-20fb-4658-b3a0-63ee64043da2",
   "metadata": {},
   "outputs": [],
   "source": []
  }
 ],
 "metadata": {
  "kernelspec": {
   "display_name": "Python 3 (ipykernel)",
   "language": "python",
   "name": "python3"
  },
  "language_info": {
   "codemirror_mode": {
    "name": "ipython",
    "version": 3
   },
   "file_extension": ".py",
   "mimetype": "text/x-python",
   "name": "python",
   "nbconvert_exporter": "python",
   "pygments_lexer": "ipython3",
   "version": "3.10.2"
  }
 },
 "nbformat": 4,
 "nbformat_minor": 5
}
