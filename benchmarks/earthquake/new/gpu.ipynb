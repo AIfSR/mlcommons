{
 "cells": [
  {
   "cell_type": "markdown",
   "id": "1b4bffe4-1bf6-4343-aafd-6f4d31fb647e",
   "metadata": {},
   "source": [
    "# GPU Setup"
   ]
  },
  {
   "cell_type": "code",
   "execution_count": null,
   "id": "c2b7ab52-9081-4e07-b174-481d64b217d3",
   "metadata": {},
   "outputs": [],
   "source": [
    "! jupyter trust library/gpu.ipynb"
   ]
  },
  {
   "cell_type": "code",
   "execution_count": null,
   "id": "689a7074-283c-42ca-8b67-c60511307482",
   "metadata": {
    "colab": {
     "base_uri": "https://localhost:8080/"
    },
    "executionInfo": {
     "elapsed": 46186,
     "status": "ok",
     "timestamp": 1621717616306,
     "user": {
      "displayName": "Geoffrey Fox",
      "photoUrl": "https://lh3.googleusercontent.com/a-/AOh14Gjc9c8a7ex4axVGUKuHsfR6NS3HJH4FuoRklWVlqVg=s64",
      "userId": "05746420248437484005"
     },
     "user_tz": 240
    },
    "id": "w4cXSlPV7hNG",
    "outputId": "532d66ad-2cea-4af3-e2d5-030333ce3cdf",
    "tags": []
   },
   "outputs": [],
   "source": [
    "!lscpu\n",
    "\n",
    "gpu_info = !nvidia-smi\n",
    "gpu_info = '\\n'.join(gpu_info)\n",
    "if gpu_info.find('failed') >= 0:\n",
    "  print('Select the Runtime > \"Change runtime type\" menu to enable a GPU accelerator, ')\n",
    "else:\n",
    "  print(gpu_info)"
   ]
  },
  {
   "cell_type": "code",
   "execution_count": 1,
   "id": "0ef324fc-53d6-4867-8f67-624c243d18eb",
   "metadata": {},
   "outputs": [
    {
     "name": "stdout",
     "output_type": "stream",
     "text": [
      "Num GPUs: 0\n"
     ]
    }
   ],
   "source": [
    "import tensorflow\n",
    "physical_devices = tensorflow.config.list_physical_devices('GPU')\n",
    "print(\"Num GPUs:\", len(physical_devices))\n"
   ]
  },
  {
   "cell_type": "code",
   "execution_count": null,
   "id": "628e1cfc-b661-442c-b4d0-f8864fc0b9fb",
   "metadata": {},
   "outputs": [],
   "source": []
  }
 ],
 "metadata": {
  "kernelspec": {
   "display_name": "Python 3",
   "language": "python",
   "name": "python3"
  },
  "language_info": {
   "codemirror_mode": {
    "name": "ipython",
    "version": 3
   },
   "file_extension": ".py",
   "mimetype": "text/x-python",
   "name": "python",
   "nbconvert_exporter": "python",
   "pygments_lexer": "ipython3",
   "version": "3.8.5"
  }
 },
 "nbformat": 4,
 "nbformat_minor": 5
}
