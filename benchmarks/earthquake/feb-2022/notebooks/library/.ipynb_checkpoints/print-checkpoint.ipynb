{
 "cells": [
  {
   "cell_type": "markdown",
   "id": "270a2a40-ba0e-44fc-bc74-f94be67fbef7",
   "metadata": {},
   "source": [
    "# Print in Color"
   ]
  },
  {
   "cell_type": "code",
   "execution_count": null,
   "id": "dfb9463a-dce9-478a-8cc3-c98adb1904bb",
   "metadata": {
    "colab": {
     "base_uri": "https://localhost:8080/"
    },
    "executionInfo": {
     "elapsed": 46186,
     "status": "ok",
     "timestamp": 1621717616306,
     "user": {
      "displayName": "Geoffrey Fox",
      "photoUrl": "https://lh3.googleusercontent.com/a-/AOh14Gjc9c8a7ex4axVGUKuHsfR6NS3HJH4FuoRklWVlqVg=s64",
      "userId": "05746420248437484005"
     },
     "user_tz": 240
    },
    "id": "w4cXSlPV7hNG",
    "outputId": "532d66ad-2cea-4af3-e2d5-030333ce3cdf",
    "tags": []
   },
   "outputs": [],
   "source": [
    "startbold = \"\\033[1m\"\n",
    "resetfonts = \"\\033[0m\"\n",
    "startred = \"\\033[31m\"\n",
    "\n",
    "startpurple = \"\\033[35m\"\n",
    "startyellowbkg = \"\\033[43m\"\n",
    "\n",
    "\n",
    "def _to_string(*argv, wrap=False):\n",
    "    line = []\n",
    "    for msg in argv:\n",
    "        line.append(str(msg))\n",
    "\n",
    "    \n",
    "    return \" \".join(line)\n",
    "\n",
    "\n",
    "def get_free_gpu_memory():\n",
    "  _output_to_list = lambda x: x.decode('ascii').split('\\n')[:-1]\n",
    "\n",
    "  ACCEPTABLE_AVAILABLE_MEMORY = 1024\n",
    "  COMMAND = \"nvidia-smi --query-gpu=memory.free --format=csv\"\n",
    "  memory_free_info = _output_to_list(subprocess.check_output(COMMAND.split()))[1:]\n",
    "  memory_free_values = [int(x.split()[0]) for i, x in enumerate(memory_free_info)]\n",
    "  print(memory_free_values)\n",
    "  return memory_free_values\n",
    "\n",
    "\n",
    "def printLOG(*argv, wrap=False):\n",
    "    content = _to_string(*argv, wrap=wrap)\n",
    "    free = str(get_free_gpu_memory())\n",
    "    sys.__stdout__.write(f\"{content} {free}\\n\")\n",
    "\n",
    "\n",
    "def print_red(*argv, wrap=False):\n",
    "    print(startbold + startred + _to_string(*argv, wrap=wrap) + resetfonts)\n",
    "\n",
    "\n",
    "def print_purple(*argv, wrap=False):\n",
    "    print(startbold + startpurple + _to_string(*argv, wrap=wrap) + resetfonts)\n",
    "\n",
    "\n",
    "def print_bf(*argv, wrap=False):\n",
    "    print(startbold + _to_string(*argv, wrap=wrap) + resetfonts)\n",
    "\n",
    "\n",
    "def wraptotext(textinput, size=None):\n",
    "    if size is None:\n",
    "        size = 120\n",
    "    textlist = wrap(textinput, size)\n",
    "    textresult = textlist[0]\n",
    "    for itext in range(1, len(textlist)):\n",
    "        textresult += \"\\n\" + textlist[itext]\n",
    "    return textresult\n",
    "\n",
    "\n",
    "def timenow():\n",
    "    now = datetime.now()\n",
    "    return now.strftime(\"%m/%d/%Y, %H:%M:%S\") + \" UTC\"\n",
    "\n",
    "\n",
    "def float32fromstrwithNaN(instr):\n",
    "    if instr == \"NaN\":\n",
    "        return NaN\n",
    "    return np.float32(instr)\n",
    "\n",
    "\n",
    "def printexit(*argv):\n",
    "    print(_to_string(*argv))\n",
    "    sys.exit()\n",
    "\n",
    "\n",
    "def strrnd(value):\n",
    "    return str(round(value, 4))"
   ]
  },
  {
   "cell_type": "code",
   "execution_count": null,
   "id": "ed710246-6a01-4170-9fdd-20c58a1f7451",
   "metadata": {},
   "outputs": [],
   "source": [
    "TESTING = False\n",
    "if TESTING:\n",
    "    import sys\n",
    "\n",
    "    printexit(\"a\", 1, 3)"
   ]
  }
 ],
 "metadata": {
  "kernelspec": {
   "display_name": "Python 3",
   "language": "python",
   "name": "python3"
  },
  "language_info": {
   "codemirror_mode": {
    "name": "ipython",
    "version": 3
   },
   "file_extension": ".py",
   "mimetype": "text/x-python",
   "name": "python",
   "nbconvert_exporter": "python",
   "pygments_lexer": "ipython3",
   "version": "3.8.5"
  }
 },
 "nbformat": 4,
 "nbformat_minor": 5
}
