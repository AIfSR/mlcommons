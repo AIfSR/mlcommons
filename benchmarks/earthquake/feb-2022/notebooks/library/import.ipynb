{
 "cells": [
  {
   "cell_type": "markdown",
   "id": "b2000223-a1a3-4064-96f5-76e98c355be0",
   "metadata": {},
   "source": [
    "# Imports"
   ]
  },
  {
   "cell_type": "code",
   "execution_count": 1,
   "id": "8c6c5800-0330-452c-9887-b4fc0ba1314d",
   "metadata": {},
   "outputs": [],
   "source": [
    "import subprocess\n",
    "import os\n",
    "import datetime\n",
    "import gc\n",
    "import io as io\n",
    "import math\n",
    "import random\n",
    "import string\n",
    "import sys\n",
    "import time\n",
    "from csv import reader, writer\n",
    "from datetime import date, datetime, timedelta\n",
    "from pprint import pprint\n",
    "from textwrap import wrap\n",
    "from textwrap import dedent\n",
    "\n",
    "import matplotlib\n",
    "import matplotlib.dates as mdates\n",
    "import matplotlib.patches as patches\n",
    "import matplotlib.pyplot as plt\n",
    "import numpy as np\n",
    "import oyaml as yaml\n",
    "import pandas as pd\n",
    "import tensorflow as tf\n",
    "# import tensorflow_datasets as tfds\n",
    "from cloudmesh.common.console import Console\n",
    "from cloudmesh.common.dotdict import dotdict\n",
    "from cloudmesh.common.Shell import Shell\n",
    "from cloudmesh.common.StopWatch import StopWatch\n",
    "from cloudmesh.common.util import banner, path_expand\n",
    "from matplotlib.figure import Figure\n",
    "from matplotlib.path import Path\n",
    "from tensorflow.keras.layers import GRU, LSTM, Dense\n",
    "from tensorflow.keras.models import Sequential\n",
    "from tqdm.notebook import tqdm\n",
    "import tensorflow\n",
    "from cloudmesh.common.util import writefile \n",
    "\n",
    "from typing import Callable, Dict, List, Optional, Tuple, Union\n"
   ]
  }
 ],
 "metadata": {
  "kernelspec": {
   "display_name": "Python 3",
   "language": "python",
   "name": "python3"
  },
  "language_info": {
   "codemirror_mode": {
    "name": "ipython",
    "version": 3
   },
   "file_extension": ".py",
   "mimetype": "text/x-python",
   "name": "python",
   "nbconvert_exporter": "python",
   "pygments_lexer": "ipython3",
   "version": "3.8.5"
  }
 },
 "nbformat": 4,
 "nbformat_minor": 5
}
