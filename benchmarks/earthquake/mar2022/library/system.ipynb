{
 "cells": [
  {
   "cell_type": "markdown",
   "id": "b2000223-a1a3-4064-96f5-76e98c355be0",
   "metadata": {},
   "source": [
    "# System Setup"
   ]
  },
  {
   "cell_type": "code",
   "execution_count": null,
   "id": "bc7b0e41-e0f2-4351-9584-f106cd9f4070",
   "metadata": {},
   "outputs": [],
   "source": [
    "%load_ext autotime"
   ]
  },
  {
   "cell_type": "code",
   "execution_count": null,
   "id": "222a8414-0cc0-485e-be19-216a5d838344",
   "metadata": {},
   "outputs": [],
   "source": [
    "if with_pip_install:\n",
    "    ! pip install -q pip -U\n",
    "    ! pip install -q matplotlib\n",
    "    ! pip install -q pandas\n",
    "    ! pip install -q cloudmesh-common -U\n",
    "    ! pip install -q ipywidgets"
   ]
  },
  {
   "cell_type": "code",
   "execution_count": 2,
   "id": "48777cfa-326d-4b6a-8060-301b61939dac",
   "metadata": {},
   "outputs": [],
   "source": [
    "import ipynbname\n",
    "NOTEBOOK = ipynbname.name() + \".ipynb\""
   ]
  },
  {
   "cell_type": "code",
   "execution_count": 3,
   "id": "4d14d0c5-e148-4370-9069-cebead7f468b",
   "metadata": {},
   "outputs": [
    {
     "name": "stdout",
     "output_type": "stream",
     "text": [
      "Notebook already signed: system.ipynb\n"
     ]
    }
   ],
   "source": [
    "!jupyter trust $NOTEBOOK"
   ]
  },
  {
   "cell_type": "code",
   "execution_count": 4,
   "id": "91c1f274-473d-4592-a31d-a32e28cb9bd8",
   "metadata": {},
   "outputs": [],
   "source": [
    "user_id = !id -u\n",
    "group_id = !id -g\n",
    "user = !whoami\n",
    "user = user[0]\n",
    "user_id = user_id[0]\n",
    "group_id = group_id[0]"
   ]
  },
  {
   "cell_type": "code",
   "execution_count": null,
   "id": "8bd81adf-17f9-4fa6-a3c1-a8cfc46dce55",
   "metadata": {},
   "outputs": [],
   "source": []
  }
 ],
 "metadata": {
  "kernelspec": {
   "display_name": "Python 3",
   "language": "python",
   "name": "python3"
  },
  "language_info": {
   "codemirror_mode": {
    "name": "ipython",
    "version": 3
   },
   "file_extension": ".py",
   "mimetype": "text/x-python",
   "name": "python",
   "nbconvert_exporter": "python",
   "pygments_lexer": "ipython3",
   "version": "3.9.4"
  }
 },
 "nbformat": 4,
 "nbformat_minor": 5
}
