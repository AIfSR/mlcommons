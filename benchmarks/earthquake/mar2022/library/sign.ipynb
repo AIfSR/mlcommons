{
 "cells": [
  {
   "cell_type": "markdown",
   "id": "b2000223-a1a3-4064-96f5-76e98c355be0",
   "metadata": {},
   "source": [
    "# System Setup"
   ]
  },
  {
   "cell_type": "code",
   "execution_count": 3,
   "id": "4d14d0c5-e148-4370-9069-cebead7f468b",
   "metadata": {},
   "outputs": [
    {
     "name": "stdout",
     "output_type": "stream",
     "text": [
      "Notebook already signed: system.ipynb\n"
     ]
    }
   ],
   "source": [
    "!jupyter trust library/gilbert_curves.ipynb\n",
    "!jupyter trust library/gpu.ipynb\n",
    "!jupyter trust library/import.ipynb\n",
    "!jupyter trust library/system.ipynb\n",
    "!jupyter trust library/sign.ipynb"
   ]
  }
 ],
 "metadata": {
  "kernelspec": {
   "display_name": "Python 3",
   "language": "python",
   "name": "python3"
  },
  "language_info": {
   "codemirror_mode": {
    "name": "ipython",
    "version": 3
   },
   "file_extension": ".py",
   "mimetype": "text/x-python",
   "name": "python",
   "nbconvert_exporter": "python",
   "pygments_lexer": "ipython3",
   "version": "3.9.4"
  }
 },
 "nbformat": 4,
 "nbformat_minor": 5
}
