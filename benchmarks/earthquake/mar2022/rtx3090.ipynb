{
 "cells": [
  {
   "cell_type": "code",
   "execution_count": 3,
   "outputs": [],
   "source": [
    "# https://github.com/laszewsk/mlcommons/commit/5ea94e88e1fc9ba58f994fb3425ab3594b76f92c\n",
    "# all experiments done with\n",
    "# mlcommons/benchmarks/earthquake/mar2022/FFFFWNPFEARTHQ_newTFTv29-gregor.ipynb\n",
    "# tagged with version 1.0"
   ],
   "metadata": {
    "collapsed": false,
    "pycharm": {
     "name": "#%%\n"
    }
   }
  },
  {
   "cell_type": "code",
   "execution_count": 2,
   "outputs": [
    {
     "ename": "ImportError",
     "evalue": "\n\nIMPORTANT: PLEASE READ THIS FOR ADVICE ON HOW TO SOLVE THIS ISSUE!\n\nImporting the numpy C-extensions failed. This error can happen for\nmany reasons, often due to issues with your setup or how NumPy was\ninstalled.\n\nWe have compiled some common reasons and troubleshooting tips at:\n\n    https://numpy.org/devdocs/user/troubleshooting-importerror.html\n\nPlease note and check the following:\n\n  * The Python version is: Python3.10 from \"/Users/grey/ENV3/bin/python3\"\n  * The NumPy version is: \"1.22.3\"\n\nand make sure that they are the versions you expect.\nPlease carefully study the documentation linked above for further help.\n\nOriginal error was: dlopen(/Users/grey/ENV3/lib/python3.10/site-packages/numpy/core/_multiarray_umath.cpython-310-darwin.so, 0x0002): tried: '/Users/grey/ENV3/lib/python3.10/site-packages/numpy/core/_multiarray_umath.cpython-310-darwin.so' (mach-o file, but is an incompatible architecture (have 'arm64', need 'x86_64'))\n",
     "output_type": "error",
     "traceback": [
      "\u001B[0;31m---------------------------------------------------------------------------\u001B[0m",
      "\u001B[0;31mImportError\u001B[0m                               Traceback (most recent call last)",
      "\u001B[0;32m~/ENV3/lib/python3.10/site-packages/numpy/core/__init__.py\u001B[0m in \u001B[0;36m<module>\u001B[0;34m\u001B[0m\n\u001B[1;32m     22\u001B[0m \u001B[0;32mtry\u001B[0m\u001B[0;34m:\u001B[0m\u001B[0;34m\u001B[0m\u001B[0;34m\u001B[0m\u001B[0m\n\u001B[0;32m---> 23\u001B[0;31m     \u001B[0;32mfrom\u001B[0m \u001B[0;34m.\u001B[0m \u001B[0;32mimport\u001B[0m \u001B[0mmultiarray\u001B[0m\u001B[0;34m\u001B[0m\u001B[0;34m\u001B[0m\u001B[0m\n\u001B[0m\u001B[1;32m     24\u001B[0m \u001B[0;32mexcept\u001B[0m \u001B[0mImportError\u001B[0m \u001B[0;32mas\u001B[0m \u001B[0mexc\u001B[0m\u001B[0;34m:\u001B[0m\u001B[0;34m\u001B[0m\u001B[0;34m\u001B[0m\u001B[0m\n",
      "\u001B[0;32m~/ENV3/lib/python3.10/site-packages/numpy/core/multiarray.py\u001B[0m in \u001B[0;36m<module>\u001B[0;34m\u001B[0m\n\u001B[1;32m      9\u001B[0m \u001B[0;32mimport\u001B[0m \u001B[0mfunctools\u001B[0m\u001B[0;34m\u001B[0m\u001B[0;34m\u001B[0m\u001B[0m\n\u001B[0;32m---> 10\u001B[0;31m \u001B[0;32mfrom\u001B[0m \u001B[0;34m.\u001B[0m \u001B[0;32mimport\u001B[0m \u001B[0moverrides\u001B[0m\u001B[0;34m\u001B[0m\u001B[0;34m\u001B[0m\u001B[0m\n\u001B[0m\u001B[1;32m     11\u001B[0m \u001B[0;32mfrom\u001B[0m \u001B[0;34m.\u001B[0m \u001B[0;32mimport\u001B[0m \u001B[0m_multiarray_umath\u001B[0m\u001B[0;34m\u001B[0m\u001B[0;34m\u001B[0m\u001B[0m\n",
      "\u001B[0;32m~/ENV3/lib/python3.10/site-packages/numpy/core/overrides.py\u001B[0m in \u001B[0;36m<module>\u001B[0;34m\u001B[0m\n\u001B[1;32m      5\u001B[0m \u001B[0;34m\u001B[0m\u001B[0m\n\u001B[0;32m----> 6\u001B[0;31m from numpy.core._multiarray_umath import (\n\u001B[0m\u001B[1;32m      7\u001B[0m     add_docstring, implement_array_function, _get_implementing_args)\n",
      "\u001B[0;31mImportError\u001B[0m: dlopen(/Users/grey/ENV3/lib/python3.10/site-packages/numpy/core/_multiarray_umath.cpython-310-darwin.so, 0x0002): tried: '/Users/grey/ENV3/lib/python3.10/site-packages/numpy/core/_multiarray_umath.cpython-310-darwin.so' (mach-o file, but is an incompatible architecture (have 'arm64', need 'x86_64'))",
      "\nDuring handling of the above exception, another exception occurred:\n",
      "\u001B[0;31mImportError\u001B[0m                               Traceback (most recent call last)",
      "\u001B[0;32m/var/folders/q5/s8_pcggn5f73xnz11zjqrhlw0000gp/T/ipykernel_51329/2290775625.py\u001B[0m in \u001B[0;36m<cell line: 1>\u001B[0;34m()\u001B[0m\n\u001B[0;32m----> 1\u001B[0;31m \u001B[0;32mimport\u001B[0m \u001B[0mmatplotlib\u001B[0m\u001B[0;34m.\u001B[0m\u001B[0mpyplot\u001B[0m \u001B[0;32mas\u001B[0m \u001B[0mplt\u001B[0m\u001B[0;34m\u001B[0m\u001B[0;34m\u001B[0m\u001B[0m\n\u001B[0m\u001B[1;32m      2\u001B[0m \u001B[0;32mimport\u001B[0m \u001B[0mseaborn\u001B[0m \u001B[0;32mas\u001B[0m \u001B[0msns\u001B[0m\u001B[0;34m\u001B[0m\u001B[0;34m\u001B[0m\u001B[0m\n\u001B[1;32m      3\u001B[0m \u001B[0;34m\u001B[0m\u001B[0m\n\u001B[1;32m      4\u001B[0m \u001B[0mx\u001B[0m \u001B[0;34m=\u001B[0m \u001B[0;34m[\u001B[0m\u001B[0;36m2\u001B[0m\u001B[0;34m,\u001B[0m \u001B[0;36m10\u001B[0m\u001B[0;34m,\u001B[0m \u001B[0;36m20\u001B[0m\u001B[0;34m,\u001B[0m \u001B[0;36m30\u001B[0m\u001B[0;34m,\u001B[0m \u001B[0;36m34\u001B[0m\u001B[0;34m]\u001B[0m\u001B[0;34m\u001B[0m\u001B[0;34m\u001B[0m\u001B[0m\n\u001B[1;32m      5\u001B[0m \u001B[0my\u001B[0m \u001B[0;34m=\u001B[0m \u001B[0;34m[\u001B[0m\u001B[0;36m6380\u001B[0m\u001B[0;34m,\u001B[0m \u001B[0;36m10185\u001B[0m\u001B[0;34m,\u001B[0m \u001B[0;36m15360\u001B[0m\u001B[0;34m,\u001B[0m \u001B[0;36m19613\u001B[0m\u001B[0;34m,\u001B[0m \u001B[0;36m22233\u001B[0m\u001B[0;34m]\u001B[0m\u001B[0;34m\u001B[0m\u001B[0;34m\u001B[0m\u001B[0m\n",
      "\u001B[0;32m~/ENV3/lib/python3.10/site-packages/matplotlib/__init__.py\u001B[0m in \u001B[0;36m<module>\u001B[0;34m\u001B[0m\n\u001B[1;32m    102\u001B[0m \u001B[0;32mimport\u001B[0m \u001B[0mwarnings\u001B[0m\u001B[0;34m\u001B[0m\u001B[0;34m\u001B[0m\u001B[0m\n\u001B[1;32m    103\u001B[0m \u001B[0;34m\u001B[0m\u001B[0m\n\u001B[0;32m--> 104\u001B[0;31m \u001B[0;32mimport\u001B[0m \u001B[0mnumpy\u001B[0m\u001B[0;34m\u001B[0m\u001B[0;34m\u001B[0m\u001B[0m\n\u001B[0m\u001B[1;32m    105\u001B[0m \u001B[0;32mfrom\u001B[0m \u001B[0mpackaging\u001B[0m\u001B[0;34m.\u001B[0m\u001B[0mversion\u001B[0m \u001B[0;32mimport\u001B[0m \u001B[0mparse\u001B[0m \u001B[0;32mas\u001B[0m \u001B[0mparse_version\u001B[0m\u001B[0;34m\u001B[0m\u001B[0;34m\u001B[0m\u001B[0m\n\u001B[1;32m    106\u001B[0m \u001B[0;34m\u001B[0m\u001B[0m\n",
      "\u001B[0;32m~/ENV3/lib/python3.10/site-packages/numpy/__init__.py\u001B[0m in \u001B[0;36m<module>\u001B[0;34m\u001B[0m\n\u001B[1;32m    142\u001B[0m     \u001B[0;32mfrom\u001B[0m \u001B[0;34m.\u001B[0m \u001B[0;32mimport\u001B[0m \u001B[0m_distributor_init\u001B[0m\u001B[0;34m\u001B[0m\u001B[0;34m\u001B[0m\u001B[0m\n\u001B[1;32m    143\u001B[0m \u001B[0;34m\u001B[0m\u001B[0m\n\u001B[0;32m--> 144\u001B[0;31m     \u001B[0;32mfrom\u001B[0m \u001B[0;34m.\u001B[0m \u001B[0;32mimport\u001B[0m \u001B[0mcore\u001B[0m\u001B[0;34m\u001B[0m\u001B[0;34m\u001B[0m\u001B[0m\n\u001B[0m\u001B[1;32m    145\u001B[0m     \u001B[0;32mfrom\u001B[0m \u001B[0;34m.\u001B[0m\u001B[0mcore\u001B[0m \u001B[0;32mimport\u001B[0m \u001B[0;34m*\u001B[0m\u001B[0;34m\u001B[0m\u001B[0;34m\u001B[0m\u001B[0m\n\u001B[1;32m    146\u001B[0m     \u001B[0;32mfrom\u001B[0m \u001B[0;34m.\u001B[0m \u001B[0;32mimport\u001B[0m \u001B[0mcompat\u001B[0m\u001B[0;34m\u001B[0m\u001B[0;34m\u001B[0m\u001B[0m\n",
      "\u001B[0;32m~/ENV3/lib/python3.10/site-packages/numpy/core/__init__.py\u001B[0m in \u001B[0;36m<module>\u001B[0;34m\u001B[0m\n\u001B[1;32m     47\u001B[0m \"\"\" % (sys.version_info[0], sys.version_info[1], sys.executable,\n\u001B[1;32m     48\u001B[0m         __version__, exc)\n\u001B[0;32m---> 49\u001B[0;31m     \u001B[0;32mraise\u001B[0m \u001B[0mImportError\u001B[0m\u001B[0;34m(\u001B[0m\u001B[0mmsg\u001B[0m\u001B[0;34m)\u001B[0m\u001B[0;34m\u001B[0m\u001B[0;34m\u001B[0m\u001B[0m\n\u001B[0m\u001B[1;32m     50\u001B[0m \u001B[0;32mfinally\u001B[0m\u001B[0;34m:\u001B[0m\u001B[0;34m\u001B[0m\u001B[0;34m\u001B[0m\u001B[0m\n\u001B[1;32m     51\u001B[0m     \u001B[0;32mfor\u001B[0m \u001B[0menvkey\u001B[0m \u001B[0;32min\u001B[0m \u001B[0menv_added\u001B[0m\u001B[0;34m:\u001B[0m\u001B[0;34m\u001B[0m\u001B[0;34m\u001B[0m\u001B[0m\n",
      "\u001B[0;31mImportError\u001B[0m: \n\nIMPORTANT: PLEASE READ THIS FOR ADVICE ON HOW TO SOLVE THIS ISSUE!\n\nImporting the numpy C-extensions failed. This error can happen for\nmany reasons, often due to issues with your setup or how NumPy was\ninstalled.\n\nWe have compiled some common reasons and troubleshooting tips at:\n\n    https://numpy.org/devdocs/user/troubleshooting-importerror.html\n\nPlease note and check the following:\n\n  * The Python version is: Python3.10 from \"/Users/grey/ENV3/bin/python3\"\n  * The NumPy version is: \"1.22.3\"\n\nand make sure that they are the versions you expect.\nPlease carefully study the documentation linked above for further help.\n\nOriginal error was: dlopen(/Users/grey/ENV3/lib/python3.10/site-packages/numpy/core/_multiarray_umath.cpython-310-darwin.so, 0x0002): tried: '/Users/grey/ENV3/lib/python3.10/site-packages/numpy/core/_multiarray_umath.cpython-310-darwin.so' (mach-o file, but is an incompatible architecture (have 'arm64', need 'x86_64'))\n"
     ]
    }
   ],
   "source": [
    "import matplotlib.pyplot as plt\n",
    "import seaborn as sns\n",
    "\n",
    "x = [2, 10, 20, 30, 34]\n",
    "y = [6380, 10185, 15360, 19613, 22233]\n",
    "\n",
    "sns.lineplot(x, y)\n",
    "plt.show()"
   ],
   "metadata": {
    "collapsed": false,
    "pycharm": {
     "name": "#%%\n"
    }
   }
  },
  {
   "cell_type": "code",
   "execution_count": null,
   "metadata": {
    "collapsed": false,
    "jupyter": {
     "outputs_hidden": false
    },
    "pycharm": {
     "name": "#%%\n"
    }
   },
   "outputs": [],
   "source": [
    "def predict_time(x,y, x_pred):\n",
    "    # x_pred = [0, 2,10,20, 30, 40,50,60, 66]\n",
    "    import numpy as np\n",
    "    from sklearn.linear_model import LinearRegression\n",
    "    x_real = np.array(x).reshape((-1, 1))\n",
    "    y_real = np.array(y)\n",
    "    model = LinearRegression()\n",
    "    model.fit(x_real, y_real)\n",
    "\n",
    "    r_sq = model.score(x_real, y_real)\n",
    "    print('coefficient of determination:', r_sq)\n",
    "    print('intercept:', model.intercept_)\n",
    "    print('slope:', model.coef_)\n",
    "\n",
    "    x_pred_r = np.array(x_pred).reshape((-1, 1))\n",
    "\n",
    "    y_pred = model.predict(x_pred_r)\n",
    "\n",
    "    y_pred = [round(x) for x in y_pred]\n",
    "\n",
    "    print('predicted response:', y_pred, sep='\\n')\n",
    "\n",
    "    return y_pred\n"
   ]
  },
  {
   "cell_type": "code",
   "execution_count": null,
   "metadata": {
    "collapsed": false,
    "jupyter": {
     "outputs_hidden": false
    },
    "pycharm": {
     "name": "#%%\n"
    }
   },
   "outputs": [],
   "source": [
    "x_pred = [0, 2,10,20, 30, 40,50,60, 66]\n",
    "y_pred = predict_time(x,y, x_pred)"
   ]
  },
  {
   "cell_type": "code",
   "execution_count": null,
   "metadata": {
    "collapsed": false,
    "jupyter": {
     "outputs_hidden": false
    },
    "pycharm": {
     "name": "#%%\n"
    }
   },
   "outputs": [],
   "source": [
    "from matplotlib.pyplot import figure\n",
    "import humanize\n",
    "figure(figsize=(8, 6), dpi=360)\n",
    "\n",
    "import matplotlib.pyplot as plt\n",
    "sns.scatterplot(x=x, y=y)\n",
    "sns.lineplot(x=x, y=y)\n",
    "sns.lineplot(x=x_pred, y=y_pred)\n",
    "plt.xlabel(\"Epochs\")\n",
    "plt.ylabel(\"Time/s\")\n",
    "plt.title(\"RTX3090\")\n",
    "for i in range(len(x_pred)):\n",
    "    value = humanize.precisedelta(y_pred[i])\n",
    "    plt.annotate(f\"{x_pred[i], value}\", (x_pred[i], y_pred[i]))\n",
    "\n",
    "plt.axvline(33, min(y), max(y))\n",
    "plt.show()\n",
    "\n",
    "x_rtx3090 = x\n",
    "y_rtx3090 = y"
   ]
  },
  {
   "cell_type": "code",
   "execution_count": null,
   "metadata": {
    "collapsed": false,
    "jupyter": {
     "outputs_hidden": false
    },
    "pycharm": {
     "name": "#%%\n"
    }
   },
   "outputs": [],
   "source": []
  },
  {
   "cell_type": "code",
   "execution_count": null,
   "metadata": {
    "pycharm": {
     "name": "#%%\n"
    }
   },
   "outputs": [],
   "source": [
    "import pandas as pd\n",
    "import io"
   ]
  },
  {
   "cell_type": "code",
   "execution_count": null,
   "outputs": [],
   "source": [
    "epoch2 = \\\n",
    "\"\"\"\n",
    "| Timer                        | Status  | K80(r)    | V100(r)    | A100(r)  | RTX3090(G) | RTX3080(R) | T1(?)   | V100(L) |\n",
    "| total                        |  ok     |  28343.3  |   20295    |  17574.8 |   6589.41  |    8348.49 | 17580.4 | 19697.1 |\n",
    "| legal sampling location      |  ok     |   1779.63 |   1546.38  |  1226.95 |   457.886  |    532.535 | 1228.35 | 1229.91 |\n",
    "| RunTFTCustomVersion tft only |  ok     |     0.001 |     0.001  |    0.001 |       0    |        0   | 0.001   | 0.001   |\n",
    "| RunTFTCustomVersion init     |  ok     |     5.327 |     5.624  |    8.078 |      0.84  |     3.612  | 4.163   | 3.548   |\n",
    "| RunTFTCustomVersion train    |  ok     |   6967.26 |    1671.35 |  1373.01 |   1103.15  |    2068.9  | 1342.07 | 1608.61 |\n",
    "| RunTFTCustomVersion bestfit  |  ok     |   17037.6 |    14795.1 |  13022.1 |   4420.31  |    4997.13 | 13018.4 | 14303.7 |\n",
    "| label2                       |  ok     |     0.002 |      0.002 |    0.002 |      0.001 |      0.001 | 0.002   | 0.002   |\n",
    "| label3                       |  ok     |     0.108 |     0.096  |    0.099 |     0.033  |      0.036 | 0.1     | 0.01    |\n",
    "\"\"\".strip().replace(\"\\n\", \";\")\n",
    "epoch2 = \" \".join(epoch2.split()).replace(\"| \", \"|\").replace(\" |\", \"|\").replace(\";\", \"\\n\")\n",
    "print (epoch2)\n",
    "df = pd.read_table(io.StringIO(epoch2),delimiter='|')\n",
    "\n",
    "df.drop(df.columns[[0]], axis = 1, inplace = True)  # drop unnamed column\n",
    "df.drop(df.columns[[1]], axis = 1, inplace = True)  # drop Status\n",
    "df = df.iloc[: , :-1] # drop Last column\n",
    "df = df.set_index('Timer')\n",
    "df"
   ],
   "metadata": {
    "collapsed": false,
    "pycharm": {
     "name": "#%%\n"
    }
   }
  },
  {
   "cell_type": "code",
   "execution_count": null,
   "outputs": [],
   "source": [
    "#result_colab = df.loc[[\"total\"]].transpose()\n",
    "#result_colab\n",
    "epoch_2 = pd.DataFrame(df)\n",
    "epoch_2"
   ],
   "metadata": {
    "collapsed": false,
    "pycharm": {
     "name": "#%%\n"
    }
   }
  },
  {
   "cell_type": "code",
   "execution_count": null,
   "outputs": [],
   "source": [
    "def read_cm_csv_benchmark(content, deliminter=\",\", label=None):\n",
    "    _content = content.strip().replace(\"# csv,\", \"\")\n",
    "    df = pd.read_table(io.StringIO(_content),delimiter=',')\n",
    "    df.drop(df.columns[[1]], axis = 1, inplace = True)  # drop Status\n",
    "    if label:\n",
    "        df.columns.values[1] = label\n",
    "    return df"
   ],
   "metadata": {
    "collapsed": false,
    "pycharm": {
     "name": "#%%\n"
    }
   }
  },
  {
   "cell_type": "code",
   "execution_count": null,
   "outputs": [],
   "source": [
    "\n",
    "# dont know what this is\n",
    "thomas_1 = read_cm_csv_benchmark(\"\"\"\n",
    "# csv,timer,status,time\n",
    "# csv,total,ok,17580.414\n",
    "# csv,data head setup,failed,None\n",
    "# csv,legal sampling location,ok,1228.345\n",
    "# csv,RunTFTCustomVersion tft only,ok,0.001\n",
    "# csv,RunTFTCustomVersion print,failed,None\n",
    "# csv,RunTFTCustomVersion init,ok,4.163\n",
    "# csv,RunTFTCustomVersion restore,ok,0.0\n",
    "# csv,RunTFTCustomVersion analysis,ok,0.0\n",
    "# csv,RunTFTCustomVersion train,ok,1342.073\n",
    "# csv,RunTFTCustomVersion bestfit,ok,13018.363\n",
    "# csv,label1,ok,0.0\n",
    "# csv,label2,ok,0.002\n",
    "# csv,label3,ok,0.1\n",
    "# csv,RunTFTCustomVersion stop,failed,None\n",
    "\"\"\", label=\"thomas_1\")\n",
    "thomas_1\n"
   ],
   "metadata": {
    "collapsed": false,
    "pycharm": {
     "name": "#%%\n"
    }
   }
  },
  {
   "cell_type": "code",
   "execution_count": null,
   "outputs": [],
   "source": [
    "# colab P100\n",
    "colab = {}\n",
    "\n",
    "colab[\"40\"] = \\\n",
    "\"\"\"\n",
    "# csv,timer,status,time\n",
    "# csv,total,ok,65791.932\n",
    "# csv,data head setup,ok,2478.995\n",
    "# csv,legal sampling location,ok,1229.914\n",
    "# csv,RunTFTCustomVersion tft only,ok,0.0\n",
    "# csv,RunTFTCustomVersion print,ok,0.735\n",
    "# csv,RunTFTCustomVersion A,ok,62897.312\n",
    "# csv,RunTFTCustomVersion init,ok,3.923\n",
    "# csv,RunTFTCustomVersion restore,ok,0.0\n",
    "# csv,RunTFTCustomVersion analysis,ok,0.0\n",
    "# csv,RunTFTCustomVersion train,ok,49880.256\n",
    "# csv,RunTFTCustomVersion bestfit,ok,13013.03\n",
    "# csv,RunTFTCustomVersion bestfit FTTrainingMonitor,ok,0.002\n",
    "# csv,RunTFTCustomVersion bestfit Checkpointfinalstate,ok,1.493\n",
    "# csv,RunTFTCustomVersion bestfit summary,ok,0.072\n",
    "# csv,RunTFTCustomVersion bestfit network summary,ok,0.381\n",
    "# csv,RunTFTCustomVersion bestfit TFTLSTMEncoder summary,ok,0.044\n",
    "# csv,RunTFTCustomVersion bestfit TFTLSTMDecoder summary,ok,0.039\n",
    "# csv,RunTFTCustomVersion bestfit Network attn layer summary,ok,0.121\n",
    "# csv,RunTFTCustomVersion bestfit Network attn layer attention summary,ok,0.036\n",
    "# csv,RunTFTCustomVersion bestfit finalize,ok,13010.779\n",
    "# csv,label1,ok,0.0\n",
    "# csv,label2,ok,0.003\n",
    "# csv,label3,ok,0.076\n",
    "\"\"\"\n",
    "\n",
    "colab[\"20\"] = \\\n",
    "\"\"\"\n",
    "# csv,timer,status,time\n",
    "# csv,total,ok,35726.344\n",
    "# csv,data head setup,ok,1697.409\n",
    "# csv,legal sampling location,ok,849.307\n",
    "# csv,RunTFTCustomVersion tft only,ok,0.0\n",
    "# csv,RunTFTCustomVersion print,ok,0.528\n",
    "# csv,RunTFTCustomVersion A,ok,33707.727\n",
    "# csv,RunTFTCustomVersion init,ok,1.526\n",
    "# csv,RunTFTCustomVersion restore,ok,0.0\n",
    "# csv,RunTFTCustomVersion analysis,ok,0.0\n",
    "# csv,RunTFTCustomVersion train,ok,24543.595\n",
    "# csv,RunTFTCustomVersion bestfit,ok,9162.509\n",
    "# csv,RunTFTCustomVersion bestfit FTTrainingMonitor,ok,0.002\n",
    "# csv,RunTFTCustomVersion bestfit Checkpointfinalstate,ok,1.133\n",
    "# csv,RunTFTCustomVersion bestfit summary,ok,0.064\n",
    "# csv,RunTFTCustomVersion bestfit network summary,ok,0.299\n",
    "# csv,RunTFTCustomVersion bestfit TFTLSTMEncoder summary,ok,0.027\n",
    "# csv,RunTFTCustomVersion bestfit TFTLSTMDecoder summary,ok,0.023\n",
    "# csv,RunTFTCustomVersion bestfit Network attn layer summary,ok,0.078\n",
    "# csv,RunTFTCustomVersion bestfit Network attn layer attention summary,ok,0.024\n",
    "# csv,RunTFTCustomVersion bestfit finalize,ok,9160.819\n",
    "# csv,label1,ok,0.0\n",
    "# csv,label2,ok,0.001\n",
    "# csv,label3,ok,0.059\n",
    "\"\"\"\n",
    "\n",
    "colab[\"2\"] = \\\n",
    "\"\"\"\n",
    "# csv,timer,status,time\n",
    "# csv,total,ok,13654.088\n",
    "# csv,data head setup,ok,1642.207\n",
    "# csv,legal sampling location,ok,823.203\n",
    "# csv,RunTFTCustomVersion tft only,ok,0.0\n",
    "# csv,RunTFTCustomVersion print,ok,0.566\n",
    "# csv,RunTFTCustomVersion A,ok,11668.538\n",
    "# csv,RunTFTCustomVersion init,ok,3.207\n",
    "# csv,RunTFTCustomVersion restore,ok,0.0\n",
    "# csv,RunTFTCustomVersion analysis,ok,0.0\n",
    "# csv,RunTFTCustomVersion train,ok,2538.811\n",
    "# csv,RunTFTCustomVersion bestfit,ok,9126.446\n",
    "# csv,RunTFTCustomVersion bestfit FTTrainingMonitor,ok,0.002\n",
    "# csv,RunTFTCustomVersion bestfit Checkpointfinalstate,ok,1.542\n",
    "# csv,RunTFTCustomVersion bestfit summary,ok,0.059\n",
    "# csv,RunTFTCustomVersion bestfit network summary,ok,0.275\n",
    "# csv,RunTFTCustomVersion bestfit TFTLSTMEncoder summary,ok,0.023\n",
    "# csv,RunTFTCustomVersion bestfit TFTLSTMDecoder summary,ok,0.029\n",
    "# csv,RunTFTCustomVersion bestfit Network attn layer summary,ok,0.078\n",
    "# csv,RunTFTCustomVersion bestfit Network attn layer attention summary,ok,0.031\n",
    "# csv,RunTFTCustomVersion bestfit finalize,ok,9124.368\n",
    "# csv,label1,ok,0.0\n",
    "# csv,label2,ok,0.002\n",
    "# csv,label3,ok,0.062\n",
    "\"\"\""
   ],
   "metadata": {
    "collapsed": false,
    "pycharm": {
     "name": "#%%\n"
    }
   }
  },
  {
   "cell_type": "code",
   "execution_count": null,
   "outputs": [],
   "source": [
    "r_localscratch = {}\n",
    "r_localscratch[\"2\"] = \\\n",
    "\"\"\"\n",
    "# csv,timer,status,time\n",
    "# csv,total,ok,18709.772\n",
    "# csv,data head setup,ok,2913.749\n",
    "# csv,legal sampling location,ok,1464.395\n",
    "# csv,RunTFTCustomVersion tft only,ok,0.001\n",
    "# csv,RunTFTCustomVersion print,ok,0.336\n",
    "# csv,RunTFTCustomVersion A,ok,15100.473\n",
    "# csv,RunTFTCustomVersion init,ok,3.01\n",
    "# csv,RunTFTCustomVersion restore,ok,0.0\n",
    "# csv,RunTFTCustomVersion analysis,ok,0.0\n",
    "# csv,RunTFTCustomVersion train,ok,1542.911\n",
    "# csv,RunTFTCustomVersion bestfit,ok,13554.5\n",
    "# csv,RunTFTCustomVersion bestfit FTTrainingMonitor,ok,0.001\n",
    "# csv,RunTFTCustomVersion bestfit Checkpointfinalstate,ok,1.398\n",
    "# csv,RunTFTCustomVersion bestfit summary,ok,0.094\n",
    "# csv,RunTFTCustomVersion bestfit network summary,ok,0.207\n",
    "# csv,RunTFTCustomVersion bestfit TFTLSTMEncoder summary,ok,0.013\n",
    "# csv,RunTFTCustomVersion bestfit TFTLSTMDecoder summary,ok,0.013\n",
    "# csv,RunTFTCustomVersion bestfit Network attn layer summary,ok,0.04\n",
    "# csv,RunTFTCustomVersion bestfit Network attn layer attention summary,ok,0.014\n",
    "# csv,RunTFTCustomVersion bestfit finalize,ok,13552.698\n",
    "# csv,label1,ok,0.0\n",
    "# csv,label2,ok,0.002\n",
    "# csv,label3,ok,0.094\n",
    "\"\"\"\n",
    "r_localscratch[\"20\"] = \\\n",
    "\"\"\"\n",
    "# csv,timer,status,time\n",
    "# csv,total,ok,32132.45\n",
    "# csv,data head setup,ok,2951.98\n",
    "# csv,legal sampling location,ok,1484.189\n",
    "# csv,RunTFTCustomVersion tft only,ok,0.001\n",
    "# csv,RunTFTCustomVersion print,ok,0.339\n",
    "# csv,RunTFTCustomVersion A,ok,28478.429\n",
    "# csv,RunTFTCustomVersion init,ok,2.97\n",
    "# csv,RunTFTCustomVersion restore,ok,0.0\n",
    "# csv,RunTFTCustomVersion analysis,ok,0.0\n",
    "# csv,RunTFTCustomVersion train,ok,14810.563\n",
    "# csv,RunTFTCustomVersion bestfit,ok,13664.845\n",
    "# csv,RunTFTCustomVersion bestfit FTTrainingMonitor,ok,0.001\n",
    "# csv,RunTFTCustomVersion bestfit Checkpointfinalstate,ok,2.032\n",
    "# csv,RunTFTCustomVersion bestfit summary,ok,0.094\n",
    "# csv,RunTFTCustomVersion bestfit network summary,ok,0.205\n",
    "# csv,RunTFTCustomVersion bestfit TFTLSTMEncoder summary,ok,0.013\n",
    "# csv,RunTFTCustomVersion bestfit TFTLSTMDecoder summary,ok,0.013\n",
    "# csv,RunTFTCustomVersion bestfit Network attn layer summary,ok,0.04\n",
    "# csv,RunTFTCustomVersion bestfit Network attn layer attention summary,ok,0.014\n",
    "# csv,RunTFTCustomVersion bestfit finalize,ok,13662.411\n",
    "# csv,label1,ok,0.0\n",
    "# csv,label2,ok,0.002\n",
    "# csv,label3,ok,0.089\n",
    "\"\"\"\n",
    "r_localscratch[\"30\"] = \\\n",
    "\"\"\"\n",
    "# csv,timer,status,time\n",
    "# csv,total,ok,38942.333\n",
    "# csv,data head setup,ok,2880.771\n",
    "# csv,legal sampling location,ok,1449.875\n",
    "# csv,RunTFTCustomVersion tft only,ok,0.001\n",
    "# csv,RunTFTCustomVersion print,ok,0.336\n",
    "# csv,RunTFTCustomVersion A,ok,35376.26\n",
    "# csv,RunTFTCustomVersion init,ok,3.029\n",
    "# csv,RunTFTCustomVersion restore,ok,0.0\n",
    "# csv,RunTFTCustomVersion analysis,ok,0.0\n",
    "# csv,RunTFTCustomVersion train,ok,21934.63\n",
    "# csv,RunTFTCustomVersion bestfit,ok,13438.534\n",
    "# csv,RunTFTCustomVersion bestfit FTTrainingMonitor,ok,0.001\n",
    "# csv,RunTFTCustomVersion bestfit Checkpointfinalstate,ok,1.384\n",
    "# csv,RunTFTCustomVersion bestfit summary,ok,0.094\n",
    "# csv,RunTFTCustomVersion bestfit network summary,ok,0.202\n",
    "# csv,RunTFTCustomVersion bestfit TFTLSTMEncoder summary,ok,0.013\n",
    "# csv,RunTFTCustomVersion bestfit TFTLSTMDecoder summary,ok,0.013\n",
    "# csv,RunTFTCustomVersion bestfit Network attn layer summary,ok,0.041\n",
    "# csv,RunTFTCustomVersion bestfit Network attn layer attention summary,ok,0.014\n",
    "# csv,RunTFTCustomVersion bestfit finalize,ok,13436.75\n",
    "# csv,label1,ok,0.0\n",
    "# csv,label2,ok,0.002\n",
    "# csv,label3,ok,0.094\n",
    "\"\"\"\n",
    "r_localscratch[\"40\"] = \\\n",
    "\"\"\"\n",
    "# csv,timer,status,time\n",
    "# csv,total,ok,47834.611\n",
    "# csv,data head setup,ok,2998.937\n",
    "# csv,legal sampling location,ok,1502.954\n",
    "# csv,RunTFTCustomVersion tft only,ok,0.001\n",
    "# csv,RunTFTCustomVersion print,ok,0.347\n",
    "# csv,RunTFTCustomVersion A,ok,44103.12\n",
    "# csv,RunTFTCustomVersion init,ok,2.931\n",
    "# csv,RunTFTCustomVersion restore,ok,0.0\n",
    "# csv,RunTFTCustomVersion analysis,ok,0.0\n",
    "# csv,RunTFTCustomVersion train,ok,30267.598\n",
    "# csv,RunTFTCustomVersion bestfit,ok,13832.522\n",
    "# csv,RunTFTCustomVersion bestfit FTTrainingMonitor,ok,0.001\n",
    "# csv,RunTFTCustomVersion bestfit Checkpointfinalstate,ok,2.048\n",
    "# csv,RunTFTCustomVersion bestfit summary,ok,0.094\n",
    "# csv,RunTFTCustomVersion bestfit network summary,ok,0.208\n",
    "# csv,RunTFTCustomVersion bestfit TFTLSTMEncoder summary,ok,0.014\n",
    "# csv,RunTFTCustomVersion bestfit TFTLSTMDecoder summary,ok,0.014\n",
    "# csv,RunTFTCustomVersion bestfit Network attn layer summary,ok,0.041\n",
    "# csv,RunTFTCustomVersion bestfit Network attn layer attention summary,ok,0.014\n",
    "# csv,RunTFTCustomVersion bestfit finalize,ok,13830.066\n",
    "# csv,label1,ok,0.0\n",
    "# csv,label2,ok,0.002\n",
    "# csv,label3,ok,0.093\n",
    "\"\"\"\n",
    "r_localscratch[\"50\"] = \\\n",
    "\"\"\"\n",
    "# csv,timer,status,time\n",
    "# csv,total,ok,53764.009\n",
    "# csv,data head setup,ok,2854.599\n",
    "# csv,legal sampling location,ok,1438.517\n",
    "# csv,RunTFTCustomVersion tft only,ok,0.001\n",
    "# csv,RunTFTCustomVersion print,ok,0.347\n",
    "# csv,RunTFTCustomVersion A,ok,50223.893\n",
    "# csv,RunTFTCustomVersion init,ok,2.734\n",
    "# csv,RunTFTCustomVersion restore,ok,0.0\n",
    "# csv,RunTFTCustomVersion analysis,ok,0.0\n",
    "# csv,RunTFTCustomVersion train,ok,36815.795\n",
    "# csv,RunTFTCustomVersion bestfit,ok,13405.299\n",
    "# csv,RunTFTCustomVersion bestfit FTTrainingMonitor,ok,0.001\n",
    "# csv,RunTFTCustomVersion bestfit Checkpointfinalstate,ok,1.564\n",
    "# csv,RunTFTCustomVersion bestfit summary,ok,0.096\n",
    "# csv,RunTFTCustomVersion bestfit network summary,ok,0.206\n",
    "# csv,RunTFTCustomVersion bestfit TFTLSTMEncoder summary,ok,0.013\n",
    "# csv,RunTFTCustomVersion bestfit TFTLSTMDecoder summary,ok,0.013\n",
    "# csv,RunTFTCustomVersion bestfit Network attn layer summary,ok,0.04\n",
    "# csv,RunTFTCustomVersion bestfit Network attn layer attention summary,ok,0.014\n",
    "# csv,RunTFTCustomVersion bestfit finalize,ok,13403.328\n",
    "# csv,label1,ok,0.0\n",
    "# csv,label2,ok,0.002\n",
    "# csv,label3,ok,0.1\n",
    "\"\"\""
   ],
   "metadata": {
    "collapsed": false,
    "pycharm": {
     "name": "#%%\n"
    }
   }
  },
  {
   "cell_type": "code",
   "execution_count": null,
   "outputs": [],
   "source": [
    "r_project = {}\n",
    "\n",
    "r_project[\"2\"] = \\\n",
    "\"\"\"\n",
    "# csv,timer,status,time\n",
    "# csv,total,ok,16987.687\n",
    "# csv,data head setup,ok,2431.984\n",
    "# csv,legal sampling location,ok,1225.086\n",
    "# csv,RunTFTCustomVersion tft only,ok,0.001\n",
    "# csv,RunTFTCustomVersion print,ok,0.43\n",
    "# csv,RunTFTCustomVersion A,ok,13839.855\n",
    "# csv,RunTFTCustomVersion init,ok,3.643\n",
    "# csv,RunTFTCustomVersion restore,ok,0.0\n",
    "# csv,RunTFTCustomVersion analysis,ok,0.0\n",
    "# csv,RunTFTCustomVersion train,ok,1334.243\n",
    "# csv,RunTFTCustomVersion bestfit,ok,12501.838\n",
    "# csv,RunTFTCustomVersion bestfit FTTrainingMonitor,ok,0.001\n",
    "# csv,RunTFTCustomVersion bestfit Checkpointfinalstate,ok,8.016\n",
    "# csv,RunTFTCustomVersion bestfit summary,ok,0.074\n",
    "# csv,RunTFTCustomVersion bestfit network summary,ok,0.16\n",
    "# csv,RunTFTCustomVersion bestfit TFTLSTMEncoder summary,ok,0.01\n",
    "# csv,RunTFTCustomVersion bestfit TFTLSTMDecoder summary,ok,0.01\n",
    "# csv,RunTFTCustomVersion bestfit Network attn layer summary,ok,0.031\n",
    "# csv,RunTFTCustomVersion bestfit Network attn layer attention summary,ok,0.011\n",
    "# csv,RunTFTCustomVersion bestfit finalize,ok,12493.506\n",
    "# csv,label1,ok,0.0\n",
    "# csv,label2,ok,0.002\n",
    "# csv,label3,ok,0.1\n",
    "\"\"\"\n",
    "r_project[\"20\"] = \\\n",
    "\"\"\"\n",
    "# csv,timer,status,time\n",
    "# csv,total,ok,28335.367\n",
    "# csv,data head setup,ok,2413.349\n",
    "# csv,legal sampling location,ok,1218.449\n",
    "# csv,RunTFTCustomVersion tft only,ok,0.001\n",
    "# csv,RunTFTCustomVersion print,ok,0.327\n",
    "# csv,RunTFTCustomVersion A,ok,25197.426\n",
    "# csv,RunTFTCustomVersion init,ok,3.046\n",
    "# csv,RunTFTCustomVersion restore,ok,0.0\n",
    "# csv,RunTFTCustomVersion analysis,ok,0.0\n",
    "# csv,RunTFTCustomVersion train,ok,12725.962\n",
    "# csv,RunTFTCustomVersion bestfit,ok,12468.321\n",
    "# csv,RunTFTCustomVersion bestfit FTTrainingMonitor,ok,0.001\n",
    "# csv,RunTFTCustomVersion bestfit Checkpointfinalstate,ok,6.748\n",
    "# csv,RunTFTCustomVersion bestfit summary,ok,0.074\n",
    "# csv,RunTFTCustomVersion bestfit network summary,ok,0.161\n",
    "# csv,RunTFTCustomVersion bestfit TFTLSTMEncoder summary,ok,0.01\n",
    "# csv,RunTFTCustomVersion bestfit TFTLSTMDecoder summary,ok,0.01\n",
    "# csv,RunTFTCustomVersion bestfit Network attn layer summary,ok,0.032\n",
    "# csv,RunTFTCustomVersion bestfit Network attn layer attention summary,ok,0.011\n",
    "# csv,RunTFTCustomVersion bestfit finalize,ok,12461.254\n",
    "# csv,label1,ok,0.0\n",
    "# csv,label2,ok,0.001\n",
    "# csv,label3,ok,0.1\n",
    "\"\"\"\n",
    "r_project[\"30\"] = \\\n",
    "\"\"\"\n",
    "# csv,timer,status,time\n",
    "# csv,total,ok,34740.246\n",
    "# csv,data head setup,ok,2410.69\n",
    "# csv,legal sampling location,ok,1213.391\n",
    "# csv,RunTFTCustomVersion tft only,ok,0.001\n",
    "# csv,RunTFTCustomVersion print,ok,0.331\n",
    "# csv,RunTFTCustomVersion A,ok,31617.488\n",
    "# csv,RunTFTCustomVersion init,ok,3.041\n",
    "# csv,RunTFTCustomVersion restore,ok,0.0\n",
    "# csv,RunTFTCustomVersion analysis,ok,0.0\n",
    "# csv,RunTFTCustomVersion train,ok,19057.935\n",
    "# csv,RunTFTCustomVersion bestfit,ok,12556.414\n",
    "# csv,RunTFTCustomVersion bestfit FTTrainingMonitor,ok,0.001\n",
    "# csv,RunTFTCustomVersion bestfit Checkpointfinalstate,ok,9.767\n",
    "# csv,RunTFTCustomVersion bestfit summary,ok,0.074\n",
    "# csv,RunTFTCustomVersion bestfit network summary,ok,0.161\n",
    "# csv,RunTFTCustomVersion bestfit TFTLSTMEncoder summary,ok,0.01\n",
    "# csv,RunTFTCustomVersion bestfit TFTLSTMDecoder summary,ok,0.01\n",
    "# csv,RunTFTCustomVersion bestfit Network attn layer summary,ok,0.032\n",
    "# csv,RunTFTCustomVersion bestfit Network attn layer attention summary,ok,0.012\n",
    "# csv,RunTFTCustomVersion bestfit finalize,ok,12546.33\n",
    "# csv,label1,ok,0.0\n",
    "# csv,label2,ok,0.002\n",
    "# csv,label3,ok,0.099\n",
    "\"\"\"\n",
    "r_project[\"40\"] = \\\n",
    "\"\"\"\n",
    "# csv,timer,status,time\n",
    "# csv,total,ok,41027.012\n",
    "# csv,data head setup,ok,2408.132\n",
    "# csv,legal sampling location,ok,1212.546\n",
    "# csv,RunTFTCustomVersion tft only,ok,0.001\n",
    "# csv,RunTFTCustomVersion print,ok,0.348\n",
    "# csv,RunTFTCustomVersion A,ok,37893.247\n",
    "# csv,RunTFTCustomVersion init,ok,3.021\n",
    "# csv,RunTFTCustomVersion restore,ok,0.0\n",
    "# csv,RunTFTCustomVersion analysis,ok,0.0\n",
    "# csv,RunTFTCustomVersion train,ok,25364.635\n",
    "# csv,RunTFTCustomVersion bestfit,ok,12525.493\n",
    "# csv,RunTFTCustomVersion bestfit FTTrainingMonitor,ok,0.001\n",
    "# csv,RunTFTCustomVersion bestfit Checkpointfinalstate,ok,1.185\n",
    "# csv,RunTFTCustomVersion bestfit summary,ok,0.074\n",
    "# csv,RunTFTCustomVersion bestfit network summary,ok,0.159\n",
    "# csv,RunTFTCustomVersion bestfit TFTLSTMEncoder summary,ok,0.01\n",
    "# csv,RunTFTCustomVersion bestfit TFTLSTMDecoder summary,ok,0.01\n",
    "# csv,RunTFTCustomVersion bestfit Network attn layer summary,ok,0.031\n",
    "# csv,RunTFTCustomVersion bestfit Network attn layer attention summary,ok,0.011\n",
    "# csv,RunTFTCustomVersion bestfit finalize,ok,12523.992\n",
    "# csv,label1,ok,0.0\n",
    "# csv,label2,ok,0.002\n",
    "# csv,label3,ok,0.1\n",
    "\"\"\"\n",
    "r_project[\"50\"] = \\\n",
    "\"\"\"\n",
    "# csv,timer,status,time\n",
    "# csv,total,ok,53764.009\n",
    "# csv,data head setup,ok,2854.599\n",
    "# csv,legal sampling location,ok,1438.517\n",
    "# csv,RunTFTCustomVersion tft only,ok,0.001\n",
    "# csv,RunTFTCustomVersion print,ok,0.347\n",
    "# csv,RunTFTCustomVersion A,ok,50223.893\n",
    "# csv,RunTFTCustomVersion init,ok,2.734\n",
    "# csv,RunTFTCustomVersion restore,ok,0.0\n",
    "# csv,RunTFTCustomVersion analysis,ok,0.0\n",
    "# csv,RunTFTCustomVersion train,ok,36815.795\n",
    "# csv,RunTFTCustomVersion bestfit,ok,13405.299\n",
    "# csv,RunTFTCustomVersion bestfit FTTrainingMonitor,ok,0.001\n",
    "# csv,RunTFTCustomVersion bestfit Checkpointfinalstate,ok,1.564\n",
    "# csv,RunTFTCustomVersion bestfit summary,ok,0.096\n",
    "# csv,RunTFTCustomVersion bestfit network summary,ok,0.206\n",
    "# csv,RunTFTCustomVersion bestfit TFTLSTMEncoder summary,ok,0.013\n",
    "# csv,RunTFTCustomVersion bestfit TFTLSTMDecoder summary,ok,0.013\n",
    "# csv,RunTFTCustomVersion bestfit Network attn layer summary,ok,0.04\n",
    "# csv,RunTFTCustomVersion bestfit Network attn layer attention summary,ok,0.014\n",
    "# csv,RunTFTCustomVersion bestfit finalize,ok,13403.328\n",
    "# csv,label1,ok,0.0\n",
    "# csv,label2,ok,0.002\n",
    "# csv,label3,ok,0.1\n",
    "\"\"\""
   ],
   "metadata": {
    "collapsed": false,
    "pycharm": {
     "name": "#%%\n"
    }
   }
  },
  {
   "cell_type": "code",
   "execution_count": null,
   "outputs": [],
   "source": [
    "def create_table(data, label=\"colab_P100\", gpu=\"P100\"):\n",
    "    df = pd.DataFrame()\n",
    "    for key in sorted(data.keys()):\n",
    "        print(key)\n",
    "        entry = read_cm_csv_benchmark(data[key], label=f\"{label}_{key}\")\n",
    "        entry.loc[len(entry.index)] = ['epoch', key]\n",
    "        entry.loc[len(entry.index)] = ['gpu', gpu]\n",
    "        df = pd.concat([df,entry], axis=1)\n",
    "    df = df.loc[:,~df.columns.duplicated()]\n",
    "    df = df.set_index('timer')\n",
    "\n",
    "    df_data = pd.DataFrame(df)\n",
    "    return df_data\n",
    "\n",
    "df_colab = create_table(colab)\n",
    "df_colab\n"
   ],
   "metadata": {
    "collapsed": false,
    "pycharm": {
     "name": "#%%\n"
    }
   }
  },
  {
   "cell_type": "code",
   "execution_count": null,
   "outputs": [],
   "source": [
    "df_project = create_table(r_project, label=\"A100_project\", gpu=\"A100\")\n",
    "df_project\n"
   ],
   "metadata": {
    "collapsed": false,
    "pycharm": {
     "name": "#%%\n"
    }
   }
  },
  {
   "cell_type": "code",
   "execution_count": null,
   "outputs": [],
   "source": [
    "df_local = create_table(r_localscratch, label=\"A100_local\", gpu=\"A100\")\n",
    "df_local\n"
   ],
   "metadata": {
    "collapsed": false,
    "pycharm": {
     "name": "#%%\n"
    }
   }
  },
  {
   "cell_type": "code",
   "execution_count": null,
   "outputs": [],
   "source": [
    "def select_epoch_total(df):\n",
    "    a = df.loc[['total','epoch'],:].transpose()\n",
    "    a = a.astype({\"epoch\": int})\n",
    "    print (a[\"epoch\"])\n",
    "    x = a[\"epoch\"].values\n",
    "    y = a[\"total\"].values\n",
    "\n",
    "    print(x)\n",
    "    print(y)\n",
    "    return x, y"
   ],
   "metadata": {
    "collapsed": false,
    "pycharm": {
     "name": "#%%\n"
    }
   }
  },
  {
   "cell_type": "code",
   "execution_count": null,
   "outputs": [],
   "source": [
    "x, y = select_epoch_total(df)\n",
    "x_a100_local, y_a100_local = select_epoch_total(df_local)\n",
    "x_a100_project, y_a100_project = select_epoch_total(df_project)\n"
   ],
   "metadata": {
    "collapsed": false,
    "pycharm": {
     "name": "#%%\n"
    }
   }
  },
  {
   "cell_type": "code",
   "execution_count": null,
   "outputs": [],
   "source": [
    "x_pred = [0, 2, 10, 20, 30, 40, 50, 60, 66]\n",
    "y_pred = predict_time(x, y, x_pred)\n",
    "\n",
    "figure(figsize=(8, 6), dpi=360)\n",
    "\n",
    "import matplotlib.pyplot as plt\n",
    "\n",
    "sns.scatterplot(x=x, y=y)\n",
    "sns.lineplot(x=x, y=y)\n",
    "sns.lineplot(x=x_pred, y=y_pred)\n",
    "plt.xlabel(\"Epochs\")\n",
    "plt.ylabel(\"Time/s\")\n",
    "plt.title(\"Colab P100\")\n",
    "for i in range(len(x_pred)):\n",
    "    value = humanize.precisedelta(y_pred[i])\n",
    "    plt.annotate(f\"{x_pred[i], value}\", (x_pred[i], y_pred[i]))\n",
    "\n",
    "plt.axvline(33, min(y), max(y))\n",
    "plt.show()\n",
    "\n",
    "x_p100_colab = x\n",
    "y_p100_colab = y\n",
    "\n"
   ],
   "metadata": {
    "collapsed": false,
    "pycharm": {
     "name": "#%%\n"
    }
   }
  },
  {
   "cell_type": "code",
   "execution_count": null,
   "outputs": [],
   "source": [
    "def time_string(content):\n",
    "    return content.replace(\" hours\", \"h\").replace(\" minutes\", \"m\").replace(\" seconds\", \"s\").replace(\"days\", \"d\").replace(\"and\", \"\").replace(\",\", \"\")\n",
    "\n",
    "figure(figsize=(8, 6), dpi=360)\n",
    "\n",
    "def display_data(x, y, label=\"RTX3090\", color=\"blue\"):\n",
    "    sns.scatterplot(x=x, y=y)\n",
    "    sns.lineplot(x=x, y=y, label=label)\n",
    "    for i in range(len(x)):\n",
    "        value = time_string(humanize.precisedelta(y[i]))\n",
    "        plt.annotate(f\"{x[i], value}\", (x[i], y[i]), color=color)\n",
    "\n",
    "x= x_rtx3090\n",
    "y =y_rtx3090\n",
    "display_data(x, y, label=\"RTX3090\", color=\"blue\")\n",
    "\n",
    "\n",
    "x=x_p100_colab\n",
    "y=y_p100_colab\n",
    "display_data(x, y, label=\"P100 colab\", color=\"orange\")\n",
    "\n",
    "x=x_a100_local\n",
    "y=y_a100_local\n",
    "display_data(x, y, label=\"V100 local\", color=\"green\")\n",
    "\n",
    "x=x_a100_project\n",
    "y=y_a100_project\n",
    "display_data(x, y, label=\"A100 project\", color=\"red\")\n",
    "\n",
    "\n",
    "plt.xlabel(\"Epochs\")\n",
    "plt.ylabel(\"Time/s\")\n",
    "# plt.title(\"Colab P100 vs RTX3090\")\n",
    "\n",
    "\n",
    "\n",
    "#plt.axvline(33, min(y), max(y))\n",
    "plt.show()\n"
   ],
   "metadata": {
    "collapsed": false,
    "pycharm": {
     "name": "#%%\n"
    }
   }
  },
  {
   "cell_type": "markdown",
   "source": [],
   "metadata": {
    "collapsed": false,
    "pycharm": {
     "name": "#%% md\n"
    }
   }
  },
  {
   "cell_type": "markdown",
   "source": [],
   "metadata": {
    "collapsed": false,
    "pycharm": {
     "name": "#%% md\n"
    }
   }
  },
  {
   "cell_type": "code",
   "execution_count": null,
   "outputs": [],
   "source": [
    "epoch_2\n",
    "print (epoch_2.keys())\n",
    "epoch_2 = epoch_2.set_index('Timer')\n",
    "epoch2 = epoch_2.loc[[\"total\", \"RunTFTCustomVersion bestfit\"]]\n",
    "epoch_2"
   ],
   "metadata": {
    "collapsed": false,
    "pycharm": {
     "name": "#%%\n"
    }
   }
  },
  {
   "cell_type": "markdown",
   "source": [],
   "metadata": {
    "collapsed": false,
    "pycharm": {
     "name": "#%% md\n"
    }
   }
  },
  {
   "cell_type": "code",
   "execution_count": null,
   "outputs": [],
   "source": [
    "b = df_colab\n",
    "b.index.name = \"Timer\"\n",
    "b = df.loc[[\"total\", \"RunTFTCustomVersion bestfit\"]]\n",
    "b = b.rename(index={'RunTFTCustomVersion bestfit': 'bestfit'})\n",
    "\n",
    "b = b[\"colab_P100_2\"]\n",
    "b"
   ],
   "metadata": {
    "collapsed": false,
    "pycharm": {
     "name": "#%%\n"
    }
   }
  },
  {
   "cell_type": "code",
   "execution_count": null,
   "outputs": [],
   "source": [
    "c=  epoch_2.loc[[\"total\", \"RunTFTCustomVersion bestfit\"]]\n",
    "c = c.rename(index={'RunTFTCustomVersion bestfit': 'bestfit'})\n",
    "c"
   ],
   "metadata": {
    "collapsed": false,
    "pycharm": {
     "name": "#%%\n"
    }
   }
  },
  {
   "cell_type": "code",
   "execution_count": null,
   "outputs": [],
   "source": [
    "result = pd.concat([c,b], axis=1)\n",
    "result = result.transpose()\n",
    "result[\"timer\"] = result.index\n",
    "result[\"total\"] = result[\"total\"].astype(float)\n",
    "result[\"bestfit\"] = result[\"bestfit\"].astype(float)\n",
    "result = result.sort_values(by='total', ascending=False)\n",
    "result"
   ],
   "metadata": {
    "collapsed": false,
    "pycharm": {
     "name": "#%%\n"
    }
   }
  },
  {
   "cell_type": "code",
   "execution_count": null,
   "outputs": [],
   "source": [
    "\n",
    "figure(figsize=(8, 6), dpi=360)\n",
    "\n",
    "sns.set_theme(style=\"whitegrid\")\n",
    "tips = sns.load_dataset(\"tips\")\n",
    "ax = sns.barplot(data=result, x=\"timer\", y=\"total\")\n",
    "ax = sns.barplot(data=result, x=\"timer\", y=\"bestfit\")\n",
    "ax.tick_params(axis='x', rotation=90)"
   ],
   "metadata": {
    "collapsed": false,
    "pycharm": {
     "name": "#%%\n"
    }
   }
  },
  {
   "cell_type": "code",
   "execution_count": null,
   "outputs": [],
   "source": [
    "\n"
   ],
   "metadata": {
    "collapsed": false,
    "pycharm": {
     "name": "#%%\n"
    }
   }
  },
  {
   "cell_type": "code",
   "execution_count": null,
   "outputs": [],
   "source": [],
   "metadata": {
    "collapsed": false,
    "pycharm": {
     "name": "#%%\n"
    }
   }
  }
 ],
 "metadata": {
  "kernelspec": {
   "display_name": "Python 3 (ipykernel)",
   "language": "python",
   "name": "python3"
  },
  "language_info": {
   "codemirror_mode": {
    "name": "ipython",
    "version": 3
   },
   "file_extension": ".py",
   "mimetype": "text/x-python",
   "name": "python",
   "nbconvert_exporter": "python",
   "pygments_lexer": "ipython3",
   "version": "3.10.2"
  }
 },
 "nbformat": 4,
 "nbformat_minor": 4
}