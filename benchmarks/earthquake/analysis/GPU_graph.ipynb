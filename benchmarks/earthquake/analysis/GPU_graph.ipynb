{
 "cells": [
  {
   "cell_type": "code",
   "execution_count": 1,
   "id": "44b3f0a7-26eb-47e4-81a9-2d9458e0e933",
   "metadata": {
    "tags": [],
    "pycharm": {
     "name": "#%%\n"
    }
   },
   "outputs": [],
   "source": [
    "def AUC_power(file_path):\n",
    "    import pandas as pd\n",
    "    import numpy as np\n",
    "    import matplotlib.pyplot as plt\n",
    "    import seaborn as sns\n",
    "    from numpy import trapz\n",
    "\n",
    "    #import data\n",
    "    gpu_df = pd.read_csv(file_path, skiprows=1,header=None)\n",
    "\n",
    "    #get and fix header\n",
    "    header = gpu_df.loc[0]\n",
    "    header = header.str[2:].str.strip()\n",
    "\n",
    "    #remove extra header column and properly add header.\n",
    "    gpu_df = gpu_df.drop(index = [0]).reset_index(drop=True)\n",
    "    gpu_df= gpu_df.set_axis(header,axis=1,inplace=False)\n",
    "\n",
    "    #fix column data types\n",
    "    int_col = list(gpu_df.columns[1:-1])\n",
    "    gpu_df[int_col] = gpu_df[int_col].astype('int')\n",
    "    float_col = list(gpu_df.columns[-1:])\n",
    "    gpu_df[float_col] = gpu_df[float_col].astype('float')\n",
    "    time_col = list(gpu_df.columns[:1])[0]\n",
    "    gpu_df[time_col] = pd.to_datetime(gpu_df[time_col].str.split(\".\").str[0],format='%Y-%m-%d:%H:%M:%S')\n",
    "\n",
    "    #group by time and average all same time values\n",
    "    gpu_df = gpu_df.groupby('time').mean()\n",
    "\n",
    "    #calculate area and print\n",
    "    area = trapz(np.array(gpu_df[gpu_df.columns[-1]]),dx=5)\n",
    "    print(\"area =\", area)"
   ]
  },
  {
   "cell_type": "code",
   "execution_count": 5,
   "outputs": [
    {
     "name": "stdout",
     "output_type": "stream",
     "text": [
      "/home/green/Desktop/github/mlcommons/benchmarks/earthquake/analysis\r\n"
     ]
    }
   ],
   "source": [
    "!pwd"
   ],
   "metadata": {
    "collapsed": false,
    "pycharm": {
     "name": "#%%\n"
    }
   }
  },
  {
   "cell_type": "code",
   "execution_count": 6,
   "id": "cf6db3aa-2430-4865-8197-7e46c067bc3b",
   "metadata": {
    "pycharm": {
     "name": "#%%\n"
    }
   },
   "outputs": [
    {
     "name": "stdout",
     "output_type": "stream",
     "text": [
      "area = 8368659.8875\n"
     ]
    }
   ],
   "source": [
    "file_path = \"gpu0.log\"\n",
    "AUC_power(file_path)"
   ]
  },
  {
   "cell_type": "code",
   "execution_count": 7,
   "id": "a37157d6-c334-4a03-9465-8296a8e0b744",
   "metadata": {
    "pycharm": {
     "name": "#%%\n"
    }
   },
   "outputs": [],
   "source": [
    "import pandas as pd\n",
    "import numpy as np\n",
    "import matplotlib.pyplot as plt\n",
    "import seaborn as sns\n",
    "from numpy import trapz"
   ]
  },
  {
   "cell_type": "code",
   "execution_count": 8,
   "id": "412e51cc-2b52-4207-8168-2a729e379129",
   "metadata": {
    "pycharm": {
     "name": "#%%\n"
    }
   },
   "outputs": [],
   "source": [
    "gpu_df = pd.read_csv(file_path, skiprows=1,header=None)"
   ]
  },
  {
   "cell_type": "code",
   "execution_count": 9,
   "id": "ffb4d3d5-6109-4a6d-b97a-065e744defd8",
   "metadata": {
    "pycharm": {
     "name": "#%%\n"
    }
   },
   "outputs": [],
   "source": [
    "header = gpu_df.loc[0]\n",
    "header = header.str[2:].str.strip()"
   ]
  },
  {
   "cell_type": "code",
   "execution_count": 10,
   "id": "be5f38ea-412c-490f-8c9a-cfe38f2bf6c1",
   "metadata": {
    "pycharm": {
     "name": "#%%\n"
    }
   },
   "outputs": [],
   "source": [
    "gpu_df = gpu_df.drop(index = [0]).reset_index(drop=True)\n",
    "gpu_df= gpu_df.set_axis(header,axis=1,inplace=False)"
   ]
  },
  {
   "cell_type": "code",
   "execution_count": 11,
   "id": "8e09ba7e-f72b-43a0-955e-7801c9c000ce",
   "metadata": {
    "pycharm": {
     "name": "#%%\n"
    }
   },
   "outputs": [],
   "source": [
    "int_col = list(gpu_df.columns[1:-1])\n",
    "gpu_df[int_col] = gpu_df[int_col].astype('int')"
   ]
  },
  {
   "cell_type": "code",
   "execution_count": 12,
   "id": "9aa7869e-76cb-4e01-83d1-829262283ecd",
   "metadata": {
    "pycharm": {
     "name": "#%%\n"
    }
   },
   "outputs": [],
   "source": [
    "float_col = list(gpu_df.columns[-1:])\n",
    "gpu_df[float_col] = gpu_df[float_col].astype('float')"
   ]
  },
  {
   "cell_type": "code",
   "execution_count": 13,
   "id": "edb3cc0c-6652-4ebb-baf8-6e425539fae6",
   "metadata": {
    "pycharm": {
     "name": "#%%\n"
    }
   },
   "outputs": [],
   "source": [
    "time_col = list(gpu_df.columns[:1])[0]\n",
    "gpu_df[time_col] = pd.to_datetime(gpu_df[time_col].str.split(\".\").str[0],format='%Y-%m-%d:%H:%M:%S')"
   ]
  },
  {
   "cell_type": "code",
   "execution_count": 14,
   "id": "ece9e86d-9457-4dcb-82e3-932709b69f99",
   "metadata": {
    "pycharm": {
     "name": "#%%\n"
    }
   },
   "outputs": [],
   "source": [
    "gpu_df = gpu_df.groupby('time').mean()"
   ]
  },
  {
   "cell_type": "code",
   "execution_count": 17,
   "id": "0faf56a4-dd94-4617-9851-e73a18725bfb",
   "metadata": {
    "tags": [],
    "pycharm": {
     "name": "#%%\n"
    }
   },
   "outputs": [
    {
     "data": {
      "text/plain": "<AxesSubplot:xlabel='time', ylabel='power_draw W'>"
     },
     "execution_count": 17,
     "metadata": {},
     "output_type": "execute_result"
    },
    {
     "data": {
      "text/plain": "<Figure size 432x288 with 1 Axes>",
      "image/png": "[encoded data removed]"
     },
     "metadata": {},
     "output_type": "display_data"
    }
   ],
   "source": [
    "sns.lineplot(data=gpu_df, x=gpu_df.index.name, y=gpu_df.columns[-1])"
   ]
  },
  {
   "cell_type": "code",
   "execution_count": 16,
   "outputs": [
    {
     "name": "stdout",
     "output_type": "stream",
     "text": [
      "area = 8368659.8875\n",
      "CPU times: user 378 µs, sys: 443 µs, total: 821 µs\n",
      "Wall time: 570 µs\n"
     ]
    }
   ],
   "source": [
    "%%time\n",
    "area = trapz(np.array(gpu_df[gpu_df.columns[-1]]),dx=5)\n",
    "print(\"area =\", area)"
   ],
   "metadata": {
    "collapsed": false,
    "pycharm": {
     "name": "#%%\n"
    }
   }
  },
  {
   "cell_type": "code",
   "execution_count": null,
   "outputs": [],
   "source": [],
   "metadata": {
    "collapsed": false,
    "pycharm": {
     "name": "#%%\n"
    }
   }
  }
 ],
 "metadata": {
  "kernelspec": {
   "display_name": "Python 3 (ipykernel)",
   "language": "python",
   "name": "python3"
  },
  "language_info": {
   "codemirror_mode": {
    "name": "ipython",
    "version": 3
   },
   "file_extension": ".py",
   "mimetype": "text/x-python",
   "name": "python",
   "nbconvert_exporter": "python",
   "pygments_lexer": "ipython3",
   "version": "3.8.8"
  }
 },
 "nbformat": 4,
 "nbformat_minor": 5
}