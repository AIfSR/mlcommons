{
 "cells": [
  {
   "cell_type": "markdown",
   "id": "1a6b30ac",
   "metadata": {},
   "source": [
    "# MLCommons Earthquake GPU Power Analysis\n",
    "- Generates GPU Power Usage Graphics"
   ]
  },
  {
   "cell_type": "code",
   "execution_count": null,
   "id": "15dbdac4",
   "metadata": {},
   "outputs": [],
   "source": [
    "import os\n",
    "import re\n",
    "import glob\n",
    "import pickle\n",
    "import datetime\n",
    "import numpy as np\n",
    "import pandas as pd\n",
    "import seaborn as sns\n",
    "from datetime import timedelta\n",
    "import matplotlib.dates as md\n",
    "import matplotlib.pyplot as plt"
   ]
  },
  {
   "cell_type": "markdown",
   "id": "841db1f4",
   "metadata": {},
   "source": [
    "### Plotting Functions"
   ]
  },
  {
   "cell_type": "code",
   "execution_count": null,
   "id": "faaaadea",
   "metadata": {},
   "outputs": [],
   "source": [
    "def plot_power_usage(df, path, span='total', normalize=True):\n",
    "    \"\"\" Create power usage plot and save figure.\n",
    "    Args:\n",
    "        df: power dataframe. \n",
    "        path: output path.\n",
    "        span: 'total' or 'train' or 'avg'\n",
    "        normalize: bool argument to normalize to number of epochs\n",
    "    \"\"\"\n",
    "    fig = plt.figure(figsize=(8, 6), dpi=360)\n",
    "    power_usage_dir = os.path.join(path,'power_usage')\n",
    "    if not os.path.exists(power_usage_dir):\n",
    "        os.mkdir(power_usage_dir)\n",
    "    \n",
    "    # augment data\n",
    "    df['epochs'] = df['epochs'].astype(int)\n",
    "    df.sort_values('epochs')   \n",
    "    df['kWh/epoch_total'] = df['kWh_total']/df['epochs']\n",
    "    df['kWh/epoch_fit'] = df['kWh_fit']/df['epochs']\n",
    "    \n",
    "    if span == 'total' and normalize == False:\n",
    "        # plot total notebook epochs vs. kWh\n",
    "        save_name = 'total_epoch_vs_watts'\n",
    "        sns.barplot(x='epochs', y='kWh_total', hue='gpu',data=df) \n",
    "        plt.title('Total Notebook: Epochs vs. kWh')\n",
    "        plt.ylabel('kWh')\n",
    "\n",
    "    if span == 'total' and normalize == True:\n",
    "        # plot total notebook kWh per Epoch plot\n",
    "        save_name = 'total_kWh_per_epoch'\n",
    "        sns.barplot(x='epochs', y='kWh/epoch_total', hue='gpu',data=df) \n",
    "        plt.title('Total Notebook: Epochs vs. kWh/Epoch')\n",
    "        plt.ylabel('kWh/epoch')\n",
    "    \n",
    "    if span == 'train' and normalize == False:\n",
    "        # plot model fit epochs vs. kWh\n",
    "        save_name = 'model_fit_epoch_vs_watts'\n",
    "        sns.barplot(x='epochs', y='kWh_fit', hue='gpu',data=df) \n",
    "        plt.title('Model Fit: Epochs vs. kWh') \n",
    "        plt.ylabel('kWh')\n",
    "    \n",
    "    if span == 'train' and normalize == True:\n",
    "        # plot model fit kWh per Epoch plot\n",
    "        save_name = 'model_fit_kWh_per_epoch'\n",
    "        sns.set_style(\"whitegrid\")\n",
    "        sns.barplot(x='epochs', y='kWh/epoch_fit', hue='gpu',data=df) \n",
    "        plt.title('Model Fit: Epochs vs. kWh/Epoch')\n",
    "        plt.ylabel('kWh/epoch')\n",
    "    \n",
    "    if span == 'avg' and normalize == True:\n",
    "        # plot average model fit kWh per Epoch\n",
    "        save_name = 'average_kWh_per_epoch'\n",
    "        grouped = df.groupby('gpu').mean()['kWh/epoch_fit'].reset_index()\n",
    "        sns.set_style(\"whitegrid\")\n",
    "        sns.barplot(x=\"gpu\", y=\"kWh/epoch_fit\", data=grouped)\n",
    "        plt.title('Average kWh/Epoch per GPU', fontsize=14)\n",
    "        plt.ylabel('kWh/epoch', fontsize=12)\n",
    "        plt.xlabel('GPU', fontsize=12)\n",
    "    plt.legend(bbox_to_anchor=(1.01, 1), loc='upper left')\n",
    "    plot, _ = SAVEFIG(fig, save_name, power_usage_dir)\n",
    "    plt.show()\n",
    "    plt.close(fig)"
   ]
  },
  {
   "cell_type": "code",
   "execution_count": null,
   "id": "d5cd499c",
   "metadata": {},
   "outputs": [],
   "source": [
    "def SAVEFIG(fig, filename, path=None, formats=('png', 'pdf')):\n",
    "    fileout = os.path.join(path,filename)\n",
    "    for my_format in formats:\n",
    "        fig.savefig(f\"{fileout}.{my_format}\", format=my_format, bbox_inches=\"tight\")\n",
    "    return 1, tuple(f'{fileout}.{fmt}' for fmt in formats)"
   ]
  },
  {
   "cell_type": "markdown",
   "id": "5a1fa4e4",
   "metadata": {},
   "source": [
    "### Load Pickle"
   ]
  },
  {
   "cell_type": "code",
   "execution_count": null,
   "id": "282f7b13",
   "metadata": {},
   "outputs": [],
   "source": [
    "cwd = os.getcwd()\n",
    "pickle_file = os.path.join(cwd,'experiment_data.pkl')\n",
    "with open(pickle_file, 'rb') as f:\n",
    "    loaded_dict = pickle.load(f)"
   ]
  },
  {
   "cell_type": "markdown",
   "id": "95fc5420",
   "metadata": {},
   "source": [
    "### Display Available Data"
   ]
  },
  {
   "cell_type": "code",
   "execution_count": null,
   "id": "213e549e",
   "metadata": {},
   "outputs": [],
   "source": [
    "data = pd.DataFrame()\n",
    "for experiment in loaded_dict.keys():\n",
    "    run = {}\n",
    "    gpu = loaded_dict[experiment]['run_info']['gpu']\n",
    "    system = loaded_dict[experiment]['run_info']['system']\n",
    "    filesystem = loaded_dict[experiment]['run_info']['filesystem']\n",
    "    run['count'] = 1\n",
    "    run['sys'] = f\"{gpu}-{system}-{filesystem}\"\n",
    "    run_df = pd.DataFrame([run])\n",
    "    data = pd.concat([data, run_df], ignore_index=True) \n",
    "data.groupby('sys').count()"
   ]
  },
  {
   "cell_type": "markdown",
   "id": "1b3165d7",
   "metadata": {},
   "source": [
    "### Create Analysis Outputs"
   ]
  },
  {
   "cell_type": "code",
   "execution_count": null,
   "id": "b93c56e4",
   "metadata": {
    "tags": []
   },
   "outputs": [],
   "source": [
    "analysis_path = os.path.join(os.getcwd(),'analysis')\n",
    "\n",
    "power_df = pd.DataFrame()\n",
    "for experiment in loaded_dict.keys():\n",
    "    power_data = loaded_dict[experiment]['power_df']\n",
    "    if power_data is not None:\n",
    "        power_df = pd.concat([power_df,power_data])\n",
    "\n",
    "# power usage plots\n",
    "plot_power_usage(power_df, analysis_path, span='total', normalize=False)\n",
    "plot_power_usage(power_df, analysis_path, span='total', normalize=True)\n",
    "plot_power_usage(power_df, analysis_path, span='train', normalize=False)\n",
    "plot_power_usage(power_df, analysis_path, span='train', normalize=True)\n",
    "plot_power_usage(power_df, analysis_path, span='avg', normalize=True)"
   ]
  }
 ],
 "metadata": {
  "kernelspec": {
   "display_name": "Python 3 (ipykernel)",
   "language": "python",
   "name": "python3"
  },
  "language_info": {
   "codemirror_mode": {
    "name": "ipython",
    "version": 3
   },
   "file_extension": ".py",
   "mimetype": "text/x-python",
   "name": "python",
   "nbconvert_exporter": "python",
   "pygments_lexer": "ipython3",
   "version": "3.8.11"
  }
 },
 "nbformat": 4,
 "nbformat_minor": 5
}
