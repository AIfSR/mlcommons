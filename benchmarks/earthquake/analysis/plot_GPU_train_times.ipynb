{
 "cells": [
  {
   "cell_type": "markdown",
   "id": "6c665687",
   "metadata": {},
   "source": [
    "# MLCommons Earthquake GPU Time Analysis\n",
    "- Generates Interactive plot of experiments and execution time\n",
    "- Create custom plots for experiments of interest"
   ]
  },
  {
   "cell_type": "code",
   "execution_count": null,
   "id": "19aa5e00",
   "metadata": {},
   "outputs": [],
   "source": [
    "import os\n",
    "import re\n",
    "import glob\n",
    "import pickle\n",
    "import datetime\n",
    "import itertools\n",
    "import numpy as np\n",
    "import pandas as pd\n",
    "import seaborn as sns\n",
    "from datetime import timedelta\n",
    "import matplotlib.dates as md\n",
    "import matplotlib.pyplot as plt\n",
    "from bokeh.palettes import Spectral4, Category20, Spectral11, Category20_20\n",
    "from bokeh.plotting import figure, output_file, show\n",
    "from bokeh.models import Legend\n",
    "from bokeh.io import output_notebook"
   ]
  },
  {
   "cell_type": "code",
   "execution_count": null,
   "id": "667bf925",
   "metadata": {},
   "outputs": [],
   "source": [
    "def plot_train_times(data_dict, path, gpu=None, timer='RunTFTCustomVersion train', title=None, sys=True, plot_dict=False):\n",
    "    \"\"\" Create plot to compare training times and save figure.\n",
    "    Args:\n",
    "        data_dict: dictionary of run data. \n",
    "        path: output path.\n",
    "    \"\"\"\n",
    "    fig = plt.figure(figsize=(8, 6), dpi=360)\n",
    "    time_dir = os.path.join(path,'train_times','static')\n",
    "    \n",
    "\n",
    "    if sys == False:\n",
    "        data = pd.DataFrame(columns=['gpu','epochs','time'])\n",
    "        for experiment in data_dict.keys():\n",
    "            if not plot_dict is False:\n",
    "                if not experiment in plot_dict.keys():\n",
    "                    continue\n",
    "            row = pd.Series(dtype='object')            \n",
    "            timer_df = data_dict[experiment]['timer_df']\n",
    "            if timer in timer_df['timer'].values:\n",
    "                row['time'] = float(timer_df.loc[timer_df['timer'] == timer]['time'].values[0])/3600\n",
    "                row['gpu'] = data_dict[experiment]['run_info']['gpu']\n",
    "                row['epochs'] = int(data_dict[experiment]['run_info']['epochs'])\n",
    "                data = pd.concat([data, row.to_frame().T])\n",
    "            else:\n",
    "                print(f\"Missing train timer for {experiment}\")\n",
    "\n",
    "        # update dtypes\n",
    "        data['epochs'] = data['epochs'].astype(int)\n",
    "        data['time'] = data['time'].astype(float)\n",
    "        hue = 'gpu'\n",
    "        timer_ = timer.replace(' ','_')\n",
    "        #save_name = os.path.join(time_dir,f'{timer_}_times.png')\n",
    "        save_name = f'{timer_}_times'\n",
    "        \n",
    "    else:\n",
    "        data = pd.DataFrame()\n",
    "        for experiment in data_dict.keys():\n",
    "            run = {}\n",
    "            run['gpu'] = data_dict[experiment]['run_info']['gpu']\n",
    "            run['system'] = data_dict[experiment]['run_info']['system']\n",
    "            run['filesystem'] = data_dict[experiment]['run_info']['filesystem']\n",
    "            run['epochs'] = int(data_dict[experiment]['run_info']['epochs'])\n",
    "            run['date'] = data_dict[experiment]['run_info']['date']\n",
    "            timer_df = data_dict[experiment]['timer_df']\n",
    "            if timer in timer_df['timer'].values:\n",
    "                run['time'] = float(timer_df[timer_df['timer'] == timer]['time'].values[0])/3600\n",
    "                run['experiment'] = f\"{run['gpu']}-{run['system']}-{run['filesystem']}-{run['date']}\"\n",
    "                if not plot_dict is False:\n",
    "                    if not run['experiment'] in plot_dict.keys():\n",
    "                        continue                 \n",
    "                    run['experiment'] = plot_dict[run['experiment']]\n",
    "                run_df = pd.DataFrame([run])\n",
    "                data = pd.concat([data, run_df], ignore_index=True) \n",
    "        data = data[~data['experiment'].str.contains('rivanna-rivanna')]\n",
    "        if gpu is not None:\n",
    "            data = data[data['gpu']== gpu]\n",
    "        hue = 'experiment'\n",
    "        timer = timer.replace(' ','_')\n",
    "        save_name = f'{gpu}_{timer}_times'\n",
    "    \n",
    "    # create plot\n",
    "    sns.lineplot(x='epochs', \n",
    "                 y='time',\n",
    "                 hue=hue,\n",
    "                 data=data,\n",
    "                 legend = False)\n",
    "    sns.scatterplot(x='epochs', \n",
    "                    y='time',\n",
    "                    hue=hue,\n",
    "                    s=50,\n",
    "                    data=data)\n",
    "    \n",
    "    epoch_list = data['epochs'].unique()\n",
    "    if title is not None:\n",
    "        plt.title(title)\n",
    "        save_name = title\n",
    "    else:\n",
    "        plt.title(f'{timer} Time Comparison')\n",
    "    plt.ylabel('Time (hours)')\n",
    "    sns.set_style(\"whitegrid\")\n",
    "    if gpu == None and sys == True:\n",
    "        plt.legend(bbox_to_anchor=(1.01, 1), loc='upper left')\n",
    "    if not os.path.exists(time_dir):\n",
    "        os.makedirs(time_dir, exist_ok=True)\n",
    "    plot, _ = SAVEFIG(fig, save_name, time_dir)\n",
    "    if not plot_dict is False:\n",
    "        plt.show()\n",
    "    plt.close(fig)"
   ]
  },
  {
   "cell_type": "code",
   "execution_count": null,
   "id": "304a7db4",
   "metadata": {},
   "outputs": [],
   "source": [
    "def plot_interactive_train_times(data_dict, path, gpu=None, timer='RunTFTCustomVersion train', title=None, sys=True):\n",
    "    \"\"\" Create plot to compare training times and save figure.\n",
    "    Args:\n",
    "        data_dict: dictionary of run data. \n",
    "        path: output path.\n",
    "    \"\"\"\n",
    "    p = figure(width=1000, height=600)\n",
    "    time_dir = os.path.join(path,'train_times', 'interactive')\n",
    "    colors = itertools.cycle(Category20_20)\n",
    "    output_notebook()\n",
    "\n",
    "    if sys == False:\n",
    "        data = pd.DataFrame(columns=['gpu','epochs','time'])\n",
    "        for experiment in data_dict.keys():\n",
    "            row = pd.Series(dtype='object')            \n",
    "            timer_df = data_dict[experiment]['timer_df']\n",
    "            if timer in timer_df['timer'].values:\n",
    "                row['time'] = float(timer_df.loc[timer_df['timer'] == timer]['time'].values[0])/3600\n",
    "                row['gpu'] = data_dict[experiment]['run_info']['gpu']\n",
    "                row['epochs'] = int(data_dict[experiment]['run_info']['epochs'])\n",
    "                data = pd.concat([data, row.to_frame().T])\n",
    "            else:\n",
    "                print(f\"Missing train timer for {experiment}\")\n",
    "\n",
    "        # update dtypes\n",
    "        data['epochs'] = data['epochs'].astype(int)\n",
    "        data['time'] = data['time'].astype(float)\n",
    "        group = 'gpu'\n",
    "        timer_ = timer.replace(' ','_')\n",
    "        save_name = f'{timer_}_times'\n",
    "        \n",
    "    else:\n",
    "        data = pd.DataFrame()\n",
    "        for experiment in data_dict.keys():\n",
    "            run = {}\n",
    "            run['gpu'] = data_dict[experiment]['run_info']['gpu']\n",
    "            run['system'] = data_dict[experiment]['run_info']['system']\n",
    "            run['filesystem'] = data_dict[experiment]['run_info']['filesystem']\n",
    "            run['epochs'] = int(data_dict[experiment]['run_info']['epochs'])\n",
    "            run['date'] = data_dict[experiment]['run_info']['date']\n",
    "            timer_df = data_dict[experiment]['timer_df']\n",
    "            if timer in timer_df['timer'].values:\n",
    "                run['time'] = float(timer_df[timer_df['timer'] == timer]['time'].values[0])/3600\n",
    "                run['sys'] = f\"{run['gpu']}-{run['system']}-{run['filesystem']}-{run['date']}\"\n",
    "                run_df = pd.DataFrame([run])\n",
    "                data = pd.concat([data, run_df], ignore_index=True)        \n",
    "        data = data[~data['sys'].str.contains('rivanna-rivanna')]\n",
    "        if gpu is not None:\n",
    "            data = data[data['gpu']== gpu]\n",
    "        group = 'sys'\n",
    "        timer_ = timer.replace(' ','_')\n",
    "        save_name = f'{gpu}_{timer_}_times'   \n",
    "\n",
    "    for item, color in zip(data[group].unique(), colors):\n",
    "        filtered = data[data[group] == item].sort_values('epochs')\n",
    "        p.line(filtered['epochs'], filtered['time'], line_width=2, color=color, alpha=0.8, legend_label=item)\n",
    "\n",
    "    p.legend.location = 'top_right'\n",
    "    p.legend.orientation = \"vertical\"\n",
    "    p.legend.click_policy=\"hide\"\n",
    "\n",
    "    new_legend = p.legend[0]\n",
    "    p.legend[0] = None\n",
    "    p.add_layout(new_legend, 'right')\n",
    "    \n",
    "    if not os.path.exists(time_dir):\n",
    "        os.makedirs(time_dir, exist_ok=True)\n",
    "    \n",
    "    output_file(os.path.join(time_dir,f\"{timer_}_times_interactive.html\"), title=\"interactive_legend.py example\")\n",
    "    show(p)"
   ]
  },
  {
   "cell_type": "code",
   "execution_count": null,
   "id": "5a94bacf",
   "metadata": {},
   "outputs": [],
   "source": [
    "def SAVEFIG(fig, filename, path=None, formats=('png', 'pdf')):\n",
    "    fileout = os.path.join(path,filename)\n",
    "    for my_format in formats:\n",
    "        fig.savefig(f\"{fileout}.{my_format}\", format=my_format, bbox_inches=\"tight\")\n",
    "    return 1, tuple(f'{fileout}.{fmt}' for fmt in formats)"
   ]
  },
  {
   "cell_type": "markdown",
   "id": "4db854d8",
   "metadata": {},
   "source": [
    "### Load Pickle"
   ]
  },
  {
   "cell_type": "code",
   "execution_count": null,
   "id": "ce3fd780",
   "metadata": {},
   "outputs": [],
   "source": [
    "cwd = os.getcwd()\n",
    "pickle_file = os.path.join(cwd,'experiment_data.pkl')\n",
    "with open(pickle_file, 'rb') as f:\n",
    "    loaded_dict = pickle.load(f)"
   ]
  },
  {
   "cell_type": "markdown",
   "id": "737a620a",
   "metadata": {},
   "source": [
    "### Display Available Data"
   ]
  },
  {
   "cell_type": "code",
   "execution_count": null,
   "id": "4f1e5212",
   "metadata": {},
   "outputs": [],
   "source": [
    "data = pd.DataFrame()\n",
    "for experiment in loaded_dict.keys():\n",
    "    run = {}\n",
    "    gpu = loaded_dict[experiment]['run_info']['gpu']\n",
    "    system = loaded_dict[experiment]['run_info']['system']\n",
    "    filesystem = loaded_dict[experiment]['run_info']['filesystem']\n",
    "    run['count'] = 1\n",
    "    run['sys'] = f\"{gpu}-{system}-{filesystem}\"\n",
    "    run_df = pd.DataFrame([run])\n",
    "    data = pd.concat([data, run_df], ignore_index=True) \n",
    "data.groupby('sys').count()"
   ]
  },
  {
   "cell_type": "markdown",
   "id": "ba39fb99",
   "metadata": {},
   "source": [
    "### Create Analysis Outputs"
   ]
  },
  {
   "cell_type": "code",
   "execution_count": null,
   "id": "06b744ad",
   "metadata": {
    "tags": []
   },
   "outputs": [],
   "source": [
    "analysis_path = os.path.join(os.getcwd(),'analysis')\n",
    "#train time plots\n",
    "plot_train_times(loaded_dict, analysis_path, sys=False)\n",
    "gpus = []\n",
    "for experiment in loaded_dict.keys():\n",
    "    gpu = loaded_dict[experiment]['run_info']['gpu']\n",
    "    if not gpu in gpus:\n",
    "        gpus.append(gpu)\n",
    "for gpu in gpus:\n",
    "    plot_train_times(loaded_dict, analysis_path, gpu=gpu, timer='total', sys=True)\n",
    "    plot_train_times(loaded_dict, analysis_path, gpu=gpu, timer='RunTFTCustomVersion train', sys=True)"
   ]
  },
  {
   "cell_type": "markdown",
   "id": "c0859dec",
   "metadata": {},
   "source": [
    "# Interactive Plots"
   ]
  },
  {
   "cell_type": "code",
   "execution_count": null,
   "id": "75666c71",
   "metadata": {},
   "outputs": [],
   "source": [
    "# train time\n",
    "plot_interactive_train_times(loaded_dict, analysis_path, timer='RunTFTCustomVersion train', sys=True)"
   ]
  },
  {
   "cell_type": "code",
   "execution_count": null,
   "id": "7054b289",
   "metadata": {},
   "outputs": [],
   "source": [
    "# total time\n",
    "plot_interactive_train_times(loaded_dict, analysis_path, timer='total', sys=True)"
   ]
  },
  {
   "cell_type": "markdown",
   "id": "3f8ab41a",
   "metadata": {},
   "source": [
    "### Create Custom Plots\n",
    "- Select experiments to plot from table displayed below\n",
    "- Create a dictionary with experiment name as the key and display name as the values\n",
    "- Feed dictionary as an argument to plot_train_times as the 'plot_dict' argument"
   ]
  },
  {
   "cell_type": "markdown",
   "id": "013518f9",
   "metadata": {},
   "source": [
    "#### Show available data to plot"
   ]
  },
  {
   "cell_type": "code",
   "execution_count": null,
   "id": "a62b3397",
   "metadata": {},
   "outputs": [],
   "source": [
    "available = []\n",
    "for experiment in loaded_dict.keys():\n",
    "    run = {}\n",
    "    run['gpu'] = loaded_dict[experiment]['run_info']['gpu']\n",
    "    run['system'] = loaded_dict[experiment]['run_info']['system']\n",
    "    run['filesystem'] = loaded_dict[experiment]['run_info']['filesystem']\n",
    "    run['epochs'] = int(loaded_dict[experiment]['run_info']['epochs'])\n",
    "    run['date'] = loaded_dict[experiment]['run_info']['date']\n",
    "    #timer_df = loaded_dict[experiment]['timer_df']\n",
    "    #if timer in timer_df['timer'].values:\n",
    "    #run['time'] = float(timer_df[timer_df['timer'] == timer]['time'].values[0])/3600\n",
    "    run['sys'] = f\"{run['gpu']}-{run['system']}-{run['filesystem']}-{run['date']}\"\n",
    "    available.append(run['sys'])\n",
    "available = set(available)\n",
    "df = pd.DataFrame(available)\n",
    "df.columns = ['experiment']\n",
    "df"
   ]
  },
  {
   "cell_type": "code",
   "execution_count": null,
   "id": "d46302f9",
   "metadata": {},
   "outputs": [],
   "source": [
    "plot_dict = {'v100-rivanna-project-2022-05-26':'V100 DFS',\n",
    "             'v100-rivanna-shm-2022-07-21':'V100 Shared Memory'}"
   ]
  },
  {
   "cell_type": "code",
   "execution_count": null,
   "id": "0e1257d4",
   "metadata": {},
   "outputs": [],
   "source": [
    "plot_train_times(loaded_dict, analysis_path, gpu=None, timer='total', sys=True, plot_dict=plot_dict)"
   ]
  },
  {
   "cell_type": "code",
   "execution_count": null,
   "id": "0f1494ae",
   "metadata": {},
   "outputs": [],
   "source": []
  }
 ],
 "metadata": {
  "kernelspec": {
   "display_name": "Python 3 (ipykernel)",
   "language": "python",
   "name": "python3"
  },
  "language_info": {
   "codemirror_mode": {
    "name": "ipython",
    "version": 3
   },
   "file_extension": ".py",
   "mimetype": "text/x-python",
   "name": "python",
   "nbconvert_exporter": "python",
   "pygments_lexer": "ipython3",
   "version": "3.8.11"
  }
 },
 "nbformat": 4,
 "nbformat_minor": 5
}
