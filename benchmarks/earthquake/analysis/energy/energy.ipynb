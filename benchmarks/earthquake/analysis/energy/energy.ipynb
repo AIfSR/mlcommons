{
 "cells": [
  {
   "cell_type": "code",
   "execution_count": 550,
   "metadata": {
    "collapsed": true
   },
   "outputs": [],
   "source": [
    "from cloudmesh.common.Shell import Shell\n",
    "from cloudmesh.common.util import readfile\n",
    "import sys\n",
    "import pandas as pd\n",
    "import io\n",
    "import seaborn as sns\n",
    "import matplotlib.pyplot as plt\n",
    "import os\n",
    "from pathlib import Path\n",
    "import glob\n",
    "from pprint import pprint\n",
    "from cloudmesh.common.dotdict import dotdict\n",
    "import numpy as np"
   ]
  },
  {
   "cell_type": "code",
   "execution_count": 551,
   "outputs": [],
   "source": [
    "list_of_dirs = [\n",
    "    ('./data/card_name_a100_gpu_count_1_cpu_num_6_mem_32GB_repeat_1_TFTTransformerepochs_2', 2),\n",
    "    ('./data/card_name_a100_gpu_count_1_cpu_num_6_mem_32GB_repeat_1_TFTTransformerepochs_30', 30),\n",
    "    ('./data/card_name_a100_gpu_count_1_cpu_num_6_mem_32GB_repeat_1_TFTTransformerepochs_70', 70)]\n"
   ],
   "metadata": {
    "collapsed": false
   }
  },
  {
   "cell_type": "code",
   "execution_count": 552,
   "outputs": [
    {
     "name": "stdout",
     "output_type": "stream",
     "text": [
      "[{'epoch': 2,\n",
      "  'eventlog': './data/card_name_a100_gpu_count_1_cpu_num_6_mem_32GB_repeat_1_TFTTransformerepochs_2/dje5dj-45737981.err',\n",
      "  'gpulog': PosixPath('data/card_name_a100_gpu_count_1_cpu_num_6_mem_32GB_repeat_1_TFTTransformerepochs_2/gpu0.log')},\n",
      " {'epoch': 30,\n",
      "  'eventlog': './data/card_name_a100_gpu_count_1_cpu_num_6_mem_32GB_repeat_1_TFTTransformerepochs_30/dje5dj-45737982.err',\n",
      "  'gpulog': PosixPath('data/card_name_a100_gpu_count_1_cpu_num_6_mem_32GB_repeat_1_TFTTransformerepochs_30/gpu0.log')},\n",
      " {'epoch': 70,\n",
      "  'eventlog': './data/card_name_a100_gpu_count_1_cpu_num_6_mem_32GB_repeat_1_TFTTransformerepochs_70/dje5dj-45737983.err',\n",
      "  'gpulog': PosixPath('data/card_name_a100_gpu_count_1_cpu_num_6_mem_32GB_repeat_1_TFTTransformerepochs_70/gpu0.log')}]\n"
     ]
    }
   ],
   "source": [
    "files = []\n",
    "for directory, epoch in list_of_dirs:\n",
    "    gpulog = Path(directory) / \"gpu0.log\"\n",
    "    eventlog = glob.glob(f\"{directory}/*.err\")[0]\n",
    "    files.append(dotdict(\n",
    "        {\n",
    "            \"epoch\" : epoch,\n",
    "            \"eventlog\": eventlog,\n",
    "            \"gpulog\": gpulog\n",
    "        })\n",
    "    )\n",
    "\n",
    "pprint (files)"
   ],
   "metadata": {
    "collapsed": false
   }
  },
  {
   "cell_type": "code",
   "execution_count": 553,
   "outputs": [],
   "source": [
    "def convert_column_to_seconds(df, col):\n",
    "    # df[[name]] = df[[name]].astype('datetime64[us]')\n",
    "    df[col] = pd.to_datetime(df[col], errors='coerce')\n",
    "    # df[[name]] = pd.to_datetime(df[[name]], errors='coerce')\n",
    "    start_t = df[col].iloc[0]\n",
    "    print (start_t, type(start_t))\n",
    "    for index, row in df.iterrows():\n",
    "\n",
    "        delta = df.loc[index, col] - start_t\n",
    "        df.loc[index, col] = delta.total_seconds()\n",
    "    # df[name_of_seconds_column] = df[name] - start_t\n",
    "    # df[[name]] = df[[name]].astype(int)/1000000000\n",
    "    return df\n",
    "\n",
    "def fix_date_format(df, col):\n",
    "    # if We have T in it, we do not need to fix\n",
    "    for i, row in df.iterrows():\n",
    "        value = df.loc[i,col]\n",
    "        if \"T\" not in value:\n",
    "            new_date = df.loc[i,col].replace(\":\", \" \", 1)\n",
    "            df.loc[i,col] = new_date\n",
    "    df[col] = pd.to_datetime(df[col])\n",
    "    return df"
   ],
   "metadata": {
    "collapsed": false
   }
  },
  {
   "cell_type": "code",
   "execution_count": 554,
   "outputs": [],
   "source": [
    "def read_energy(filename=None):\n",
    "    location = Shell.map_filename(filename).path\n",
    "    # 1: means removing hashes\n",
    "    content = readfile(location).splitlines()[1:]\n",
    "    # removing #\n",
    "    content[0] = content[0][2:]\n",
    "    # print(content[0:10])\n",
    "    content = \"\\n\".join(content)\n",
    "    content = content.replace(', ', ',')\n",
    "    df = pd.read_csv(io.StringIO(content),sep=',')\n",
    "\n",
    "    df = fix_date_format(df, \"time\")\n",
    "    df[[\"time\"]] = df[[\"time\"]].astype('datetime64[ns]')\n",
    "    return df\n"
   ],
   "metadata": {
    "collapsed": false
   }
  },
  {
   "cell_type": "code",
   "execution_count": 555,
   "outputs": [],
   "source": [
    "def read_eventlog(filename):\n",
    "    location = Shell.map_filename(filename).path\n",
    "    content = readfile(location, encoding='utf-8')\n",
    "    content = content.replace(', ', ',').splitlines()\n",
    "\n",
    "    # headline = '# csv,timer,status,time,sum,start,tag,msg,uname.node,user,uname.system,platform.version'\n",
    "    headline = Shell.cm_grep(content, '# csv,timer')[0]\n",
    "    csv_lines = Shell.cm_grep(content, '# csv')\n",
    "    csv_lines = Shell.cm_grep(csv_lines, 'Linux')\n",
    "    csv_lines.insert(0, headline)\n",
    "    # print(\"\\n\".join(csv_lines))\n",
    "    content = \"\\n\".join(csv_lines)\n",
    "    df = pd.read_csv(io.StringIO(content),sep=',')\n",
    "    df = df.rename(columns={'time':'dt'})\n",
    "    df = df.rename(columns={'start':'time'})\n",
    "    df[[\"time\"]] = df[[\"time\"]].astype('datetime64[ns]')\n",
    "    df = df.drop(columns=['# csv', 'status', 'sum', 'uname.node', 'user', 'uname.system', 'platform.version', 'msg'])\n",
    "    t = df.pop(\"time\")\n",
    "    df.insert(0, \"time\", t)\n",
    "    return df"
   ],
   "metadata": {
    "collapsed": false
   }
  },
  {
   "cell_type": "code",
   "execution_count": 556,
   "outputs": [],
   "source": [
    "def export_figure(x='Time/s', y='Energy/W', filename=None):\n",
    "   plt.xlabel(x)\n",
    "   plt.ylabel(y)\n",
    "   base = os.path.dirname(filename.replace('_', '-').lower())\n",
    "   png = base + \".png\"\n",
    "   pdf = base + \".pdf\"\n",
    "   plt.savefig(png, bbox_inches='tight', dpi=600)\n",
    "   plt.savefig(pdf, bbox_inches='tight')"
   ],
   "metadata": {
    "collapsed": false
   }
  },
  {
   "cell_type": "code",
   "execution_count": 557,
   "outputs": [],
   "source": [
    "def plot_events_and_energy(energylog, eventlog, epoch):\n",
    "    energylog.rename(columns = {'0 power_draw W': epoch}, inplace=True)\n",
    "    ax = sns.lineplot(x=\"time\", y=epoch, data=energylog)\n",
    "\n",
    "    shadow_x = [0]\n",
    "    shadow_y = [0]\n",
    "\n",
    "    poi = {\n",
    "        'INIT': \"Initialize\", # ok\n",
    "        #'TFTdfTotalSpec event_num:0',\n",
    "        #'data head setup',\n",
    "        'RunTFTCustomVersion A': \"Training\", # ok\n",
    "\n",
    "        #'RunTFTCustomVersion Train Loss Val Loss event_num:0',\n",
    "        #'RunTFTCustomVersion bestfit Epoch:0',\n",
    "        #'RunTFTCustomVersion bestfit Network attn layer attention summary timer_num:0',\n",
    "        'RunTFTCustomVersion bestfit finalize TFTTestpredict timer_num:0': \"Bestfit Prediction\", # ok\n",
    "\n",
    "        'RunTFTCustomVersion bestfit finalize VisualizeTFT timer_num:0': \"Visualize\",# ok\n",
    "\n",
    "        #'RunTFTCustomVersion bestfit finalize',\n",
    "        # 'DLprediction Iteration',\n",
    "\n",
    "        'result': \"Final plots\",\n",
    "\n",
    "        # 'DLResults_Graphs timer_num:0',\n",
    "        # 'RunTFTCustomVersion bestfit finalize VisualizeTFT event_num:0'\n",
    "    }\n",
    "\n",
    "    for i, row in eventlog.iterrows():\n",
    "       label = row['timer']\n",
    "\n",
    "       if label in poi.keys():\n",
    "          # print(row['timer'], row['start'])\n",
    "          x = row['time']\n",
    "          y = 180\n",
    "          print(x, type(x), y, type(y), label, type(label))\n",
    "          display_label = poi[label]\n",
    "          print(display_label)\n",
    "          ax.text(x, y, display_label, rotation=45)\n",
    "          ax.plot(x, y)\n",
    "          shadow_x.append(x)\n",
    "          shadow_y.append(y)\n",
    "\n",
    "    print (shadow_x)\n",
    "    print (shadow_y)\n",
    "    color = [\"yellow\",\"red\",\"green\",\"magenta\",\"black\",\"blue\"]\n",
    "\n",
    "    n = len(shadow_x)\n",
    "    for i in range(0,n-1):\n",
    "        x0 = shadow_x[i]\n",
    "        x1 = shadow_x[i+1]\n",
    "\n",
    "        plt.fill_betweenx(range(180), x0, x1, color=color[i], alpha=.1)\n",
    "    # # export_figure('Time', 'Energy', filename)\n",
    "    # return ax\n",
    "    #sns.lineplot(x=\"time\", y=epoch, data=energylog)"
   ],
   "metadata": {
    "collapsed": false
   }
  },
  {
   "cell_type": "code",
   "execution_count": 557,
   "outputs": [],
   "source": [],
   "metadata": {
    "collapsed": false
   }
  },
  {
   "cell_type": "code",
   "execution_count": null,
   "outputs": [
    {
     "name": "stdout",
     "output_type": "stream",
     "text": [
      "Generate output for Epoch 2\n"
     ]
    },
    {
     "data": {
      "text/plain": "            time                                              timer        dt  \\\n0      10.435667                                              total      None   \n1      10.435667                                              total  9876.208   \n2      25.435667                                               INIT     2.261   \n3      28.435667                                               EVAL   409.961   \n4      28.435667                                              PLOTS   385.099   \n..           ...                                                ...       ...   \n224  9883.435667  RunTFTCustomVersion DLResults Graph Title even...       0.0   \n225  9883.435667  RunTFTCustomVersion DLResults Graph Title even...       0.0   \n226  9884.435667  RunTFTCustomVersion DLResults Graph Title even...       0.0   \n227  9884.435667  RunTFTCustomVersion DLResults Graph Title even...       0.0   \n228  9885.435667  RunTFTCustomVersion bestfit finalize Visualize...       0.0   \n\n        tag  \n0    TIMER1  \n1    TIMER2  \n2    TIMER2  \n3    TIMER2  \n4    TIMER2  \n..      ...  \n224  TIMER2  \n225  TIMER2  \n226  TIMER2  \n227  TIMER2  \n228  TIMER2  \n\n[229 rows x 4 columns]",
      "text/html": "<div>\n<style scoped>\n    .dataframe tbody tr th:only-of-type {\n        vertical-align: middle;\n    }\n\n    .dataframe tbody tr th {\n        vertical-align: top;\n    }\n\n    .dataframe thead th {\n        text-align: right;\n    }\n</style>\n<table border=\"1\" class=\"dataframe\">\n  <thead>\n    <tr style=\"text-align: right;\">\n      <th></th>\n      <th>time</th>\n      <th>timer</th>\n      <th>dt</th>\n      <th>tag</th>\n    </tr>\n  </thead>\n  <tbody>\n    <tr>\n      <th>0</th>\n      <td>10.435667</td>\n      <td>total</td>\n      <td>None</td>\n      <td>TIMER1</td>\n    </tr>\n    <tr>\n      <th>1</th>\n      <td>10.435667</td>\n      <td>total</td>\n      <td>9876.208</td>\n      <td>TIMER2</td>\n    </tr>\n    <tr>\n      <th>2</th>\n      <td>25.435667</td>\n      <td>INIT</td>\n      <td>2.261</td>\n      <td>TIMER2</td>\n    </tr>\n    <tr>\n      <th>3</th>\n      <td>28.435667</td>\n      <td>EVAL</td>\n      <td>409.961</td>\n      <td>TIMER2</td>\n    </tr>\n    <tr>\n      <th>4</th>\n      <td>28.435667</td>\n      <td>PLOTS</td>\n      <td>385.099</td>\n      <td>TIMER2</td>\n    </tr>\n    <tr>\n      <th>...</th>\n      <td>...</td>\n      <td>...</td>\n      <td>...</td>\n      <td>...</td>\n    </tr>\n    <tr>\n      <th>224</th>\n      <td>9883.435667</td>\n      <td>RunTFTCustomVersion DLResults Graph Title even...</td>\n      <td>0.0</td>\n      <td>TIMER2</td>\n    </tr>\n    <tr>\n      <th>225</th>\n      <td>9883.435667</td>\n      <td>RunTFTCustomVersion DLResults Graph Title even...</td>\n      <td>0.0</td>\n      <td>TIMER2</td>\n    </tr>\n    <tr>\n      <th>226</th>\n      <td>9884.435667</td>\n      <td>RunTFTCustomVersion DLResults Graph Title even...</td>\n      <td>0.0</td>\n      <td>TIMER2</td>\n    </tr>\n    <tr>\n      <th>227</th>\n      <td>9884.435667</td>\n      <td>RunTFTCustomVersion DLResults Graph Title even...</td>\n      <td>0.0</td>\n      <td>TIMER2</td>\n    </tr>\n    <tr>\n      <th>228</th>\n      <td>9885.435667</td>\n      <td>RunTFTCustomVersion bestfit finalize Visualize...</td>\n      <td>0.0</td>\n      <td>TIMER2</td>\n    </tr>\n  </tbody>\n</table>\n<p>229 rows × 4 columns</p>\n</div>"
     },
     "metadata": {},
     "output_type": "display_data"
    },
    {
     "data": {
      "text/plain": "             time  0 id  0 gpu_util %  0 memory_util %  0 encoder_util %  \\\n0        0.000000     0             0                0                 0   \n1        2.381160     0             0                0                 0   \n2        4.747577     0             0                0                 0   \n3        7.106233     0             0                0                 0   \n4        9.457596     0             0                0                 0   \n...           ...   ...           ...              ...               ...   \n4515  9888.009324     0             0                0                 0   \n4516  9890.157161     0             0                0                 0   \n4517  9892.331272     0             0                0                 0   \n4518  9894.482647     0             0                0                 0   \n4519  9896.630569     0             0                0                 0   \n\n      0 decoder_util %  0 gpu_temp C  0 power_draw W  \n0                    0            30           64.53  \n1                    0            30           64.53  \n2                    0            30           64.53  \n3                    0            30           64.53  \n4                    0            30           64.46  \n...                ...           ...             ...  \n4515                 0            32           71.79  \n4516                 0            32           71.79  \n4517                 0            32           71.45  \n4518                 0            32           71.79  \n4519                 0            32           88.77  \n\n[4520 rows x 8 columns]",
      "text/html": "<div>\n<style scoped>\n    .dataframe tbody tr th:only-of-type {\n        vertical-align: middle;\n    }\n\n    .dataframe tbody tr th {\n        vertical-align: top;\n    }\n\n    .dataframe thead th {\n        text-align: right;\n    }\n</style>\n<table border=\"1\" class=\"dataframe\">\n  <thead>\n    <tr style=\"text-align: right;\">\n      <th></th>\n      <th>time</th>\n      <th>0 id</th>\n      <th>0 gpu_util %</th>\n      <th>0 memory_util %</th>\n      <th>0 encoder_util %</th>\n      <th>0 decoder_util %</th>\n      <th>0 gpu_temp C</th>\n      <th>0 power_draw W</th>\n    </tr>\n  </thead>\n  <tbody>\n    <tr>\n      <th>0</th>\n      <td>0.000000</td>\n      <td>0</td>\n      <td>0</td>\n      <td>0</td>\n      <td>0</td>\n      <td>0</td>\n      <td>30</td>\n      <td>64.53</td>\n    </tr>\n    <tr>\n      <th>1</th>\n      <td>2.381160</td>\n      <td>0</td>\n      <td>0</td>\n      <td>0</td>\n      <td>0</td>\n      <td>0</td>\n      <td>30</td>\n      <td>64.53</td>\n    </tr>\n    <tr>\n      <th>2</th>\n      <td>4.747577</td>\n      <td>0</td>\n      <td>0</td>\n      <td>0</td>\n      <td>0</td>\n      <td>0</td>\n      <td>30</td>\n      <td>64.53</td>\n    </tr>\n    <tr>\n      <th>3</th>\n      <td>7.106233</td>\n      <td>0</td>\n      <td>0</td>\n      <td>0</td>\n      <td>0</td>\n      <td>0</td>\n      <td>30</td>\n      <td>64.53</td>\n    </tr>\n    <tr>\n      <th>4</th>\n      <td>9.457596</td>\n      <td>0</td>\n      <td>0</td>\n      <td>0</td>\n      <td>0</td>\n      <td>0</td>\n      <td>30</td>\n      <td>64.46</td>\n    </tr>\n    <tr>\n      <th>...</th>\n      <td>...</td>\n      <td>...</td>\n      <td>...</td>\n      <td>...</td>\n      <td>...</td>\n      <td>...</td>\n      <td>...</td>\n      <td>...</td>\n    </tr>\n    <tr>\n      <th>4515</th>\n      <td>9888.009324</td>\n      <td>0</td>\n      <td>0</td>\n      <td>0</td>\n      <td>0</td>\n      <td>0</td>\n      <td>32</td>\n      <td>71.79</td>\n    </tr>\n    <tr>\n      <th>4516</th>\n      <td>9890.157161</td>\n      <td>0</td>\n      <td>0</td>\n      <td>0</td>\n      <td>0</td>\n      <td>0</td>\n      <td>32</td>\n      <td>71.79</td>\n    </tr>\n    <tr>\n      <th>4517</th>\n      <td>9892.331272</td>\n      <td>0</td>\n      <td>0</td>\n      <td>0</td>\n      <td>0</td>\n      <td>0</td>\n      <td>32</td>\n      <td>71.45</td>\n    </tr>\n    <tr>\n      <th>4518</th>\n      <td>9894.482647</td>\n      <td>0</td>\n      <td>0</td>\n      <td>0</td>\n      <td>0</td>\n      <td>0</td>\n      <td>32</td>\n      <td>71.79</td>\n    </tr>\n    <tr>\n      <th>4519</th>\n      <td>9896.630569</td>\n      <td>0</td>\n      <td>0</td>\n      <td>0</td>\n      <td>0</td>\n      <td>0</td>\n      <td>32</td>\n      <td>88.77</td>\n    </tr>\n  </tbody>\n</table>\n<p>4520 rows × 8 columns</p>\n</div>"
     },
     "metadata": {},
     "output_type": "display_data"
    },
    {
     "name": "stdout",
     "output_type": "stream",
     "text": [
      "25.43566700000156 <class 'float'> 180 <class 'int'> INIT <class 'str'>\n",
      "Initialize\n",
      "1665.4356670000016 <class 'float'> 180 <class 'int'> RunTFTCustomVersion A <class 'str'>\n",
      "Training\n",
      "2936.4356670000016 <class 'float'> 180 <class 'int'> RunTFTCustomVersion bestfit finalize TFTTestpredict timer_num:0 <class 'str'>\n",
      "Bestfit Prediction\n",
      "5582.435667000002 <class 'float'> 180 <class 'int'> RunTFTCustomVersion bestfit finalize VisualizeTFT timer_num:0 <class 'str'>\n",
      "Visualize\n",
      "9632.435667000002 <class 'float'> 180 <class 'int'> result <class 'str'>\n",
      "Final plots\n",
      "[0, 25.43566700000156, 1665.4356670000016, 2936.4356670000016, 5582.435667000002, 9632.435667000002]\n",
      "[0, 180, 180, 180, 180, 180]\n"
     ]
    },
    {
     "data": {
      "text/plain": "<Figure size 640x480 with 1 Axes>",
      "image/png": "[encoded data removed]"
     },
     "metadata": {},
     "output_type": "display_data"
    },
    {
     "name": "stdout",
     "output_type": "stream",
     "text": [
      "Generate output for Epoch 30\n"
     ]
    },
    {
     "data": {
      "text/plain": "             time                                              timer  \\\n0       10.461425                                              total   \n1       10.461425                                              total   \n2       25.461425                                               INIT   \n3       28.461425                                               EVAL   \n4       28.461425                                              PLOTS   \n..            ...                                                ...   \n420  26765.461425  RunTFTCustomVersion DLResults Graph Title even...   \n421  26765.461425  RunTFTCustomVersion DLResults Graph Title even...   \n422  26765.461425  RunTFTCustomVersion DLResults Graph Title even...   \n423  26765.461425  RunTFTCustomVersion DLResults Graph Title even...   \n424  26766.461425  RunTFTCustomVersion bestfit finalize Visualize...   \n\n            dt     tag  \n0         None  TIMER1  \n1    26757.542  TIMER2  \n2        2.095  TIMER2  \n3      413.412  TIMER2  \n4      388.651  TIMER2  \n..         ...     ...  \n420        0.0  TIMER2  \n421        0.0  TIMER2  \n422        0.0  TIMER2  \n423        0.0  TIMER2  \n424        0.0  TIMER2  \n\n[425 rows x 4 columns]",
      "text/html": "<div>\n<style scoped>\n    .dataframe tbody tr th:only-of-type {\n        vertical-align: middle;\n    }\n\n    .dataframe tbody tr th {\n        vertical-align: top;\n    }\n\n    .dataframe thead th {\n        text-align: right;\n    }\n</style>\n<table border=\"1\" class=\"dataframe\">\n  <thead>\n    <tr style=\"text-align: right;\">\n      <th></th>\n      <th>time</th>\n      <th>timer</th>\n      <th>dt</th>\n      <th>tag</th>\n    </tr>\n  </thead>\n  <tbody>\n    <tr>\n      <th>0</th>\n      <td>10.461425</td>\n      <td>total</td>\n      <td>None</td>\n      <td>TIMER1</td>\n    </tr>\n    <tr>\n      <th>1</th>\n      <td>10.461425</td>\n      <td>total</td>\n      <td>26757.542</td>\n      <td>TIMER2</td>\n    </tr>\n    <tr>\n      <th>2</th>\n      <td>25.461425</td>\n      <td>INIT</td>\n      <td>2.095</td>\n      <td>TIMER2</td>\n    </tr>\n    <tr>\n      <th>3</th>\n      <td>28.461425</td>\n      <td>EVAL</td>\n      <td>413.412</td>\n      <td>TIMER2</td>\n    </tr>\n    <tr>\n      <th>4</th>\n      <td>28.461425</td>\n      <td>PLOTS</td>\n      <td>388.651</td>\n      <td>TIMER2</td>\n    </tr>\n    <tr>\n      <th>...</th>\n      <td>...</td>\n      <td>...</td>\n      <td>...</td>\n      <td>...</td>\n    </tr>\n    <tr>\n      <th>420</th>\n      <td>26765.461425</td>\n      <td>RunTFTCustomVersion DLResults Graph Title even...</td>\n      <td>0.0</td>\n      <td>TIMER2</td>\n    </tr>\n    <tr>\n      <th>421</th>\n      <td>26765.461425</td>\n      <td>RunTFTCustomVersion DLResults Graph Title even...</td>\n      <td>0.0</td>\n      <td>TIMER2</td>\n    </tr>\n    <tr>\n      <th>422</th>\n      <td>26765.461425</td>\n      <td>RunTFTCustomVersion DLResults Graph Title even...</td>\n      <td>0.0</td>\n      <td>TIMER2</td>\n    </tr>\n    <tr>\n      <th>423</th>\n      <td>26765.461425</td>\n      <td>RunTFTCustomVersion DLResults Graph Title even...</td>\n      <td>0.0</td>\n      <td>TIMER2</td>\n    </tr>\n    <tr>\n      <th>424</th>\n      <td>26766.461425</td>\n      <td>RunTFTCustomVersion bestfit finalize Visualize...</td>\n      <td>0.0</td>\n      <td>TIMER2</td>\n    </tr>\n  </tbody>\n</table>\n<p>425 rows × 4 columns</p>\n</div>"
     },
     "metadata": {},
     "output_type": "display_data"
    },
    {
     "data": {
      "text/plain": "               time  0 id  0 gpu_util %  0 memory_util %  0 encoder_util %  \\\n0          0.000000     0             0                0                 0   \n1          2.172422     0             0                0                 0   \n2          4.195892     0             0                0                 0   \n3          6.382399     0             0                0                 0   \n4          8.574598     0             0                0                 0   \n...             ...   ...           ...              ...               ...   \n12312  26770.241591     0             0                0                 0   \n12313  26772.426120     0             0                0                 0   \n12314  26774.602164     0             0                0                 0   \n12315  26776.784935     0             0                0                 0   \n12316  26778.975483     0             1                0                 0   \n\n       0 decoder_util %  0 gpu_temp C  0 power_draw W  \n0                     0            28           62.86  \n1                     0            28           62.86  \n2                     0            28           62.86  \n3                     0            28           62.86  \n4                     0            28           62.86  \n...                 ...           ...             ...  \n12312                 0            30           70.40  \n12313                 0            30           70.40  \n12314                 0            30           70.68  \n12315                 0            30           70.68  \n12316                 0            30           88.08  \n\n[12317 rows x 8 columns]",
      "text/html": "<div>\n<style scoped>\n    .dataframe tbody tr th:only-of-type {\n        vertical-align: middle;\n    }\n\n    .dataframe tbody tr th {\n        vertical-align: top;\n    }\n\n    .dataframe thead th {\n        text-align: right;\n    }\n</style>\n<table border=\"1\" class=\"dataframe\">\n  <thead>\n    <tr style=\"text-align: right;\">\n      <th></th>\n      <th>time</th>\n      <th>0 id</th>\n      <th>0 gpu_util %</th>\n      <th>0 memory_util %</th>\n      <th>0 encoder_util %</th>\n      <th>0 decoder_util %</th>\n      <th>0 gpu_temp C</th>\n      <th>0 power_draw W</th>\n    </tr>\n  </thead>\n  <tbody>\n    <tr>\n      <th>0</th>\n      <td>0.000000</td>\n      <td>0</td>\n      <td>0</td>\n      <td>0</td>\n      <td>0</td>\n      <td>0</td>\n      <td>28</td>\n      <td>62.86</td>\n    </tr>\n    <tr>\n      <th>1</th>\n      <td>2.172422</td>\n      <td>0</td>\n      <td>0</td>\n      <td>0</td>\n      <td>0</td>\n      <td>0</td>\n      <td>28</td>\n      <td>62.86</td>\n    </tr>\n    <tr>\n      <th>2</th>\n      <td>4.195892</td>\n      <td>0</td>\n      <td>0</td>\n      <td>0</td>\n      <td>0</td>\n      <td>0</td>\n      <td>28</td>\n      <td>62.86</td>\n    </tr>\n    <tr>\n      <th>3</th>\n      <td>6.382399</td>\n      <td>0</td>\n      <td>0</td>\n      <td>0</td>\n      <td>0</td>\n      <td>0</td>\n      <td>28</td>\n      <td>62.86</td>\n    </tr>\n    <tr>\n      <th>4</th>\n      <td>8.574598</td>\n      <td>0</td>\n      <td>0</td>\n      <td>0</td>\n      <td>0</td>\n      <td>0</td>\n      <td>28</td>\n      <td>62.86</td>\n    </tr>\n    <tr>\n      <th>...</th>\n      <td>...</td>\n      <td>...</td>\n      <td>...</td>\n      <td>...</td>\n      <td>...</td>\n      <td>...</td>\n      <td>...</td>\n      <td>...</td>\n    </tr>\n    <tr>\n      <th>12312</th>\n      <td>26770.241591</td>\n      <td>0</td>\n      <td>0</td>\n      <td>0</td>\n      <td>0</td>\n      <td>0</td>\n      <td>30</td>\n      <td>70.40</td>\n    </tr>\n    <tr>\n      <th>12313</th>\n      <td>26772.426120</td>\n      <td>0</td>\n      <td>0</td>\n      <td>0</td>\n      <td>0</td>\n      <td>0</td>\n      <td>30</td>\n      <td>70.40</td>\n    </tr>\n    <tr>\n      <th>12314</th>\n      <td>26774.602164</td>\n      <td>0</td>\n      <td>0</td>\n      <td>0</td>\n      <td>0</td>\n      <td>0</td>\n      <td>30</td>\n      <td>70.68</td>\n    </tr>\n    <tr>\n      <th>12315</th>\n      <td>26776.784935</td>\n      <td>0</td>\n      <td>0</td>\n      <td>0</td>\n      <td>0</td>\n      <td>0</td>\n      <td>30</td>\n      <td>70.68</td>\n    </tr>\n    <tr>\n      <th>12316</th>\n      <td>26778.975483</td>\n      <td>0</td>\n      <td>1</td>\n      <td>0</td>\n      <td>0</td>\n      <td>0</td>\n      <td>30</td>\n      <td>88.08</td>\n    </tr>\n  </tbody>\n</table>\n<p>12317 rows × 8 columns</p>\n</div>"
     },
     "metadata": {},
     "output_type": "display_data"
    },
    {
     "name": "stdout",
     "output_type": "stream",
     "text": [
      "25.461425000001327 <class 'float'> 180 <class 'int'> INIT <class 'str'>\n",
      "Initialize\n",
      "1686.4614250000013 <class 'float'> 180 <class 'int'> RunTFTCustomVersion A <class 'str'>\n",
      "Training\n",
      "19730.461425 <class 'float'> 180 <class 'int'> RunTFTCustomVersion bestfit finalize TFTTestpredict timer_num:0 <class 'str'>\n",
      "Bestfit Prediction\n",
      "22337.461425 <class 'float'> 180 <class 'int'> RunTFTCustomVersion bestfit finalize VisualizeTFT timer_num:0 <class 'str'>\n",
      "Visualize\n",
      "26513.461425 <class 'float'> 180 <class 'int'> result <class 'str'>\n",
      "Final plots\n",
      "[0, 25.461425000001327, 1686.4614250000013, 19730.461425, 22337.461425, 26513.461425]\n",
      "[0, 180, 180, 180, 180, 180]\n"
     ]
    }
   ],
   "source": [
    "list_of_filenames = [('./data/card_name_a100_gpu_count_1_cpu_num_6_mem_32GB_repeat_1_TFTTransformerepochs_2/gpu0.log', 2),\n",
    "                     ('./data/card_name_a100_gpu_count_1_cpu_num_6_mem_32GB_repeat_1_TFTTransformerepochs_30/gpu0.log', 30),\n",
    "                     ('./data/card_name_a100_gpu_count_1_cpu_num_6_mem_32GB_repeat_1_TFTTransformerepochs_70/gpu0.log', 70)]\n",
    "\n",
    "for entry  in files:\n",
    "    print (f\"Generate output for Epoch {entry.epoch}\")\n",
    "    energylog = read_energy(entry.gpulog)\n",
    "    eventlog = read_eventlog(entry.eventlog)\n",
    "\n",
    "    t0_energy = energylog.time.iloc[0]\n",
    "    t0_events = eventlog.time.iloc[0]\n",
    "\n",
    "    t0 = min(t0_events, t0_energy)\n",
    "\n",
    "    energylog[\"time\"] = energylog[\"time\"] - t0\n",
    "    eventlog[\"time\"] = eventlog[\"time\"] - t0\n",
    "\n",
    "    eventlog[\"time\"] = eventlog[\"time\"] / np.timedelta64(1, 's') - 5 * 60 * 60\n",
    "    energylog[\"time\"] = energylog[\"time\"] / np.timedelta64(1, 's')\n",
    "\n",
    "    display(eventlog)\n",
    "\n",
    "    display(energylog)\n",
    "\n",
    "    plot_events_and_energy(energylog, eventlog, entry.epoch)\n",
    "    plt.show()\n"
   ],
   "metadata": {
    "collapsed": false,
    "pycharm": {
     "is_executing": true
    }
   }
  }
 ],
 "metadata": {
  "kernelspec": {
   "display_name": "Python 3",
   "language": "python",
   "name": "python3"
  },
  "language_info": {
   "codemirror_mode": {
    "name": "ipython",
    "version": 2
   },
   "file_extension": ".py",
   "mimetype": "text/x-python",
   "name": "python",
   "nbconvert_exporter": "python",
   "pygments_lexer": "ipython2",
   "version": "2.7.6"
  }
 },
 "nbformat": 4,
 "nbformat_minor": 0
}
