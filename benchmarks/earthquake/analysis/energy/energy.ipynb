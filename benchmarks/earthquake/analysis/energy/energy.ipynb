{
 "cells": [
  {
   "cell_type": "code",
   "execution_count": 1,
   "metadata": {
    "collapsed": true
   },
   "outputs": [],
   "source": [
    "from cloudmesh.common.Shell import Shell\n",
    "from cloudmesh.common import readfile\n",
    "import sys\n",
    "import pandas as pd\n",
    "import io\n",
    "import seaborn as sns\n",
    "import matplotlib.pyplot as plt\n",
    "import os"
   ]
  },
  {
   "cell_type": "code",
   "execution_count": 2,
   "outputs": [],
   "source": [
    "def read_energy(filename=None):\n",
    "   full_filename = Shell.map_filename(filename).path\n",
    "   # 1: means removing hashes\n",
    "   content = readfile(full_filename).splitlines()[1:]\n",
    "   # removing #\n",
    "   content[0] = content[0][2:]\n",
    "   # print(content[0:10])\n",
    "   content = \"\\n\".join(content)\n",
    "   content = content.replace(', ', ',')\n",
    "   df = pd.read_csv(io.StringIO(content),sep=',')\n",
    "   return df\n"
   ],
   "metadata": {
    "collapsed": false
   }
  },
  {
   "cell_type": "code",
   "execution_count": 3,
   "outputs": [],
   "source": [
    "def export_figure(x='Time/s', y='Energy/W', filename=None):\n",
    "   plt.xlabel(x)\n",
    "   plt.ylabel(y)\n",
    "   base = os.path.dirname(filename.replace('_', '-').lower())\n",
    "   png = base + \".png\"\n",
    "   pdf = base + \".pdf\"\n",
    "   plt.savefig(png, bbox_inches='tight', dpi=600)\n",
    "   plt.savefig(pdf, bbox_inches='tight')"
   ],
   "metadata": {
    "collapsed": false
   }
  },
  {
   "cell_type": "code",
   "execution_count": 4,
   "outputs": [
    {
     "ename": "FileNotFoundError",
     "evalue": "[Errno 2] No such file or directory: '/home/green/Desktop/github/mlcommons/benchmarks/earthquake/analysis/energy/data/old/card_name_v100_gpu_count_1_cpu_num_6_mem_32GB_repeat_1_TFTTransformerepochs_2/gpu0.log'",
     "output_type": "error",
     "traceback": [
      "\u001B[0;31m---------------------------------------------------------------------------\u001B[0m",
      "\u001B[0;31mFileNotFoundError\u001B[0m                         Traceback (most recent call last)",
      "Cell \u001B[0;32mIn[4], line 7\u001B[0m\n\u001B[1;32m      5\u001B[0m \u001B[38;5;28;01mfor\u001B[39;00m filename, epoch \u001B[38;5;129;01min\u001B[39;00m list_of_filenames:\n\u001B[1;32m      6\u001B[0m    fig, ax \u001B[38;5;241m=\u001B[39m plt\u001B[38;5;241m.\u001B[39msubplots()\n\u001B[0;32m----> 7\u001B[0m    df \u001B[38;5;241m=\u001B[39m \u001B[43mread_energy\u001B[49m\u001B[43m(\u001B[49m\u001B[43mfilename\u001B[49m\u001B[43m)\u001B[49m\n\u001B[1;32m      8\u001B[0m    label \u001B[38;5;241m=\u001B[39m \u001B[38;5;124mf\u001B[39m\u001B[38;5;124m'\u001B[39m\u001B[38;5;124mEpoch \u001B[39m\u001B[38;5;132;01m{\u001B[39;00mepoch\u001B[38;5;132;01m}\u001B[39;00m\u001B[38;5;124m'\u001B[39m\n\u001B[1;32m      9\u001B[0m    df\u001B[38;5;241m.\u001B[39mrename(columns \u001B[38;5;241m=\u001B[39m {\u001B[38;5;124m'\u001B[39m\u001B[38;5;124m0 power_draw W\u001B[39m\u001B[38;5;124m'\u001B[39m:label}, inplace\u001B[38;5;241m=\u001B[39m\u001B[38;5;28;01mTrue\u001B[39;00m)\n",
      "Cell \u001B[0;32mIn[2], line 4\u001B[0m, in \u001B[0;36mread_energy\u001B[0;34m(filename)\u001B[0m\n\u001B[1;32m      2\u001B[0m full_filename \u001B[38;5;241m=\u001B[39m Shell\u001B[38;5;241m.\u001B[39mmap_filename(filename)\u001B[38;5;241m.\u001B[39mpath\n\u001B[1;32m      3\u001B[0m \u001B[38;5;66;03m# 1: means removing hashes\u001B[39;00m\n\u001B[0;32m----> 4\u001B[0m content \u001B[38;5;241m=\u001B[39m \u001B[43mreadfile\u001B[49m\u001B[43m(\u001B[49m\u001B[43mfull_filename\u001B[49m\u001B[43m)\u001B[49m\u001B[38;5;241m.\u001B[39msplitlines()[\u001B[38;5;241m1\u001B[39m:]\n\u001B[1;32m      5\u001B[0m \u001B[38;5;66;03m# removing #\u001B[39;00m\n\u001B[1;32m      6\u001B[0m content[\u001B[38;5;241m0\u001B[39m] \u001B[38;5;241m=\u001B[39m content[\u001B[38;5;241m0\u001B[39m][\u001B[38;5;241m2\u001B[39m:]\n",
      "File \u001B[0;32m~/Desktop/cm/cloudmesh-common/cloudmesh/common/util.py:458\u001B[0m, in \u001B[0;36mreadfile\u001B[0;34m(filename, mode)\u001B[0m\n\u001B[1;32m    456\u001B[0m     Console\u001B[38;5;241m.\u001B[39merror(\u001B[38;5;124mf\u001B[39m\u001B[38;5;124m\"\u001B[39m\u001B[38;5;124mincorrect mode : expected \u001B[39m\u001B[38;5;124m'\u001B[39m\u001B[38;5;124mr\u001B[39m\u001B[38;5;124m'\u001B[39m\u001B[38;5;124m or \u001B[39m\u001B[38;5;124m'\u001B[39m\u001B[38;5;124mrb\u001B[39m\u001B[38;5;124m'\u001B[39m\u001B[38;5;124m given \u001B[39m\u001B[38;5;132;01m{\u001B[39;00mmode\u001B[38;5;132;01m}\u001B[39;00m\u001B[38;5;124m\"\u001B[39m)\n\u001B[1;32m    457\u001B[0m \u001B[38;5;28;01melse\u001B[39;00m:\n\u001B[0;32m--> 458\u001B[0m     \u001B[38;5;28;01mwith\u001B[39;00m \u001B[38;5;28;43mopen\u001B[39;49m\u001B[43m(\u001B[49m\u001B[43mpath_expand\u001B[49m\u001B[43m(\u001B[49m\u001B[43mfilename\u001B[49m\u001B[43m)\u001B[49m\u001B[43m,\u001B[49m\u001B[43m \u001B[49m\u001B[43mmode\u001B[49m\u001B[43m)\u001B[49m \u001B[38;5;28;01mas\u001B[39;00m f:\n\u001B[1;32m    459\u001B[0m         content \u001B[38;5;241m=\u001B[39m f\u001B[38;5;241m.\u001B[39mread()\n\u001B[1;32m    460\u001B[0m         f\u001B[38;5;241m.\u001B[39mclose()\n",
      "\u001B[0;31mFileNotFoundError\u001B[0m: [Errno 2] No such file or directory: '/home/green/Desktop/github/mlcommons/benchmarks/earthquake/analysis/energy/data/old/card_name_v100_gpu_count_1_cpu_num_6_mem_32GB_repeat_1_TFTTransformerepochs_2/gpu0.log'"
     ]
    },
    {
     "data": {
      "text/plain": "<Figure size 640x480 with 1 Axes>",
      "image/png": "[encoded data removed]"
     },
     "metadata": {},
     "output_type": "display_data"
    }
   ],
   "source": [
    "list_of_filenames = [('./data/old/card_name_v100_gpu_count_1_cpu_num_6_mem_32GB_repeat_1_TFTTransformerepochs_2/gpu0.log', 2),\n",
    "                     ('./data/old/card_name_v100_gpu_count_1_cpu_num_6_mem_32GB_repeat_1_TFTTransformerepochs_30/gpu0.log', 30),\n",
    "                     ('./data/old/card_name_v100_gpu_count_1_cpu_num_6_mem_32GB_repeat_1_TFTTransformerepochs_70/gpu0.log', 70)]\n",
    "\n",
    "for filename, epoch in list_of_filenames:\n",
    "   fig, ax = plt.subplots()\n",
    "   df = read_energy(filename)\n",
    "   label = f'Epoch {epoch}'\n",
    "   df.rename(columns = {'0 power_draw W':label}, inplace=True)\n",
    "   energy = df[['time', label]]\n",
    "   sns.lineplot(energy)\n",
    "   export_figure(filename=filename)\n",
    "   plt.show()"
   ],
   "metadata": {
    "collapsed": false
   }
  },
  {
   "cell_type": "code",
   "execution_count": 23,
   "outputs": [],
   "source": [],
   "metadata": {
    "collapsed": false
   }
  },
  {
   "cell_type": "code",
   "execution_count": 25,
   "outputs": [
    {
     "name": "stdout",
     "output_type": "stream",
     "text": [
      "C:\\Users\\stapm\\cm\\mlcommons\\benchmarks\\earthquake\\analysis\\energy\\data\\old\\card_name_v100_gpu_count_1_cpu_num_6_mem_32GB_repeat_1_TFTTransformerepochs_2\\dje5dj-44848919.err\n"
     ]
    }
   ],
   "source": [
    "err_dir_path = Shell.map_filename(\n",
    "    './data/old/card_name_v100_gpu_count_1_cpu_num_6_mem_32GB_repeat_1_TFTTransformerepochs_2/'\n",
    ").path\n",
    "full_dir_path = None\n",
    "\n",
    "for file in os.listdir(err_dir_path):\n",
    "   if file.endswith(\".err\"):\n",
    "      print(os.path.join(err_dir_path, file))\n",
    "      full_dir_path = os.path.join(err_dir_path, file)"
   ],
   "metadata": {
    "collapsed": false
   }
  },
  {
   "cell_type": "code",
   "execution_count": 26,
   "outputs": [
    {
     "name": "stdout",
     "output_type": "stream",
     "text": [
      "# csv,timer,status,time,sum,start,tag,msg,uname.node,user,uname.system,platform.version\n",
      "# csv,total,failed,None,0.0,2022-11-09 17:05:45,,None,udc-aj36-36,dje5dj,Linux,#1 SMP Wed Feb 23 16:47:03 UTC 2022\n",
      "# csv,total,ok,13752.481,13752.481,2022-11-09 17:05:45,,None,udc-aj36-36,dje5dj,Linux,#1 SMP Wed Feb 23 16:47:03 UTC 2022\n",
      "# csv,INIT,ok,0.979,0.979,2022-11-09 17:05:50,,None,udc-aj36-36,dje5dj,Linux,#1 SMP Wed Feb 23 16:47:03 UTC 2022\n",
      "# csv,EVAL,ok,440.14,440.14,2022-11-09 17:05:51,,None,udc-aj36-36,dje5dj,Linux,#1 SMP Wed Feb 23 16:47:03 UTC 2022\n",
      "# csv,PLOTS,ok,411.943,411.943,2022-11-09 17:05:52,,None,udc-aj36-36,dje5dj,Linux,#1 SMP Wed Feb 23 16:47:03 UTC 2022\n",
      "# csv,CELL_READ_DATA,ok,230.647,230.647,2022-11-09 17:05:52,,None,udc-aj36-36,dje5dj,Linux,#1 SMP Wed Feb 23 16:47:03 UTC 2022\n",
      "# csv,SPACE_FILLING_CURVE,ok,1.075,1.075,2022-11-09 17:05:52,,None,udc-aj36-36,dje5dj,Linux,#1 SMP Wed Feb 23 16:47:03 UTC 2022\n",
      "# csv,gilbert2d_Graph_Done,ok,0.0,0.0,2022-11-09 17:08:05,,None,udc-aj36-36,dje5dj,Linux,#1 SMP Wed Feb 23 16:47:03 UTC 2022\n",
      "# csv,Observables_summed_over_space_Plotted,ok,0.0,0.0,2022-11-09 17:07:41,,None,udc-aj36-36,dje5dj,Linux,#1 SMP Wed Feb 23 16:47:03 UTC 2022\n",
      "# csv,faults_ndarray_Graph_Done,ok,0.0,0.0,2022-11-09 17:08:03,,None,udc-aj36-36,dje5dj,Linux,#1 SMP Wed Feb 23 16:47:03 UTC 2022\n",
      "# csv,MULTIPLICITY_DATA,ok,34.451,34.451,2022-11-09 17:09:50,,None,udc-aj36-36,dje5dj,Linux,#1 SMP Wed Feb 23 16:47:03 UTC 2022\n",
      "# csv, TFT Dev on EarthQuakes --  2 weeks 3 months 6 months 1 year d_model_160  dropout 0.1 Location Based Validation BS 64 Simple 2 layers CUDA_LSTM MSE corrected MHA Plot 28 EARTHQ-newTFTv29 Basic Earthquake Count_per location_Graph_Done event_num:0,ok,0.0,0.0,2022-11-09 17:09:51,,None,udc-aj36-36,dje5dj,Linux,#1 SMP Wed Feb 23 16:47:03 UTC 2022\n",
      "# csv, TFT Dev on EarthQuakes --  2 weeks 3 months 6 months 1 year d_model_160  dropout 0.1 Location Based Validation BS 64 Simple 2 layers CUDA_LSTM MSE corrected MHA Plot 28 EARTHQ-newTFTv29 Rundle > 3.29_Earthquake Count per location_Graph_Done event_num:1,ok,0.0,0.0,2022-11-09 17:09:52,,None,udc-aj36-36,dje5dj,Linux,#1 SMP Wed Feb 23 16:47:03 UTC 2022\n",
      "# csv, TFT Dev on EarthQuakes --  2 weeks 3 months 6 months 1 year d_model_160  dropout 0.1 Location Based Validation BS 64 Simple 2 layers CUDA_LSTM MSE corrected MHA Plot 28 EARTHQ-newTFTv29 3x3 Rundle > 3.29_Earthquake Count per location_Graph_Done event_num:2,ok,0.0,0.0,2022-11-09 17:10:24,,None,udc-aj36-36,dje5dj,Linux,#1 SMP Wed Feb 23 16:47:03 UTC 2022\n",
      "# csv,Full_Magnitude_Ranges,ok,0.0,0.0,2022-11-09 17:11:19,,None,udc-aj36-36,dje5dj,Linux,#1 SMP Wed Feb 23 16:47:03 UTC 2022\n",
      "# csv,Local_Magnitude_Ranges_0,ok,0.0,0.0,2022-11-09 17:11:19,,None,udc-aj36-36,dje5dj,Linux,#1 SMP Wed Feb 23 16:47:03 UTC 2022\n",
      "# csv,fault_discovery-0.9649999737739563x5.75_Graph_Done event_num:0,ok,0.0,0.0,2022-11-09 17:11:41,,None,udc-aj36-36,dje5dj,Linux,#1 SMP Wed Feb 23 16:47:03 UTC 2022\n",
      "# csv,Local_Magnitude_Ranges_1,ok,0.0,0.0,2022-11-09 17:11:41,,None,udc-aj36-36,dje5dj,Linux,#1 SMP Wed Feb 23 16:47:03 UTC 2022\n",
      "# csv,fault_discovery-0.9649999737739563x3.630000114440918_Graph_Done event_num:1,ok,0.0,0.0,2022-11-09 17:12:01,,None,udc-aj36-36,dje5dj,Linux,#1 SMP Wed Feb 23 16:47:03 UTC 2022\n",
      "# csv,Local_Magnitude_Ranges_2,ok,0.0,0.0,2022-11-09 17:12:01,,None,udc-aj36-36,dje5dj,Linux,#1 SMP Wed Feb 23 16:47:03 UTC 2022\n",
      "# csv,fault_discovery-0.9649999737739563x3.6670000553131104_Graph_Done event_num:2,ok,0.0,0.0,2022-11-09 17:12:23,,None,udc-aj36-36,dje5dj,Linux,#1 SMP Wed Feb 23 16:47:03 UTC 2022\n",
      "# csv,Local_Magnitude_Ranges_3,ok,0.0,0.0,2022-11-09 17:12:23,,None,udc-aj36-36,dje5dj,Linux,#1 SMP Wed Feb 23 16:47:03 UTC 2022\n",
      "# csv,fault_discovery-0.9649999737739563x4.389999866485596_Graph_Done event_num:3,ok,0.0,0.0,2022-11-09 17:12:43,,None,udc-aj36-36,dje5dj,Linux,#1 SMP Wed Feb 23 16:47:03 UTC 2022\n",
      "# csv,PLOTTED_EARTHQUAKE_IMAGES,ok,0.0,0.0,2022-11-09 17:12:43,,None,udc-aj36-36,dje5dj,Linux,#1 SMP Wed Feb 23 16:47:03 UTC 2022\n",
      "# csv,Predicted_Data_0,ok,0.0,0.0,2022-11-09 17:13:25,,None,udc-aj36-36,dje5dj,Linux,#1 SMP Wed Feb 23 16:47:03 UTC 2022\n",
      "# csv,Predicted_Data_1,ok,0.0,0.0,2022-11-09 17:13:25,,None,udc-aj36-36,dje5dj,Linux,#1 SMP Wed Feb 23 16:47:03 UTC 2022\n",
      "# csv,Predicted_Data_2,ok,0.0,0.0,2022-11-09 17:13:25,,None,udc-aj36-36,dje5dj,Linux,#1 SMP Wed Feb 23 16:47:03 UTC 2022\n",
      "# csv,Predicted_Data_3,ok,0.0,0.0,2022-11-09 17:13:25,,None,udc-aj36-36,dje5dj,Linux,#1 SMP Wed Feb 23 16:47:03 UTC 2022\n",
      "# csv,Predicted_Data_4,ok,0.0,0.0,2022-11-09 17:13:25,,None,udc-aj36-36,dje5dj,Linux,#1 SMP Wed Feb 23 16:47:03 UTC 2022\n",
      "# csv,Predicted_Data_5,ok,0.0,0.0,2022-11-09 17:13:25,,None,udc-aj36-36,dje5dj,Linux,#1 SMP Wed Feb 23 16:47:03 UTC 2022\n",
      "# csv,Predicted_Data_6,ok,0.0,0.0,2022-11-09 17:13:25,,None,udc-aj36-36,dje5dj,Linux,#1 SMP Wed Feb 23 16:47:03 UTC 2022\n",
      "# csv,Predicted_Data_7,ok,0.0,0.0,2022-11-09 17:13:25,,None,udc-aj36-36,dje5dj,Linux,#1 SMP Wed Feb 23 16:47:03 UTC 2022\n",
      "# csv,Predicted_Data_8,ok,0.0,0.0,2022-11-09 17:13:25,,None,udc-aj36-36,dje5dj,Linux,#1 SMP Wed Feb 23 16:47:03 UTC 2022\n",
      "# csv,Predicted_Data_9,ok,0.0,0.0,2022-11-09 17:13:25,,None,udc-aj36-36,dje5dj,Linux,#1 SMP Wed Feb 23 16:47:03 UTC 2022\n",
      "# csv,Predicted_Data_10,ok,0.0,0.0,2022-11-09 17:13:25,,None,udc-aj36-36,dje5dj,Linux,#1 SMP Wed Feb 23 16:47:03 UTC 2022\n",
      "# csv,Predicted_Data_11,ok,0.0,0.0,2022-11-09 17:13:25,,None,udc-aj36-36,dje5dj,Linux,#1 SMP Wed Feb 23 16:47:03 UTC 2022\n",
      "# csv,Predicted_Data_12,ok,0.0,0.0,2022-11-09 17:13:25,,None,udc-aj36-36,dje5dj,Linux,#1 SMP Wed Feb 23 16:47:03 UTC 2022\n",
      "# csv,Predicted_Data_13,ok,0.0,0.0,2022-11-09 17:13:25,,None,udc-aj36-36,dje5dj,Linux,#1 SMP Wed Feb 23 16:47:03 UTC 2022\n",
      "# csv,Predicted_Data_14,ok,0.0,0.0,2022-11-09 17:13:25,,None,udc-aj36-36,dje5dj,Linux,#1 SMP Wed Feb 23 16:47:03 UTC 2022\n",
      "# csv,Predicted_Data_15,ok,0.0,0.0,2022-11-09 17:13:25,,None,udc-aj36-36,dje5dj,Linux,#1 SMP Wed Feb 23 16:47:03 UTC 2022\n",
      "# csv,Predicted_Data_16,ok,0.0,0.0,2022-11-09 17:13:25,,None,udc-aj36-36,dje5dj,Linux,#1 SMP Wed Feb 23 16:47:03 UTC 2022\n",
      "# csv,Predicted_Data_17,ok,0.0,0.0,2022-11-09 17:13:25,,None,udc-aj36-36,dje5dj,Linux,#1 SMP Wed Feb 23 16:47:03 UTC 2022\n",
      "# csv,Predicted_Data_18,ok,0.0,0.0,2022-11-09 17:13:25,,None,udc-aj36-36,dje5dj,Linux,#1 SMP Wed Feb 23 16:47:03 UTC 2022\n",
      "# csv,Predicted_Data_19,ok,0.0,0.0,2022-11-09 17:13:25,,None,udc-aj36-36,dje5dj,Linux,#1 SMP Wed Feb 23 16:47:03 UTC 2022\n",
      "# csv,Predicted_Data_20,ok,0.0,0.0,2022-11-09 17:13:25,,None,udc-aj36-36,dje5dj,Linux,#1 SMP Wed Feb 23 16:47:03 UTC 2022\n",
      "# csv,Predicted_Data_21,ok,0.0,0.0,2022-11-09 17:13:25,,None,udc-aj36-36,dje5dj,Linux,#1 SMP Wed Feb 23 16:47:03 UTC 2022\n",
      "# csv,Predicted_Data_22,ok,0.0,0.0,2022-11-09 17:13:25,,None,udc-aj36-36,dje5dj,Linux,#1 SMP Wed Feb 23 16:47:03 UTC 2022\n",
      "# csv,Predicted_Data_23,ok,0.0,0.0,2022-11-09 17:13:25,,None,udc-aj36-36,dje5dj,Linux,#1 SMP Wed Feb 23 16:47:03 UTC 2022\n",
      "# csv,Predicted_Data_24,ok,0.0,0.0,2022-11-09 17:13:25,,None,udc-aj36-36,dje5dj,Linux,#1 SMP Wed Feb 23 16:47:03 UTC 2022\n",
      "# csv,Predicted_Data_25,ok,0.0,0.0,2022-11-09 17:13:25,,None,udc-aj36-36,dje5dj,Linux,#1 SMP Wed Feb 23 16:47:03 UTC 2022\n",
      "# csv,Predicted_Data_26,ok,0.0,0.0,2022-11-09 17:13:25,,None,udc-aj36-36,dje5dj,Linux,#1 SMP Wed Feb 23 16:47:03 UTC 2022\n",
      "# csv,Predicted_Data_27,ok,0.0,0.0,2022-11-09 17:13:25,,None,udc-aj36-36,dje5dj,Linux,#1 SMP Wed Feb 23 16:47:03 UTC 2022\n",
      "# csv,Predicted_Data_28,ok,0.0,0.0,2022-11-09 17:13:25,,None,udc-aj36-36,dje5dj,Linux,#1 SMP Wed Feb 23 16:47:03 UTC 2022\n",
      "# csv,Predicted_Data_29,ok,0.0,0.0,2022-11-09 17:13:25,,None,udc-aj36-36,dje5dj,Linux,#1 SMP Wed Feb 23 16:47:03 UTC 2022\n",
      "# csv,Predicted_Data_30,ok,0.0,0.0,2022-11-09 17:13:25,,None,udc-aj36-36,dje5dj,Linux,#1 SMP Wed Feb 23 16:47:03 UTC 2022\n",
      "# csv,Predicted_Data_31,ok,0.0,0.0,2022-11-09 17:13:25,,None,udc-aj36-36,dje5dj,Linux,#1 SMP Wed Feb 23 16:47:03 UTC 2022\n",
      "# csv,Predicted_Data_32,ok,0.0,0.0,2022-11-09 17:13:25,,None,udc-aj36-36,dje5dj,Linux,#1 SMP Wed Feb 23 16:47:03 UTC 2022\n",
      "# csv,Predicted_Data_33,ok,0.0,0.0,2022-11-09 17:13:25,,None,udc-aj36-36,dje5dj,Linux,#1 SMP Wed Feb 23 16:47:03 UTC 2022\n",
      "# csv,Predicted_Data_34,ok,0.0,0.0,2022-11-09 17:13:25,,None,udc-aj36-36,dje5dj,Linux,#1 SMP Wed Feb 23 16:47:03 UTC 2022\n",
      "# csv,Predicted_Data_35,ok,0.0,0.0,2022-11-09 17:13:25,,None,udc-aj36-36,dje5dj,Linux,#1 SMP Wed Feb 23 16:47:03 UTC 2022\n",
      "# csv,Predicted_Data_36,ok,0.0,0.0,2022-11-09 17:13:25,,None,udc-aj36-36,dje5dj,Linux,#1 SMP Wed Feb 23 16:47:03 UTC 2022\n",
      "# csv,Predicted_Data_37,ok,0.0,0.0,2022-11-09 17:13:25,,None,udc-aj36-36,dje5dj,Linux,#1 SMP Wed Feb 23 16:47:03 UTC 2022\n",
      "# csv,Predicted_Data_38,ok,0.0,0.0,2022-11-09 17:13:25,,None,udc-aj36-36,dje5dj,Linux,#1 SMP Wed Feb 23 16:47:03 UTC 2022\n",
      "# csv,Predicted_Data_39,ok,0.0,0.0,2022-11-09 17:13:25,,None,udc-aj36-36,dje5dj,Linux,#1 SMP Wed Feb 23 16:47:03 UTC 2022\n",
      "# csv,Predicted_Data_40,ok,0.0,0.0,2022-11-09 17:13:25,,None,udc-aj36-36,dje5dj,Linux,#1 SMP Wed Feb 23 16:47:03 UTC 2022\n",
      "# csv,Predicted_Data_41,ok,0.0,0.0,2022-11-09 17:13:26,,None,udc-aj36-36,dje5dj,Linux,#1 SMP Wed Feb 23 16:47:03 UTC 2022\n",
      "# csv,Predicted_Data_42,ok,0.0,0.0,2022-11-09 17:13:26,,None,udc-aj36-36,dje5dj,Linux,#1 SMP Wed Feb 23 16:47:03 UTC 2022\n",
      "# csv,Predicted_Data_43,ok,0.0,0.0,2022-11-09 17:13:26,,None,udc-aj36-36,dje5dj,Linux,#1 SMP Wed Feb 23 16:47:03 UTC 2022\n",
      "# csv,Predicted_Data_44,ok,0.0,0.0,2022-11-09 17:13:26,,None,udc-aj36-36,dje5dj,Linux,#1 SMP Wed Feb 23 16:47:03 UTC 2022\n",
      "# csv,Predicted_Data_45,ok,0.0,0.0,2022-11-09 17:13:26,,None,udc-aj36-36,dje5dj,Linux,#1 SMP Wed Feb 23 16:47:03 UTC 2022\n",
      "# csv,Predicted_Data_46,ok,0.0,0.0,2022-11-09 17:13:26,,None,udc-aj36-36,dje5dj,Linux,#1 SMP Wed Feb 23 16:47:03 UTC 2022\n",
      "# csv,Predicted_Data_47,ok,0.0,0.0,2022-11-09 17:13:26,,None,udc-aj36-36,dje5dj,Linux,#1 SMP Wed Feb 23 16:47:03 UTC 2022\n",
      "# csv,Predicted_Data_48,ok,0.0,0.0,2022-11-09 17:13:26,,None,udc-aj36-36,dje5dj,Linux,#1 SMP Wed Feb 23 16:47:03 UTC 2022\n",
      "# csv,Predicted_Data_49,ok,0.0,0.0,2022-11-09 17:13:26,,None,udc-aj36-36,dje5dj,Linux,#1 SMP Wed Feb 23 16:47:03 UTC 2022\n",
      "# csv,Predicted_Data_50,ok,0.0,0.0,2022-11-09 17:13:26,,None,udc-aj36-36,dje5dj,Linux,#1 SMP Wed Feb 23 16:47:03 UTC 2022\n",
      "# csv,Predicted_Data_51,ok,0.0,0.0,2022-11-09 17:13:26,,None,udc-aj36-36,dje5dj,Linux,#1 SMP Wed Feb 23 16:47:03 UTC 2022\n",
      "# csv,Predicted_Data_52,ok,0.0,0.0,2022-11-09 17:13:26,,None,udc-aj36-36,dje5dj,Linux,#1 SMP Wed Feb 23 16:47:03 UTC 2022\n",
      "# csv,Predicted_Data_53,ok,0.0,0.0,2022-11-09 17:13:26,,None,udc-aj36-36,dje5dj,Linux,#1 SMP Wed Feb 23 16:47:03 UTC 2022\n",
      "# csv,Predicted_Data_54,ok,0.0,0.0,2022-11-09 17:13:26,,None,udc-aj36-36,dje5dj,Linux,#1 SMP Wed Feb 23 16:47:03 UTC 2022\n",
      "# csv,Predicted_Data_55,ok,0.0,0.0,2022-11-09 17:13:26,,None,udc-aj36-36,dje5dj,Linux,#1 SMP Wed Feb 23 16:47:03 UTC 2022\n",
      "# csv,Predicted_Data_56,ok,0.0,0.0,2022-11-09 17:13:26,,None,udc-aj36-36,dje5dj,Linux,#1 SMP Wed Feb 23 16:47:03 UTC 2022\n",
      "# csv,Predicted_Data_57,ok,0.0,0.0,2022-11-09 17:13:26,,None,udc-aj36-36,dje5dj,Linux,#1 SMP Wed Feb 23 16:47:03 UTC 2022\n",
      "# csv,Predicted_Data_58,ok,0.0,0.0,2022-11-09 17:13:26,,None,udc-aj36-36,dje5dj,Linux,#1 SMP Wed Feb 23 16:47:03 UTC 2022\n",
      "# csv,Predicted_Data_59,ok,0.0,0.0,2022-11-09 17:13:26,,None,udc-aj36-36,dje5dj,Linux,#1 SMP Wed Feb 23 16:47:03 UTC 2022\n",
      "# csv,Predicted_Data_60,ok,0.0,0.0,2022-11-09 17:13:26,,None,udc-aj36-36,dje5dj,Linux,#1 SMP Wed Feb 23 16:47:03 UTC 2022\n",
      "# csv,Predicted_Data_61,ok,0.0,0.0,2022-11-09 17:13:26,,None,udc-aj36-36,dje5dj,Linux,#1 SMP Wed Feb 23 16:47:03 UTC 2022\n",
      "# csv,Predicted_Data_62,ok,0.0,0.0,2022-11-09 17:13:26,,None,udc-aj36-36,dje5dj,Linux,#1 SMP Wed Feb 23 16:47:03 UTC 2022\n",
      "# csv,Predicted_Data_63,ok,0.0,0.0,2022-11-09 17:13:26,,None,udc-aj36-36,dje5dj,Linux,#1 SMP Wed Feb 23 16:47:03 UTC 2022\n",
      "# csv,Predicted_Data_64,ok,0.0,0.0,2022-11-09 17:13:26,,None,udc-aj36-36,dje5dj,Linux,#1 SMP Wed Feb 23 16:47:03 UTC 2022\n",
      "# csv,Predicted_Data_65,ok,0.0,0.0,2022-11-09 17:13:26,,None,udc-aj36-36,dje5dj,Linux,#1 SMP Wed Feb 23 16:47:03 UTC 2022\n",
      "# csv,Predicted_Data_66,ok,0.0,0.0,2022-11-09 17:13:26,,None,udc-aj36-36,dje5dj,Linux,#1 SMP Wed Feb 23 16:47:03 UTC 2022\n",
      "# csv,Predicted_Data_67,ok,0.0,0.0,2022-11-09 17:13:26,,None,udc-aj36-36,dje5dj,Linux,#1 SMP Wed Feb 23 16:47:03 UTC 2022\n",
      "# csv,Predicted_Data_68,ok,0.0,0.0,2022-11-09 17:13:26,,None,udc-aj36-36,dje5dj,Linux,#1 SMP Wed Feb 23 16:47:03 UTC 2022\n",
      "# csv,Predicted_Data_69,ok,0.0,0.0,2022-11-09 17:13:26,,None,udc-aj36-36,dje5dj,Linux,#1 SMP Wed Feb 23 16:47:03 UTC 2022\n",
      "# csv,Predicted_Data_70,ok,0.0,0.0,2022-11-09 17:13:26,,None,udc-aj36-36,dje5dj,Linux,#1 SMP Wed Feb 23 16:47:03 UTC 2022\n",
      "# csv,Predicted_Data_71,ok,0.0,0.0,2022-11-09 17:13:26,,None,udc-aj36-36,dje5dj,Linux,#1 SMP Wed Feb 23 16:47:03 UTC 2022\n",
      "# csv,Predicted_Data_72,ok,0.0,0.0,2022-11-09 17:13:26,,None,udc-aj36-36,dje5dj,Linux,#1 SMP Wed Feb 23 16:47:03 UTC 2022\n",
      "# csv,Predicted_Data_73,ok,0.0,0.0,2022-11-09 17:13:26,,None,udc-aj36-36,dje5dj,Linux,#1 SMP Wed Feb 23 16:47:03 UTC 2022\n",
      "# csv,Predicted_Data_74,ok,0.0,0.0,2022-11-09 17:13:26,,None,udc-aj36-36,dje5dj,Linux,#1 SMP Wed Feb 23 16:47:03 UTC 2022\n",
      "# csv,Predicted_Data_75,ok,0.0,0.0,2022-11-09 17:13:26,,None,udc-aj36-36,dje5dj,Linux,#1 SMP Wed Feb 23 16:47:03 UTC 2022\n",
      "# csv,Predicted_Data_76,ok,0.0,0.0,2022-11-09 17:13:26,,None,udc-aj36-36,dje5dj,Linux,#1 SMP Wed Feb 23 16:47:03 UTC 2022\n",
      "# csv,Predicted_Data_77,ok,0.0,0.0,2022-11-09 17:13:26,,None,udc-aj36-36,dje5dj,Linux,#1 SMP Wed Feb 23 16:47:03 UTC 2022\n",
      "# csv,Predicted_Data_78,ok,0.0,0.0,2022-11-09 17:13:26,,None,udc-aj36-36,dje5dj,Linux,#1 SMP Wed Feb 23 16:47:03 UTC 2022\n",
      "# csv,Predicted_Data_79,ok,0.0,0.0,2022-11-09 17:13:26,,None,udc-aj36-36,dje5dj,Linux,#1 SMP Wed Feb 23 16:47:03 UTC 2022\n",
      "# csv,Predicted_Data_80,ok,0.0,0.0,2022-11-09 17:13:26,,None,udc-aj36-36,dje5dj,Linux,#1 SMP Wed Feb 23 16:47:03 UTC 2022\n",
      "# csv,Predicted_Data_81,ok,0.0,0.0,2022-11-09 17:13:26,,None,udc-aj36-36,dje5dj,Linux,#1 SMP Wed Feb 23 16:47:03 UTC 2022\n",
      "# csv,Predicted_Data_82,ok,0.0,0.0,2022-11-09 17:13:26,,None,udc-aj36-36,dje5dj,Linux,#1 SMP Wed Feb 23 16:47:03 UTC 2022\n",
      "# csv,Predicted_Data_83,ok,0.0,0.0,2022-11-09 17:13:26,,None,udc-aj36-36,dje5dj,Linux,#1 SMP Wed Feb 23 16:47:03 UTC 2022\n",
      "# csv,Predicted_Data_84,ok,0.0,0.0,2022-11-09 17:13:26,,None,udc-aj36-36,dje5dj,Linux,#1 SMP Wed Feb 23 16:47:03 UTC 2022\n",
      "# csv,Predicted_Data_85,ok,0.0,0.0,2022-11-09 17:13:26,,None,udc-aj36-36,dje5dj,Linux,#1 SMP Wed Feb 23 16:47:03 UTC 2022\n",
      "# csv,Predicted_Data_86,ok,0.0,0.0,2022-11-09 17:13:26,,None,udc-aj36-36,dje5dj,Linux,#1 SMP Wed Feb 23 16:47:03 UTC 2022\n",
      "# csv,Predicted_Data_87,ok,0.0,0.0,2022-11-09 17:13:26,,None,udc-aj36-36,dje5dj,Linux,#1 SMP Wed Feb 23 16:47:03 UTC 2022\n",
      "# csv,Predicted_Data_88,ok,0.0,0.0,2022-11-09 17:13:26,,None,udc-aj36-36,dje5dj,Linux,#1 SMP Wed Feb 23 16:47:03 UTC 2022\n",
      "# csv,Predicted_Data_89,ok,0.0,0.0,2022-11-09 17:13:26,,None,udc-aj36-36,dje5dj,Linux,#1 SMP Wed Feb 23 16:47:03 UTC 2022\n",
      "# csv,Predicted_Data_90,ok,0.0,0.0,2022-11-09 17:13:26,,None,udc-aj36-36,dje5dj,Linux,#1 SMP Wed Feb 23 16:47:03 UTC 2022\n",
      "# csv,Predicted_Data_91,ok,0.0,0.0,2022-11-09 17:13:26,,None,udc-aj36-36,dje5dj,Linux,#1 SMP Wed Feb 23 16:47:03 UTC 2022\n",
      "# csv,Predicted_Data_92,ok,0.0,0.0,2022-11-09 17:13:26,,None,udc-aj36-36,dje5dj,Linux,#1 SMP Wed Feb 23 16:47:03 UTC 2022\n",
      "# csv,Predicted_Data_93,ok,0.0,0.0,2022-11-09 17:13:26,,None,udc-aj36-36,dje5dj,Linux,#1 SMP Wed Feb 23 16:47:03 UTC 2022\n",
      "# csv,Predicted_Data_94,ok,0.0,0.0,2022-11-09 17:13:26,,None,udc-aj36-36,dje5dj,Linux,#1 SMP Wed Feb 23 16:47:03 UTC 2022\n",
      "# csv,Predicted_Data_95,ok,0.0,0.0,2022-11-09 17:13:26,,None,udc-aj36-36,dje5dj,Linux,#1 SMP Wed Feb 23 16:47:03 UTC 2022\n",
      "# csv,Predicted_Data_96,ok,0.0,0.0,2022-11-09 17:13:26,,None,udc-aj36-36,dje5dj,Linux,#1 SMP Wed Feb 23 16:47:03 UTC 2022\n",
      "# csv,Predicted_Data_97,ok,0.0,0.0,2022-11-09 17:13:26,,None,udc-aj36-36,dje5dj,Linux,#1 SMP Wed Feb 23 16:47:03 UTC 2022\n",
      "# csv,Predicted_Data_98,ok,0.0,0.0,2022-11-09 17:13:26,,None,udc-aj36-36,dje5dj,Linux,#1 SMP Wed Feb 23 16:47:03 UTC 2022\n",
      "# csv,Predicted_Data_99,ok,0.0,0.0,2022-11-09 17:13:26,,None,udc-aj36-36,dje5dj,Linux,#1 SMP Wed Feb 23 16:47:03 UTC 2022\n",
      "# csv,Predicted_Data_100,ok,0.0,0.0,2022-11-09 17:13:26,,None,udc-aj36-36,dje5dj,Linux,#1 SMP Wed Feb 23 16:47:03 UTC 2022\n",
      "# csv,Predicted_Data_101,ok,0.0,0.0,2022-11-09 17:13:26,,None,udc-aj36-36,dje5dj,Linux,#1 SMP Wed Feb 23 16:47:03 UTC 2022\n",
      "# csv,Predicted_Data_102,ok,0.0,0.0,2022-11-09 17:13:26,,None,udc-aj36-36,dje5dj,Linux,#1 SMP Wed Feb 23 16:47:03 UTC 2022\n",
      "# csv,Predicted_Data_103,ok,0.0,0.0,2022-11-09 17:13:26,,None,udc-aj36-36,dje5dj,Linux,#1 SMP Wed Feb 23 16:47:03 UTC 2022\n",
      "# csv,TFTdfTotalSpec event_num:0,ok,0.0,0.0,2022-11-09 17:13:26,,None,udc-aj36-36,dje5dj,Linux,#1 SMP Wed Feb 23 16:47:03 UTC 2022\n",
      "# csv,data head setup,ok,1692.453,1692.453,2022-11-09 17:13:32,,None,udc-aj36-36,dje5dj,Linux,#1 SMP Wed Feb 23 16:47:03 UTC 2022\n",
      "# csv,data head setup train,ok,668.271,668.271,2022-11-09 17:13:32,,None,udc-aj36-36,dje5dj,Linux,#1 SMP Wed Feb 23 16:47:03 UTC 2022\n",
      "# csv,data head setup valid,ok,167.233,167.233,2022-11-09 17:24:41,,None,udc-aj36-36,dje5dj,Linux,#1 SMP Wed Feb 23 16:47:03 UTC 2022\n",
      "# csv,data head setup test,ok,856.166,856.166,2022-11-09 17:27:28,,None,udc-aj36-36,dje5dj,Linux,#1 SMP Wed Feb 23 16:47:03 UTC 2022\n",
      "# csv,RunTFTCustomVersion tft only,ok,0.011,0.011,2022-11-09 17:42:01,,None,udc-aj36-36,dje5dj,Linux,#1 SMP Wed Feb 23 16:47:03 UTC 2022\n",
      "# csv,RunTFTCustomVersion print,ok,0.185,0.185,2022-11-09 17:42:02,,None,udc-aj36-36,dje5dj,Linux,#1 SMP Wed Feb 23 16:47:03 UTC 2022\n",
      "# csv,RunTFTCustomVersion A,ok,11573.319,11573.319,2022-11-09 17:42:02,,None,udc-aj36-36,dje5dj,Linux,#1 SMP Wed Feb 23 16:47:03 UTC 2022\n",
      "# csv,RunTFTCustomVersion init timer_num:0,ok,2.257,2.257,2022-11-09 17:42:02,,None,udc-aj36-36,dje5dj,Linux,#1 SMP Wed Feb 23 16:47:03 UTC 2022\n",
      "# csv,RunTFTCustomVersion restore timer_num:0,ok,0.01,0.01,2022-11-09 17:42:04,,None,udc-aj36-36,dje5dj,Linux,#1 SMP Wed Feb 23 16:47:03 UTC 2022\n",
      "# csv,RunTFTCustomVersion analysis timer_num:0,ok,0.008,0.008,2022-11-09 17:42:04,,None,udc-aj36-36,dje5dj,Linux,#1 SMP Wed Feb 23 16:47:03 UTC 2022\n",
      "# csv,RunTFTCustomVersion train timer_num:0,ok,1598.236,1598.236,2022-11-09 17:42:04,,None,udc-aj36-36,dje5dj,Linux,#1 SMP Wed Feb 23 16:47:03 UTC 2022\n",
      "# csv,RunTFTCustomVersion train Epoch:0 timer_num:0,ok,772.563,772.563,2022-11-09 17:42:04,,None,udc-aj36-36,dje5dj,Linux,#1 SMP Wed Feb 23 16:47:03 UTC 2022\n",
      "# csv,RunTFTCustomVersion train Epoch:0-start event_num:0,ok,0.0,0.0,2022-11-09 17:42:04,,None,udc-aj36-36,dje5dj,Linux,#1 SMP Wed Feb 23 16:47:03 UTC 2022\n",
      "# csv,RunTFTCustomVersion train Epoch:0-stop event_num:0,ok,0.0,0.0,2022-11-09 17:54:57,,None,udc-aj36-36,dje5dj,Linux,#1 SMP Wed Feb 23 16:47:03 UTC 2022\n",
      "# csv,RunTFTCustomVersion validation Epoch:0 timer_num:0,ok,58.128,58.128,2022-11-09 17:54:57,,None,udc-aj36-36,dje5dj,Linux,#1 SMP Wed Feb 23 16:47:03 UTC 2022\n",
      "# csv,RunTFTCustomVersion validation bestfit Epoch:0 timer_num:0,ok,60.598,60.598,2022-11-09 17:54:57,,None,udc-aj36-36,dje5dj,Linux,#1 SMP Wed Feb 23 16:47:03 UTC 2022\n",
      "# csv,RunTFTCustomVersion bestfit Epoch:0 timer_num:0,ok,2.445,2.445,2022-11-09 17:55:55,,None,udc-aj36-36,dje5dj,Linux,#1 SMP Wed Feb 23 16:47:03 UTC 2022\n",
      "# csv,RunTFTCustomVersion Epoch:0 event_num:0,ok,0.0,0.0,2022-11-09 17:55:58,,None,udc-aj36-36,dje5dj,Linux,#1 SMP Wed Feb 23 16:47:03 UTC 2022\n",
      "# csv,RunTFTCustomVersion train Epoch:1 timer_num:1,ok,717.774,717.774,2022-11-09 17:55:58,,None,udc-aj36-36,dje5dj,Linux,#1 SMP Wed Feb 23 16:47:03 UTC 2022\n",
      "# csv,RunTFTCustomVersion train Epoch:1-start event_num:1,ok,0.0,0.0,2022-11-09 17:55:58,,None,udc-aj36-36,dje5dj,Linux,#1 SMP Wed Feb 23 16:47:03 UTC 2022\n",
      "# csv,RunTFTCustomVersion train Epoch:1-stop event_num:1,ok,0.0,0.0,2022-11-09 18:07:55,,None,udc-aj36-36,dje5dj,Linux,#1 SMP Wed Feb 23 16:47:03 UTC 2022\n",
      "# csv,RunTFTCustomVersion validation Epoch:1 timer_num:1,ok,45.664,45.664,2022-11-09 18:07:55,,None,udc-aj36-36,dje5dj,Linux,#1 SMP Wed Feb 23 16:47:03 UTC 2022\n",
      "# csv,RunTFTCustomVersion validation bestfit Epoch:1 timer_num:1,ok,47.2,47.2,2022-11-09 18:07:55,,None,udc-aj36-36,dje5dj,Linux,#1 SMP Wed Feb 23 16:47:03 UTC 2022\n",
      "# csv,RunTFTCustomVersion bestfit Epoch:1 timer_num:1,ok,1.511,1.511,2022-11-09 18:08:41,,None,udc-aj36-36,dje5dj,Linux,#1 SMP Wed Feb 23 16:47:03 UTC 2022\n",
      "# csv,RunTFTCustomVersion Epoch:1 event_num:1,ok,0.0,0.0,2022-11-09 18:08:43,,None,udc-aj36-36,dje5dj,Linux,#1 SMP Wed Feb 23 16:47:03 UTC 2022\n",
      "# csv,RunTFTCustomVersion Last Loss Best Loss event_num:0,ok,0.0,0.0,2022-11-09 18:08:43,,None,udc-aj36-36,dje5dj,Linux,#1 SMP Wed Feb 23 16:47:03 UTC 2022\n",
      "# csv,RunTFTCustomVersion bestfit timer_num:0,ok,9972.711,9972.711,2022-11-09 18:08:43,,None,udc-aj36-36,dje5dj,Linux,#1 SMP Wed Feb 23 16:47:03 UTC 2022\n",
      "# csv,RunTFTCustomVersion bestfit TFTTrainingMonitor timer_num:0,ok,0.018,0.018,2022-11-09 18:08:43,,None,udc-aj36-36,dje5dj,Linux,#1 SMP Wed Feb 23 16:47:03 UTC 2022\n",
      "# csv,RunTFTCustomVersion Best Fit event_num:0,ok,0.0,0.0,2022-11-09 18:08:43,,None,udc-aj36-36,dje5dj,Linux,#1 SMP Wed Feb 23 16:47:03 UTC 2022\n",
      "# csv,RunTFTCustomVersion bestfit Checkpointfinalstate timer_num:0,ok,1.481,1.481,2022-11-09 18:08:43,,None,udc-aj36-36,dje5dj,Linux,#1 SMP Wed Feb 23 16:47:03 UTC 2022\n",
      "# csv,RunTFTCustomVersion Train Loss Val Loss event_num:0,ok,0.0,0.0,2022-11-09 18:08:44,,None,udc-aj36-36,dje5dj,Linux,#1 SMP Wed Feb 23 16:47:03 UTC 2022\n",
      "# csv,RunTFTCustomVersion bestfit summary timer_num:0,ok,0.044,0.044,2022-11-09 18:08:44,,None,udc-aj36-36,dje5dj,Linux,#1 SMP Wed Feb 23 16:47:03 UTC 2022\n",
      "# csv,RunTFTCustomVersion bestfit network summary timer_num:0,ok,0.122,0.122,2022-11-09 18:08:44,,None,udc-aj36-36,dje5dj,Linux,#1 SMP Wed Feb 23 16:47:03 UTC 2022\n",
      "# csv,RunTFTCustomVersion bestfit TFTLSTMEncoder summary timer_num:0,ok,0.017,0.017,2022-11-09 18:08:44,,None,udc-aj36-36,dje5dj,Linux,#1 SMP Wed Feb 23 16:47:03 UTC 2022\n",
      "# csv,RunTFTCustomVersion bestfit TFTLSTMDecoder summary timer_num:0,ok,0.022,0.022,2022-11-09 18:08:44,,None,udc-aj36-36,dje5dj,Linux,#1 SMP Wed Feb 23 16:47:03 UTC 2022\n",
      "# csv,RunTFTCustomVersion bestfit Network attn layer summary timer_num:0,ok,0.034,0.034,2022-11-09 18:08:44,,None,udc-aj36-36,dje5dj,Linux,#1 SMP Wed Feb 23 16:47:03 UTC 2022\n",
      "# csv,RunTFTCustomVersion bestfit Network attn layer attention summary timer_num:0,ok,0.018,0.018,2022-11-09 18:08:44,,None,udc-aj36-36,dje5dj,Linux,#1 SMP Wed Feb 23 16:47:03 UTC 2022\n",
      "# csv,RunTFTCustomVersion bestfit finalize timer_num:0,ok,9970.836,9970.836,2022-11-09 18:08:45,,None,udc-aj36-36,dje5dj,Linux,#1 SMP Wed Feb 23 16:47:03 UTC 2022\n",
      "# csv,RunTFTCustomVersion bestfit finalize make graph event_num:0,ok,0.0,0.0,2022-11-09 18:08:50,,None,udc-aj36-36,dje5dj,Linux,#1 SMP Wed Feb 23 16:47:03 UTC 2022\n",
      "# csv,RunTFTCustomVersion bestfit finalize TFTTestpredict timer_num:0,ok,6252.813,6252.813,2022-11-09 18:08:50,,None,udc-aj36-36,dje5dj,Linux,#1 SMP Wed Feb 23 16:47:03 UTC 2022\n",
      "# csv,RunTFTCustomVersion bestfit finalize VisualizeTFT timer_num:0,ok,3711.656,3711.656,2022-11-09 19:53:03,,None,udc-aj36-36,dje5dj,Linux,#1 SMP Wed Feb 23 16:47:03 UTC 2022\n",
      "# csv,RunTFTCustomVersion bestfit finalize VisualizeTFT TFTSaveandInterpret setFFFFmapping timer_num:0,ok,2195.371,2195.371,2022-11-09 19:53:03,,None,udc-aj36-36,dje5dj,Linux,#1 SMP Wed Feb 23 16:47:03 UTC 2022\n",
      "# csv,RunTFTCustomVersion bestfit finalize VisualizeTFT DLprediction timer_num:0,ok,1516.056,1516.056,2022-11-09 20:29:39,,None,udc-aj36-36,dje5dj,Linux,#1 SMP Wed Feb 23 16:47:03 UTC 2022\n",
      "# csv,DLprediction Iteration,ok,0.008,15.436,2022-11-09 20:51:14,,None,udc-aj36-36,dje5dj,Linux,#1 SMP Wed Feb 23 16:47:03 UTC 2022\n",
      "# csv,DLprediction Model Fit,ok,0.009,16.066,2022-11-09 20:51:14,,None,udc-aj36-36,dje5dj,Linux,#1 SMP Wed Feb 23 16:47:03 UTC 2022\n",
      "# csv,DLprediction Performance Loss,ok,0.063,1211.488,2022-11-09 20:51:14,,None,udc-aj36-36,dje5dj,Linux,#1 SMP Wed Feb 23 16:47:03 UTC 2022\n",
      "# csv,result,ok,0.0,0.0,2022-11-09 20:51:15,,None,udc-aj36-36,dje5dj,Linux,#1 SMP Wed Feb 23 16:47:03 UTC 2022\n",
      "# csv,NNSE event_num = 0,ok,0.0,0.0,2022-11-09 20:51:25,,None,udc-aj36-36,dje5dj,Linux,#1 SMP Wed Feb 23 16:47:03 UTC 2022\n",
      "# csv,NNSE event_num = 1,ok,0.0,0.0,2022-11-09 20:51:35,,None,udc-aj36-36,dje5dj,Linux,#1 SMP Wed Feb 23 16:47:03 UTC 2022\n",
      "# csv,NNSE event_num = 2,ok,0.0,0.0,2022-11-09 20:51:46,,None,udc-aj36-36,dje5dj,Linux,#1 SMP Wed Feb 23 16:47:03 UTC 2022\n",
      "# csv,NNSE event_num = 3,ok,0.0,0.0,2022-11-09 20:51:56,,None,udc-aj36-36,dje5dj,Linux,#1 SMP Wed Feb 23 16:47:03 UTC 2022\n",
      "# csv,NNSE event_num = 4,ok,0.0,0.0,2022-11-09 20:52:06,,None,udc-aj36-36,dje5dj,Linux,#1 SMP Wed Feb 23 16:47:03 UTC 2022\n",
      "# csv,NNSE event_num = 5,ok,0.0,0.0,2022-11-09 20:52:17,,None,udc-aj36-36,dje5dj,Linux,#1 SMP Wed Feb 23 16:47:03 UTC 2022\n",
      "# csv,NNSE event_num = 6,ok,0.0,0.0,2022-11-09 20:52:27,,None,udc-aj36-36,dje5dj,Linux,#1 SMP Wed Feb 23 16:47:03 UTC 2022\n",
      "# csv,NNSE event_num = 7,ok,0.0,0.0,2022-11-09 20:52:38,,None,udc-aj36-36,dje5dj,Linux,#1 SMP Wed Feb 23 16:47:03 UTC 2022\n",
      "# csv,NNSE event_num = 8,ok,0.0,0.0,2022-11-09 20:52:48,,None,udc-aj36-36,dje5dj,Linux,#1 SMP Wed Feb 23 16:47:03 UTC 2022\n",
      "# csv,NNSE event_num = 9,ok,0.0,0.0,2022-11-09 20:52:59,,None,udc-aj36-36,dje5dj,Linux,#1 SMP Wed Feb 23 16:47:03 UTC 2022\n",
      "# csv,NNSE event_num = 10,ok,0.0,0.0,2022-11-09 20:53:09,,None,udc-aj36-36,dje5dj,Linux,#1 SMP Wed Feb 23 16:47:03 UTC 2022\n",
      "# csv,NNSE event_num = 11,ok,0.0,0.0,2022-11-09 20:53:20,,None,udc-aj36-36,dje5dj,Linux,#1 SMP Wed Feb 23 16:47:03 UTC 2022\n",
      "# csv,NNSE event_num = 12,ok,0.0,0.0,2022-11-09 20:53:30,,None,udc-aj36-36,dje5dj,Linux,#1 SMP Wed Feb 23 16:47:03 UTC 2022\n",
      "# csv,NNSE event_num = 13,ok,0.0,0.0,2022-11-09 20:53:41,,None,udc-aj36-36,dje5dj,Linux,#1 SMP Wed Feb 23 16:47:03 UTC 2022\n",
      "# csv,NNSE event_num = 14,ok,0.0,0.0,2022-11-09 20:53:51,,None,udc-aj36-36,dje5dj,Linux,#1 SMP Wed Feb 23 16:47:03 UTC 2022\n",
      "# csv,NNSE event_num = 15,ok,0.0,0.0,2022-11-09 20:54:02,,None,udc-aj36-36,dje5dj,Linux,#1 SMP Wed Feb 23 16:47:03 UTC 2022\n",
      "# csv,DLResults_Graphs timer_num:0,ok,20.929,20.929,2022-11-09 20:54:07,,None,udc-aj36-36,dje5dj,Linux,#1 SMP Wed Feb 23 16:47:03 UTC 2022\n",
      "# csv,RunTFTCustomVersion DLResults Graph Title event_num:0,ok,0.0,0.0,2022-11-09 20:54:07,,None,udc-aj36-36,dje5dj,Linux,#1 SMP Wed Feb 23 16:47:03 UTC 2022\n",
      "# csv,RunTFTCustomVersion DLResults Graph Title event_num:1,ok,0.0,0.0,2022-11-09 20:54:07,,None,udc-aj36-36,dje5dj,Linux,#1 SMP Wed Feb 23 16:47:03 UTC 2022\n",
      "# csv,RunTFTCustomVersion DLResults Graph Title event_num:2,ok,0.0,0.0,2022-11-09 20:54:13,,None,udc-aj36-36,dje5dj,Linux,#1 SMP Wed Feb 23 16:47:03 UTC 2022\n",
      "# csv,RunTFTCustomVersion DLResults Graph Title event_num:3,ok,0.0,0.0,2022-11-09 20:54:13,,None,udc-aj36-36,dje5dj,Linux,#1 SMP Wed Feb 23 16:47:03 UTC 2022\n",
      "# csv,RunTFTCustomVersion DLResults Graph Title event_num:4,ok,0.0,0.0,2022-11-09 20:54:18,,None,udc-aj36-36,dje5dj,Linux,#1 SMP Wed Feb 23 16:47:03 UTC 2022\n",
      "# csv,RunTFTCustomVersion DLResults Graph Title event_num:5,ok,0.0,0.0,2022-11-09 20:54:18,,None,udc-aj36-36,dje5dj,Linux,#1 SMP Wed Feb 23 16:47:03 UTC 2022\n",
      "# csv,RunTFTCustomVersion DLResults Graph Title event_num:6,ok,0.0,0.0,2022-11-09 20:54:23,,None,udc-aj36-36,dje5dj,Linux,#1 SMP Wed Feb 23 16:47:03 UTC 2022\n",
      "# csv,RunTFTCustomVersion DLResults Graph Title event_num:7,ok,0.0,0.0,2022-11-09 20:54:23,,None,udc-aj36-36,dje5dj,Linux,#1 SMP Wed Feb 23 16:47:03 UTC 2022\n",
      "# csv,DLResults_Graphs timer_num:1,ok,3.446,3.446,2022-11-09 20:54:33,,None,udc-aj36-36,dje5dj,Linux,#1 SMP Wed Feb 23 16:47:03 UTC 2022\n",
      "# csv,RunTFTCustomVersion DLResults Graph Title event_num:8,ok,0.0,0.0,2022-11-09 20:54:33,,None,udc-aj36-36,dje5dj,Linux,#1 SMP Wed Feb 23 16:47:03 UTC 2022\n",
      "# csv,RunTFTCustomVersion DLResults Graph Title event_num:9,ok,0.0,0.0,2022-11-09 20:54:33,,None,udc-aj36-36,dje5dj,Linux,#1 SMP Wed Feb 23 16:47:03 UTC 2022\n",
      "# csv,RunTFTCustomVersion DLResults Graph Title event_num:10,ok,0.0,0.0,2022-11-09 20:54:34,,None,udc-aj36-36,dje5dj,Linux,#1 SMP Wed Feb 23 16:47:03 UTC 2022\n",
      "# csv,RunTFTCustomVersion DLResults Graph Title event_num:11,ok,0.0,0.0,2022-11-09 20:54:34,,None,udc-aj36-36,dje5dj,Linux,#1 SMP Wed Feb 23 16:47:03 UTC 2022\n",
      "# csv,RunTFTCustomVersion DLResults Graph Title event_num:12,ok,0.0,0.0,2022-11-09 20:54:35,,None,udc-aj36-36,dje5dj,Linux,#1 SMP Wed Feb 23 16:47:03 UTC 2022\n",
      "# csv,RunTFTCustomVersion DLResults Graph Title event_num:13,ok,0.0,0.0,2022-11-09 20:54:35,,None,udc-aj36-36,dje5dj,Linux,#1 SMP Wed Feb 23 16:47:03 UTC 2022\n",
      "# csv,RunTFTCustomVersion DLResults Graph Title event_num:14,ok,0.0,0.0,2022-11-09 20:54:36,,None,udc-aj36-36,dje5dj,Linux,#1 SMP Wed Feb 23 16:47:03 UTC 2022\n",
      "# csv,RunTFTCustomVersion DLResults Graph Title event_num:15,ok,0.0,0.0,2022-11-09 20:54:36,,None,udc-aj36-36,dje5dj,Linux,#1 SMP Wed Feb 23 16:47:03 UTC 2022\n",
      "# csv,DLResults_Graphs timer_num:2,ok,4.389,4.389,2022-11-09 20:54:42,,None,udc-aj36-36,dje5dj,Linux,#1 SMP Wed Feb 23 16:47:03 UTC 2022\n",
      "# csv,RunTFTCustomVersion DLResults Graph Title event_num:16,ok,0.0,0.0,2022-11-09 20:54:42,,None,udc-aj36-36,dje5dj,Linux,#1 SMP Wed Feb 23 16:47:03 UTC 2022\n",
      "# csv,RunTFTCustomVersion DLResults Graph Title event_num:17,ok,0.0,0.0,2022-11-09 20:54:42,,None,udc-aj36-36,dje5dj,Linux,#1 SMP Wed Feb 23 16:47:03 UTC 2022\n",
      "# csv,RunTFTCustomVersion DLResults Graph Title event_num:18,ok,0.0,0.0,2022-11-09 20:54:43,,None,udc-aj36-36,dje5dj,Linux,#1 SMP Wed Feb 23 16:47:03 UTC 2022\n",
      "# csv,RunTFTCustomVersion DLResults Graph Title event_num:19,ok,0.0,0.0,2022-11-09 20:54:43,,None,udc-aj36-36,dje5dj,Linux,#1 SMP Wed Feb 23 16:47:03 UTC 2022\n",
      "# csv,RunTFTCustomVersion DLResults Graph Title event_num:20,ok,0.0,0.0,2022-11-09 20:54:43,,None,udc-aj36-36,dje5dj,Linux,#1 SMP Wed Feb 23 16:47:03 UTC 2022\n",
      "# csv,RunTFTCustomVersion DLResults Graph Title event_num:21,ok,0.0,0.0,2022-11-09 20:54:43,,None,udc-aj36-36,dje5dj,Linux,#1 SMP Wed Feb 23 16:47:03 UTC 2022\n",
      "# csv,RunTFTCustomVersion DLResults Graph Title event_num:22,ok,0.0,0.0,2022-11-09 20:54:44,,None,udc-aj36-36,dje5dj,Linux,#1 SMP Wed Feb 23 16:47:03 UTC 2022\n",
      "# csv,RunTFTCustomVersion DLResults Graph Title event_num:23,ok,0.0,0.0,2022-11-09 20:54:45,,None,udc-aj36-36,dje5dj,Linux,#1 SMP Wed Feb 23 16:47:03 UTC 2022\n",
      "# csv,DLResults_Graphs timer_num:3,ok,3.446,3.446,2022-11-09 20:54:51,,None,udc-aj36-36,dje5dj,Linux,#1 SMP Wed Feb 23 16:47:03 UTC 2022\n",
      "# csv,RunTFTCustomVersion DLResults Graph Title event_num:24,ok,0.0,0.0,2022-11-09 20:54:51,,None,udc-aj36-36,dje5dj,Linux,#1 SMP Wed Feb 23 16:47:03 UTC 2022\n",
      "# csv,RunTFTCustomVersion DLResults Graph Title event_num:25,ok,0.0,0.0,2022-11-09 20:54:51,,None,udc-aj36-36,dje5dj,Linux,#1 SMP Wed Feb 23 16:47:03 UTC 2022\n",
      "# csv,RunTFTCustomVersion DLResults Graph Title event_num:26,ok,0.0,0.0,2022-11-09 20:54:52,,None,udc-aj36-36,dje5dj,Linux,#1 SMP Wed Feb 23 16:47:03 UTC 2022\n",
      "# csv,RunTFTCustomVersion DLResults Graph Title event_num:27,ok,0.0,0.0,2022-11-09 20:54:52,,None,udc-aj36-36,dje5dj,Linux,#1 SMP Wed Feb 23 16:47:03 UTC 2022\n",
      "# csv,RunTFTCustomVersion DLResults Graph Title event_num:28,ok,0.0,0.0,2022-11-09 20:54:53,,None,udc-aj36-36,dje5dj,Linux,#1 SMP Wed Feb 23 16:47:03 UTC 2022\n",
      "# csv,RunTFTCustomVersion DLResults Graph Title event_num:29,ok,0.0,0.0,2022-11-09 20:54:53,,None,udc-aj36-36,dje5dj,Linux,#1 SMP Wed Feb 23 16:47:03 UTC 2022\n",
      "# csv,RunTFTCustomVersion DLResults Graph Title event_num:30,ok,0.0,0.0,2022-11-09 20:54:54,,None,udc-aj36-36,dje5dj,Linux,#1 SMP Wed Feb 23 16:47:03 UTC 2022\n",
      "# csv,RunTFTCustomVersion DLResults Graph Title event_num:31,ok,0.0,0.0,2022-11-09 20:54:54,,None,udc-aj36-36,dje5dj,Linux,#1 SMP Wed Feb 23 16:47:03 UTC 2022\n",
      "# csv,RunTFTCustomVersion bestfit finalize VisualizeTFT event_num:0,ok,0.0,0.0,2022-11-09 20:54:55,,None,udc-aj36-36,dje5dj,Linux,#1 SMP Wed Feb 23 16:47:03 UTC 2022\n"
     ]
    }
   ],
   "source": [
    "content = readfile(full_dir_path, encoding='utf-8').splitlines()\n",
    "# headline = '# csv,timer,status,time,sum,start,tag,msg,uname.node,user,uname.system,platform.version'\n",
    "headline = Shell.cm_grep(content, '# csv,timer')[0]\n",
    "csv_lines = Shell.cm_grep(content, '# csv')\n",
    "csv_lines = Shell.cm_grep(csv_lines, 'Linux')\n",
    "csv_lines.insert(0, headline)\n",
    "# print(\"\\n\".join(csv_lines))\n",
    "# content = \"\\n\".join(csv_lines)\n",
    "content = content.replace(', ', ',')\n",
    "timer_df = pd.read_csv(io.StringIO(content),sep=',')"
   ],
   "metadata": {
    "collapsed": false
   }
  },
  {
   "cell_type": "code",
   "execution_count": 27,
   "outputs": [
    {
     "data": {
      "text/plain": "                                                 timer       time  \\\n0                                                total       None   \n1                                                total  13752.481   \n2                                                 INIT      0.979   \n3                                                 EVAL     440.14   \n4                                                PLOTS    411.943   \n..                                                 ...        ...   \n224  RunTFTCustomVersion DLResults Graph Title even...        0.0   \n225  RunTFTCustomVersion DLResults Graph Title even...        0.0   \n226  RunTFTCustomVersion DLResults Graph Title even...        0.0   \n227  RunTFTCustomVersion DLResults Graph Title even...        0.0   \n228  RunTFTCustomVersion bestfit finalize Visualize...        0.0   \n\n                   start  tag  \n0    2022-11-09 17:05:45  NaN  \n1    2022-11-09 17:05:45  NaN  \n2    2022-11-09 17:05:50  NaN  \n3    2022-11-09 17:05:51  NaN  \n4    2022-11-09 17:05:52  NaN  \n..                   ...  ...  \n224  2022-11-09 20:54:53  NaN  \n225  2022-11-09 20:54:53  NaN  \n226  2022-11-09 20:54:54  NaN  \n227  2022-11-09 20:54:54  NaN  \n228  2022-11-09 20:54:55  NaN  \n\n[229 rows x 4 columns]",
      "text/html": "<div>\n<style scoped>\n    .dataframe tbody tr th:only-of-type {\n        vertical-align: middle;\n    }\n\n    .dataframe tbody tr th {\n        vertical-align: top;\n    }\n\n    .dataframe thead th {\n        text-align: right;\n    }\n</style>\n<table border=\"1\" class=\"dataframe\">\n  <thead>\n    <tr style=\"text-align: right;\">\n      <th></th>\n      <th>timer</th>\n      <th>time</th>\n      <th>start</th>\n      <th>tag</th>\n    </tr>\n  </thead>\n  <tbody>\n    <tr>\n      <th>0</th>\n      <td>total</td>\n      <td>None</td>\n      <td>2022-11-09 17:05:45</td>\n      <td>NaN</td>\n    </tr>\n    <tr>\n      <th>1</th>\n      <td>total</td>\n      <td>13752.481</td>\n      <td>2022-11-09 17:05:45</td>\n      <td>NaN</td>\n    </tr>\n    <tr>\n      <th>2</th>\n      <td>INIT</td>\n      <td>0.979</td>\n      <td>2022-11-09 17:05:50</td>\n      <td>NaN</td>\n    </tr>\n    <tr>\n      <th>3</th>\n      <td>EVAL</td>\n      <td>440.14</td>\n      <td>2022-11-09 17:05:51</td>\n      <td>NaN</td>\n    </tr>\n    <tr>\n      <th>4</th>\n      <td>PLOTS</td>\n      <td>411.943</td>\n      <td>2022-11-09 17:05:52</td>\n      <td>NaN</td>\n    </tr>\n    <tr>\n      <th>...</th>\n      <td>...</td>\n      <td>...</td>\n      <td>...</td>\n      <td>...</td>\n    </tr>\n    <tr>\n      <th>224</th>\n      <td>RunTFTCustomVersion DLResults Graph Title even...</td>\n      <td>0.0</td>\n      <td>2022-11-09 20:54:53</td>\n      <td>NaN</td>\n    </tr>\n    <tr>\n      <th>225</th>\n      <td>RunTFTCustomVersion DLResults Graph Title even...</td>\n      <td>0.0</td>\n      <td>2022-11-09 20:54:53</td>\n      <td>NaN</td>\n    </tr>\n    <tr>\n      <th>226</th>\n      <td>RunTFTCustomVersion DLResults Graph Title even...</td>\n      <td>0.0</td>\n      <td>2022-11-09 20:54:54</td>\n      <td>NaN</td>\n    </tr>\n    <tr>\n      <th>227</th>\n      <td>RunTFTCustomVersion DLResults Graph Title even...</td>\n      <td>0.0</td>\n      <td>2022-11-09 20:54:54</td>\n      <td>NaN</td>\n    </tr>\n    <tr>\n      <th>228</th>\n      <td>RunTFTCustomVersion bestfit finalize Visualize...</td>\n      <td>0.0</td>\n      <td>2022-11-09 20:54:55</td>\n      <td>NaN</td>\n    </tr>\n  </tbody>\n</table>\n<p>229 rows × 4 columns</p>\n</div>"
     },
     "execution_count": 27,
     "metadata": {},
     "output_type": "execute_result"
    }
   ],
   "source": [
    "df2 = timer_df.drop(columns=['# csv', 'status', 'sum', 'uname.node', 'user', 'uname.system', 'platform.version', 'msg'])\n",
    "df2\n",
    "\n",
    "# to do- there are two totals. if time == None then drop the row"
   ],
   "metadata": {
    "collapsed": false
   }
  },
  {
   "cell_type": "code",
   "execution_count": 28,
   "outputs": [
    {
     "ename": "KeyError",
     "evalue": "'timer'",
     "output_type": "error",
     "traceback": [
      "\u001B[1;31m---------------------------------------------------------------------------\u001B[0m",
      "\u001B[1;31mKeyError\u001B[0m                                  Traceback (most recent call last)",
      "File \u001B[1;32m~\\ENV3\\Lib\\site-packages\\pandas\\core\\indexes\\base.py:3803\u001B[0m, in \u001B[0;36mIndex.get_loc\u001B[1;34m(self, key, method, tolerance)\u001B[0m\n\u001B[0;32m   3802\u001B[0m \u001B[38;5;28;01mtry\u001B[39;00m:\n\u001B[1;32m-> 3803\u001B[0m     \u001B[38;5;28;01mreturn\u001B[39;00m \u001B[38;5;28;43mself\u001B[39;49m\u001B[38;5;241;43m.\u001B[39;49m\u001B[43m_engine\u001B[49m\u001B[38;5;241;43m.\u001B[39;49m\u001B[43mget_loc\u001B[49m\u001B[43m(\u001B[49m\u001B[43mcasted_key\u001B[49m\u001B[43m)\u001B[49m\n\u001B[0;32m   3804\u001B[0m \u001B[38;5;28;01mexcept\u001B[39;00m \u001B[38;5;167;01mKeyError\u001B[39;00m \u001B[38;5;28;01mas\u001B[39;00m err:\n",
      "File \u001B[1;32m~\\ENV3\\Lib\\site-packages\\pandas\\_libs\\index.pyx:138\u001B[0m, in \u001B[0;36mpandas._libs.index.IndexEngine.get_loc\u001B[1;34m()\u001B[0m\n",
      "File \u001B[1;32m~\\ENV3\\Lib\\site-packages\\pandas\\_libs\\index.pyx:165\u001B[0m, in \u001B[0;36mpandas._libs.index.IndexEngine.get_loc\u001B[1;34m()\u001B[0m\n",
      "File \u001B[1;32mpandas\\_libs\\hashtable_class_helper.pxi:5745\u001B[0m, in \u001B[0;36mpandas._libs.hashtable.PyObjectHashTable.get_item\u001B[1;34m()\u001B[0m\n",
      "File \u001B[1;32mpandas\\_libs\\hashtable_class_helper.pxi:5753\u001B[0m, in \u001B[0;36mpandas._libs.hashtable.PyObjectHashTable.get_item\u001B[1;34m()\u001B[0m\n",
      "\u001B[1;31mKeyError\u001B[0m: 'timer'",
      "\nThe above exception was the direct cause of the following exception:\n",
      "\u001B[1;31mKeyError\u001B[0m                                  Traceback (most recent call last)",
      "Cell \u001B[1;32mIn[28], line 1\u001B[0m\n\u001B[1;32m----> 1\u001B[0m df2\u001B[38;5;241m.\u001B[39mloc[\u001B[43mdf\u001B[49m\u001B[43m[\u001B[49m\u001B[38;5;124;43m'\u001B[39;49m\u001B[38;5;124;43mtimer\u001B[39;49m\u001B[38;5;124;43m'\u001B[39;49m\u001B[43m]\u001B[49m \u001B[38;5;241m==\u001B[39m \u001B[38;5;124m'\u001B[39m\u001B[38;5;124mINIT\u001B[39m\u001B[38;5;124m'\u001B[39m]\n",
      "File \u001B[1;32m~\\ENV3\\Lib\\site-packages\\pandas\\core\\frame.py:3805\u001B[0m, in \u001B[0;36mDataFrame.__getitem__\u001B[1;34m(self, key)\u001B[0m\n\u001B[0;32m   3803\u001B[0m \u001B[38;5;28;01mif\u001B[39;00m \u001B[38;5;28mself\u001B[39m\u001B[38;5;241m.\u001B[39mcolumns\u001B[38;5;241m.\u001B[39mnlevels \u001B[38;5;241m>\u001B[39m \u001B[38;5;241m1\u001B[39m:\n\u001B[0;32m   3804\u001B[0m     \u001B[38;5;28;01mreturn\u001B[39;00m \u001B[38;5;28mself\u001B[39m\u001B[38;5;241m.\u001B[39m_getitem_multilevel(key)\n\u001B[1;32m-> 3805\u001B[0m indexer \u001B[38;5;241m=\u001B[39m \u001B[38;5;28;43mself\u001B[39;49m\u001B[38;5;241;43m.\u001B[39;49m\u001B[43mcolumns\u001B[49m\u001B[38;5;241;43m.\u001B[39;49m\u001B[43mget_loc\u001B[49m\u001B[43m(\u001B[49m\u001B[43mkey\u001B[49m\u001B[43m)\u001B[49m\n\u001B[0;32m   3806\u001B[0m \u001B[38;5;28;01mif\u001B[39;00m is_integer(indexer):\n\u001B[0;32m   3807\u001B[0m     indexer \u001B[38;5;241m=\u001B[39m [indexer]\n",
      "File \u001B[1;32m~\\ENV3\\Lib\\site-packages\\pandas\\core\\indexes\\base.py:3805\u001B[0m, in \u001B[0;36mIndex.get_loc\u001B[1;34m(self, key, method, tolerance)\u001B[0m\n\u001B[0;32m   3803\u001B[0m     \u001B[38;5;28;01mreturn\u001B[39;00m \u001B[38;5;28mself\u001B[39m\u001B[38;5;241m.\u001B[39m_engine\u001B[38;5;241m.\u001B[39mget_loc(casted_key)\n\u001B[0;32m   3804\u001B[0m \u001B[38;5;28;01mexcept\u001B[39;00m \u001B[38;5;167;01mKeyError\u001B[39;00m \u001B[38;5;28;01mas\u001B[39;00m err:\n\u001B[1;32m-> 3805\u001B[0m     \u001B[38;5;28;01mraise\u001B[39;00m \u001B[38;5;167;01mKeyError\u001B[39;00m(key) \u001B[38;5;28;01mfrom\u001B[39;00m \u001B[38;5;21;01merr\u001B[39;00m\n\u001B[0;32m   3806\u001B[0m \u001B[38;5;28;01mexcept\u001B[39;00m \u001B[38;5;167;01mTypeError\u001B[39;00m:\n\u001B[0;32m   3807\u001B[0m     \u001B[38;5;66;03m# If we have a listlike key, _check_indexing_error will raise\u001B[39;00m\n\u001B[0;32m   3808\u001B[0m     \u001B[38;5;66;03m#  InvalidIndexError. Otherwise we fall through and re-raise\u001B[39;00m\n\u001B[0;32m   3809\u001B[0m     \u001B[38;5;66;03m#  the TypeError.\u001B[39;00m\n\u001B[0;32m   3810\u001B[0m     \u001B[38;5;28mself\u001B[39m\u001B[38;5;241m.\u001B[39m_check_indexing_error(key)\n",
      "\u001B[1;31mKeyError\u001B[0m: 'timer'"
     ]
    }
   ],
   "source": [
    "df2.loc[df['timer'] == 'INIT']"
   ],
   "metadata": {
    "collapsed": false
   }
  },
  {
   "cell_type": "code",
   "execution_count": null,
   "outputs": [],
   "source": [
    "df2.loc[df['timer'] == 'PLOTTED_EARTHQUAKE_IMAGES']"
   ],
   "metadata": {
    "collapsed": false
   }
  },
  {
   "cell_type": "code",
   "execution_count": null,
   "outputs": [],
   "source": [
    "df2.loc[df['timer'] == 'Predicted_Data_0']"
   ],
   "metadata": {
    "collapsed": false
   }
  },
  {
   "cell_type": "code",
   "execution_count": null,
   "outputs": [],
   "source": [
    "df2.loc[df['timer'] == 'Predicted_Data_103']"
   ],
   "metadata": {
    "collapsed": false
   }
  },
  {
   "cell_type": "code",
   "execution_count": null,
   "outputs": [],
   "source": [
    "df2.loc[df['timer'] == 'RunTFTCustomVersion tft only']"
   ],
   "metadata": {
    "collapsed": false
   }
  },
  {
   "cell_type": "code",
   "execution_count": 42,
   "outputs": [],
   "source": [
    "def plot_energy(filename, epoch):\n",
    "    df = read_energy(filename)\n",
    "    label = f'Epoch {epoch}'\n",
    "    df.rename(columns = {'0 power_draw W':label}, inplace=True)\n",
    "    energy = df[['time', label]]\n",
    "    # display(energy)\n",
    "\n",
    "    ax = sns.lineplot(energy)\n",
    "    # export_figure('Time', 'Energy', filename)\n",
    "    return ax"
   ],
   "metadata": {
    "collapsed": false
   }
  },
  {
   "cell_type": "code",
   "execution_count": 43,
   "outputs": [
    {
     "ename": "TypeError",
     "evalue": "ufunc 'isfinite' not supported for the input types, and the inputs could not be safely coerced to any supported types according to the casting rule ''safe''",
     "output_type": "error",
     "traceback": [
      "\u001B[1;31m---------------------------------------------------------------------------\u001B[0m",
      "\u001B[1;31mTypeError\u001B[0m                                 Traceback (most recent call last)",
      "Cell \u001B[1;32mIn[43], line 3\u001B[0m\n\u001B[0;32m      1\u001B[0m read_energy(\u001B[38;5;124m'\u001B[39m\u001B[38;5;124m./data/old/card_name_v100_gpu_count_1_cpu_num_6_mem_32GB_repeat_1_TFTTransformerepochs_2/gpu0.log\u001B[39m\u001B[38;5;124m'\u001B[39m)\n\u001B[1;32m----> 3\u001B[0m \u001B[43mplot_energy\u001B[49m\u001B[43m(\u001B[49m\u001B[38;5;124;43m'\u001B[39;49m\u001B[38;5;124;43m./data/old/card_name_v100_gpu_count_1_cpu_num_6_mem_32GB_repeat_1_TFTTransformerepochs_2/gpu0.log\u001B[39;49m\u001B[38;5;124;43m'\u001B[39;49m\u001B[43m,\u001B[49m\u001B[43m \u001B[49m\u001B[38;5;241;43m2\u001B[39;49m\u001B[43m)\u001B[49m\n",
      "Cell \u001B[1;32mIn[42], line 8\u001B[0m, in \u001B[0;36mplot_energy\u001B[1;34m(filename, epoch)\u001B[0m\n\u001B[0;32m      6\u001B[0m energy \u001B[38;5;241m=\u001B[39m df[[\u001B[38;5;124m'\u001B[39m\u001B[38;5;124mtime\u001B[39m\u001B[38;5;124m'\u001B[39m, label]]\n\u001B[0;32m      7\u001B[0m \u001B[38;5;66;03m# display(energy)\u001B[39;00m\n\u001B[1;32m----> 8\u001B[0m \u001B[43msns\u001B[49m\u001B[38;5;241;43m.\u001B[39;49m\u001B[43mlineplot\u001B[49m\u001B[43m(\u001B[49m\u001B[43menergy\u001B[49m\u001B[43m)\u001B[49m\n\u001B[0;32m      9\u001B[0m export_figure(\u001B[38;5;124m'\u001B[39m\u001B[38;5;124mTime\u001B[39m\u001B[38;5;124m'\u001B[39m, \u001B[38;5;124m'\u001B[39m\u001B[38;5;124mEnergy\u001B[39m\u001B[38;5;124m'\u001B[39m, filename)\n",
      "File \u001B[1;32m~\\ENV3\\Lib\\site-packages\\seaborn\\relational.py:645\u001B[0m, in \u001B[0;36mlineplot\u001B[1;34m(data, x, y, hue, size, style, units, palette, hue_order, hue_norm, sizes, size_order, size_norm, dashes, markers, style_order, estimator, errorbar, n_boot, seed, orient, sort, err_style, err_kws, legend, ci, ax, **kwargs)\u001B[0m\n\u001B[0;32m    642\u001B[0m color \u001B[38;5;241m=\u001B[39m kwargs\u001B[38;5;241m.\u001B[39mpop(\u001B[38;5;124m\"\u001B[39m\u001B[38;5;124mcolor\u001B[39m\u001B[38;5;124m\"\u001B[39m, kwargs\u001B[38;5;241m.\u001B[39mpop(\u001B[38;5;124m\"\u001B[39m\u001B[38;5;124mc\u001B[39m\u001B[38;5;124m\"\u001B[39m, \u001B[38;5;28;01mNone\u001B[39;00m))\n\u001B[0;32m    643\u001B[0m kwargs[\u001B[38;5;124m\"\u001B[39m\u001B[38;5;124mcolor\u001B[39m\u001B[38;5;124m\"\u001B[39m] \u001B[38;5;241m=\u001B[39m _default_color(ax\u001B[38;5;241m.\u001B[39mplot, hue, color, kwargs)\n\u001B[1;32m--> 645\u001B[0m \u001B[43mp\u001B[49m\u001B[38;5;241;43m.\u001B[39;49m\u001B[43mplot\u001B[49m\u001B[43m(\u001B[49m\u001B[43max\u001B[49m\u001B[43m,\u001B[49m\u001B[43m \u001B[49m\u001B[43mkwargs\u001B[49m\u001B[43m)\u001B[49m\n\u001B[0;32m    646\u001B[0m \u001B[38;5;28;01mreturn\u001B[39;00m ax\n",
      "File \u001B[1;32m~\\ENV3\\Lib\\site-packages\\seaborn\\relational.py:489\u001B[0m, in \u001B[0;36m_LinePlotter.plot\u001B[1;34m(self, ax, kws)\u001B[0m\n\u001B[0;32m    486\u001B[0m \u001B[38;5;28;01mif\u001B[39;00m \u001B[38;5;28mself\u001B[39m\u001B[38;5;241m.\u001B[39merr_style \u001B[38;5;241m==\u001B[39m \u001B[38;5;124m\"\u001B[39m\u001B[38;5;124mband\u001B[39m\u001B[38;5;124m\"\u001B[39m:\n\u001B[0;32m    488\u001B[0m     func \u001B[38;5;241m=\u001B[39m {\u001B[38;5;124m\"\u001B[39m\u001B[38;5;124mx\u001B[39m\u001B[38;5;124m\"\u001B[39m: ax\u001B[38;5;241m.\u001B[39mfill_between, \u001B[38;5;124m\"\u001B[39m\u001B[38;5;124my\u001B[39m\u001B[38;5;124m\"\u001B[39m: ax\u001B[38;5;241m.\u001B[39mfill_betweenx}[orient]\n\u001B[1;32m--> 489\u001B[0m     \u001B[43mfunc\u001B[49m\u001B[43m(\u001B[49m\n\u001B[0;32m    490\u001B[0m \u001B[43m        \u001B[49m\u001B[43msub_data\u001B[49m\u001B[43m[\u001B[49m\u001B[43morient\u001B[49m\u001B[43m]\u001B[49m\u001B[43m,\u001B[49m\n\u001B[0;32m    491\u001B[0m \u001B[43m        \u001B[49m\u001B[43msub_data\u001B[49m\u001B[43m[\u001B[49m\u001B[38;5;124;43mf\u001B[39;49m\u001B[38;5;124;43m\"\u001B[39;49m\u001B[38;5;132;43;01m{\u001B[39;49;00m\u001B[43mother\u001B[49m\u001B[38;5;132;43;01m}\u001B[39;49;00m\u001B[38;5;124;43mmin\u001B[39;49m\u001B[38;5;124;43m\"\u001B[39;49m\u001B[43m]\u001B[49m\u001B[43m,\u001B[49m\u001B[43m \u001B[49m\u001B[43msub_data\u001B[49m\u001B[43m[\u001B[49m\u001B[38;5;124;43mf\u001B[39;49m\u001B[38;5;124;43m\"\u001B[39;49m\u001B[38;5;132;43;01m{\u001B[39;49;00m\u001B[43mother\u001B[49m\u001B[38;5;132;43;01m}\u001B[39;49;00m\u001B[38;5;124;43mmax\u001B[39;49m\u001B[38;5;124;43m\"\u001B[39;49m\u001B[43m]\u001B[49m\u001B[43m,\u001B[49m\n\u001B[0;32m    492\u001B[0m \u001B[43m        \u001B[49m\u001B[43mcolor\u001B[49m\u001B[38;5;241;43m=\u001B[39;49m\u001B[43mline_color\u001B[49m\u001B[43m,\u001B[49m\u001B[43m \u001B[49m\u001B[38;5;241;43m*\u001B[39;49m\u001B[38;5;241;43m*\u001B[39;49m\u001B[43merr_kws\u001B[49m\n\u001B[0;32m    493\u001B[0m \u001B[43m    \u001B[49m\u001B[43m)\u001B[49m\n\u001B[0;32m    495\u001B[0m \u001B[38;5;28;01melif\u001B[39;00m \u001B[38;5;28mself\u001B[39m\u001B[38;5;241m.\u001B[39merr_style \u001B[38;5;241m==\u001B[39m \u001B[38;5;124m\"\u001B[39m\u001B[38;5;124mbars\u001B[39m\u001B[38;5;124m\"\u001B[39m:\n\u001B[0;32m    497\u001B[0m     error_param \u001B[38;5;241m=\u001B[39m {\n\u001B[0;32m    498\u001B[0m         \u001B[38;5;124mf\u001B[39m\u001B[38;5;124m\"\u001B[39m\u001B[38;5;132;01m{\u001B[39;00mother\u001B[38;5;132;01m}\u001B[39;00m\u001B[38;5;124merr\u001B[39m\u001B[38;5;124m\"\u001B[39m: (\n\u001B[0;32m    499\u001B[0m             sub_data[other] \u001B[38;5;241m-\u001B[39m sub_data[\u001B[38;5;124mf\u001B[39m\u001B[38;5;124m\"\u001B[39m\u001B[38;5;132;01m{\u001B[39;00mother\u001B[38;5;132;01m}\u001B[39;00m\u001B[38;5;124mmin\u001B[39m\u001B[38;5;124m\"\u001B[39m],\n\u001B[0;32m    500\u001B[0m             sub_data[\u001B[38;5;124mf\u001B[39m\u001B[38;5;124m\"\u001B[39m\u001B[38;5;132;01m{\u001B[39;00mother\u001B[38;5;132;01m}\u001B[39;00m\u001B[38;5;124mmax\u001B[39m\u001B[38;5;124m\"\u001B[39m] \u001B[38;5;241m-\u001B[39m sub_data[other],\n\u001B[0;32m    501\u001B[0m         )\n\u001B[0;32m    502\u001B[0m     }\n",
      "File \u001B[1;32m~\\ENV3\\Lib\\site-packages\\matplotlib\\__init__.py:1423\u001B[0m, in \u001B[0;36m_preprocess_data.<locals>.inner\u001B[1;34m(ax, data, *args, **kwargs)\u001B[0m\n\u001B[0;32m   1420\u001B[0m \u001B[38;5;129m@functools\u001B[39m\u001B[38;5;241m.\u001B[39mwraps(func)\n\u001B[0;32m   1421\u001B[0m \u001B[38;5;28;01mdef\u001B[39;00m \u001B[38;5;21minner\u001B[39m(ax, \u001B[38;5;241m*\u001B[39margs, data\u001B[38;5;241m=\u001B[39m\u001B[38;5;28;01mNone\u001B[39;00m, \u001B[38;5;241m*\u001B[39m\u001B[38;5;241m*\u001B[39mkwargs):\n\u001B[0;32m   1422\u001B[0m     \u001B[38;5;28;01mif\u001B[39;00m data \u001B[38;5;129;01mis\u001B[39;00m \u001B[38;5;28;01mNone\u001B[39;00m:\n\u001B[1;32m-> 1423\u001B[0m         \u001B[38;5;28;01mreturn\u001B[39;00m \u001B[43mfunc\u001B[49m\u001B[43m(\u001B[49m\u001B[43max\u001B[49m\u001B[43m,\u001B[49m\u001B[43m \u001B[49m\u001B[38;5;241;43m*\u001B[39;49m\u001B[38;5;28;43mmap\u001B[39;49m\u001B[43m(\u001B[49m\u001B[43msanitize_sequence\u001B[49m\u001B[43m,\u001B[49m\u001B[43m \u001B[49m\u001B[43margs\u001B[49m\u001B[43m)\u001B[49m\u001B[43m,\u001B[49m\u001B[43m \u001B[49m\u001B[38;5;241;43m*\u001B[39;49m\u001B[38;5;241;43m*\u001B[39;49m\u001B[43mkwargs\u001B[49m\u001B[43m)\u001B[49m\n\u001B[0;32m   1425\u001B[0m     bound \u001B[38;5;241m=\u001B[39m new_sig\u001B[38;5;241m.\u001B[39mbind(ax, \u001B[38;5;241m*\u001B[39margs, \u001B[38;5;241m*\u001B[39m\u001B[38;5;241m*\u001B[39mkwargs)\n\u001B[0;32m   1426\u001B[0m     auto_label \u001B[38;5;241m=\u001B[39m (bound\u001B[38;5;241m.\u001B[39marguments\u001B[38;5;241m.\u001B[39mget(label_namer)\n\u001B[0;32m   1427\u001B[0m                   \u001B[38;5;129;01mor\u001B[39;00m bound\u001B[38;5;241m.\u001B[39mkwargs\u001B[38;5;241m.\u001B[39mget(label_namer))\n",
      "File \u001B[1;32m~\\ENV3\\Lib\\site-packages\\matplotlib\\axes\\_axes.py:5367\u001B[0m, in \u001B[0;36mAxes.fill_between\u001B[1;34m(self, x, y1, y2, where, interpolate, step, **kwargs)\u001B[0m\n\u001B[0;32m   5365\u001B[0m \u001B[38;5;28;01mdef\u001B[39;00m \u001B[38;5;21mfill_between\u001B[39m(\u001B[38;5;28mself\u001B[39m, x, y1, y2\u001B[38;5;241m=\u001B[39m\u001B[38;5;241m0\u001B[39m, where\u001B[38;5;241m=\u001B[39m\u001B[38;5;28;01mNone\u001B[39;00m, interpolate\u001B[38;5;241m=\u001B[39m\u001B[38;5;28;01mFalse\u001B[39;00m,\n\u001B[0;32m   5366\u001B[0m                  step\u001B[38;5;241m=\u001B[39m\u001B[38;5;28;01mNone\u001B[39;00m, \u001B[38;5;241m*\u001B[39m\u001B[38;5;241m*\u001B[39mkwargs):\n\u001B[1;32m-> 5367\u001B[0m     \u001B[38;5;28;01mreturn\u001B[39;00m \u001B[38;5;28;43mself\u001B[39;49m\u001B[38;5;241;43m.\u001B[39;49m\u001B[43m_fill_between_x_or_y\u001B[49m\u001B[43m(\u001B[49m\n\u001B[0;32m   5368\u001B[0m \u001B[43m        \u001B[49m\u001B[38;5;124;43m\"\u001B[39;49m\u001B[38;5;124;43mx\u001B[39;49m\u001B[38;5;124;43m\"\u001B[39;49m\u001B[43m,\u001B[49m\u001B[43m \u001B[49m\u001B[43mx\u001B[49m\u001B[43m,\u001B[49m\u001B[43m \u001B[49m\u001B[43my1\u001B[49m\u001B[43m,\u001B[49m\u001B[43m \u001B[49m\u001B[43my2\u001B[49m\u001B[43m,\u001B[49m\n\u001B[0;32m   5369\u001B[0m \u001B[43m        \u001B[49m\u001B[43mwhere\u001B[49m\u001B[38;5;241;43m=\u001B[39;49m\u001B[43mwhere\u001B[49m\u001B[43m,\u001B[49m\u001B[43m \u001B[49m\u001B[43minterpolate\u001B[49m\u001B[38;5;241;43m=\u001B[39;49m\u001B[43minterpolate\u001B[49m\u001B[43m,\u001B[49m\u001B[43m \u001B[49m\u001B[43mstep\u001B[49m\u001B[38;5;241;43m=\u001B[39;49m\u001B[43mstep\u001B[49m\u001B[43m,\u001B[49m\u001B[43m \u001B[49m\u001B[38;5;241;43m*\u001B[39;49m\u001B[38;5;241;43m*\u001B[39;49m\u001B[43mkwargs\u001B[49m\u001B[43m)\u001B[49m\n",
      "File \u001B[1;32m~\\ENV3\\Lib\\site-packages\\matplotlib\\axes\\_axes.py:5272\u001B[0m, in \u001B[0;36mAxes._fill_between_x_or_y\u001B[1;34m(self, ind_dir, ind, dep1, dep2, where, interpolate, step, **kwargs)\u001B[0m\n\u001B[0;32m   5268\u001B[0m         kwargs[\u001B[38;5;124m\"\u001B[39m\u001B[38;5;124mfacecolor\u001B[39m\u001B[38;5;124m\"\u001B[39m] \u001B[38;5;241m=\u001B[39m \\\n\u001B[0;32m   5269\u001B[0m             \u001B[38;5;28mself\u001B[39m\u001B[38;5;241m.\u001B[39m_get_patches_for_fill\u001B[38;5;241m.\u001B[39mget_next_color()\n\u001B[0;32m   5271\u001B[0m \u001B[38;5;66;03m# Handle united data, such as dates\u001B[39;00m\n\u001B[1;32m-> 5272\u001B[0m ind, dep1, dep2 \u001B[38;5;241m=\u001B[39m \u001B[38;5;28mmap\u001B[39m(\n\u001B[0;32m   5273\u001B[0m     ma\u001B[38;5;241m.\u001B[39mmasked_invalid, \u001B[38;5;28mself\u001B[39m\u001B[38;5;241m.\u001B[39m_process_unit_info(\n\u001B[0;32m   5274\u001B[0m         [(ind_dir, ind), (dep_dir, dep1), (dep_dir, dep2)], kwargs))\n\u001B[0;32m   5276\u001B[0m \u001B[38;5;28;01mfor\u001B[39;00m name, array \u001B[38;5;129;01min\u001B[39;00m [\n\u001B[0;32m   5277\u001B[0m         (ind_dir, ind), (\u001B[38;5;124mf\u001B[39m\u001B[38;5;124m\"\u001B[39m\u001B[38;5;132;01m{\u001B[39;00mdep_dir\u001B[38;5;132;01m}\u001B[39;00m\u001B[38;5;124m1\u001B[39m\u001B[38;5;124m\"\u001B[39m, dep1), (\u001B[38;5;124mf\u001B[39m\u001B[38;5;124m\"\u001B[39m\u001B[38;5;132;01m{\u001B[39;00mdep_dir\u001B[38;5;132;01m}\u001B[39;00m\u001B[38;5;124m2\u001B[39m\u001B[38;5;124m\"\u001B[39m, dep2)]:\n\u001B[0;32m   5278\u001B[0m     \u001B[38;5;28;01mif\u001B[39;00m array\u001B[38;5;241m.\u001B[39mndim \u001B[38;5;241m>\u001B[39m \u001B[38;5;241m1\u001B[39m:\n",
      "File \u001B[1;32m~\\ENV3\\Lib\\site-packages\\numpy\\ma\\core.py:2360\u001B[0m, in \u001B[0;36mmasked_invalid\u001B[1;34m(a, copy)\u001B[0m\n\u001B[0;32m   2332\u001B[0m \u001B[38;5;28;01mdef\u001B[39;00m \u001B[38;5;21mmasked_invalid\u001B[39m(a, copy\u001B[38;5;241m=\u001B[39m\u001B[38;5;28;01mTrue\u001B[39;00m):\n\u001B[0;32m   2333\u001B[0m     \u001B[38;5;124;03m\"\"\"\u001B[39;00m\n\u001B[0;32m   2334\u001B[0m \u001B[38;5;124;03m    Mask an array where invalid values occur (NaNs or infs).\u001B[39;00m\n\u001B[0;32m   2335\u001B[0m \n\u001B[1;32m   (...)\u001B[0m\n\u001B[0;32m   2357\u001B[0m \n\u001B[0;32m   2358\u001B[0m \u001B[38;5;124;03m    \"\"\"\u001B[39;00m\n\u001B[1;32m-> 2360\u001B[0m     \u001B[38;5;28;01mreturn\u001B[39;00m masked_where(\u001B[38;5;241m~\u001B[39m(\u001B[43mnp\u001B[49m\u001B[38;5;241;43m.\u001B[39;49m\u001B[43misfinite\u001B[49m\u001B[43m(\u001B[49m\u001B[43mgetdata\u001B[49m\u001B[43m(\u001B[49m\u001B[43ma\u001B[49m\u001B[43m)\u001B[49m\u001B[43m)\u001B[49m), a, copy\u001B[38;5;241m=\u001B[39mcopy)\n",
      "\u001B[1;31mTypeError\u001B[0m: ufunc 'isfinite' not supported for the input types, and the inputs could not be safely coerced to any supported types according to the casting rule ''safe''"
     ]
    },
    {
     "data": {
      "text/plain": "<Figure size 640x480 with 1 Axes>",
      "image/png": "[encoded data removed]"
     },
     "metadata": {},
     "output_type": "display_data"
    }
   ],
   "source": [
    "read_energy('./data/old/card_name_v100_gpu_count_1_cpu_num_6_mem_32GB_repeat_1_TFTTransformerepochs_2/gpu0.log')\n",
    "ax = plot_energy('./data/old/card_name_v100_gpu_count_1_cpu_num_6_mem_32GB_repeat_1_TFTTransformerepochs_2/gpu0.log', 2)\n"
   ],
   "metadata": {
    "collapsed": false
   }
  },
  {
   "cell_type": "code",
   "execution_count": null,
   "outputs": [],
   "source": [
    "df2"
   ],
   "metadata": {
    "collapsed": false
   }
  },
  {
   "cell_type": "code",
   "execution_count": null,
   "outputs": [],
   "source": [
    "poi = ['INIT',\n",
    "       'data head setup',\n",
    "       'RunTFTCustomVersion A',\n",
    "       'RunTFTCustomVersion bestfit Epoch:0',\n",
    "       'RunTFTCustomVersion bestfit finalize',\n",
    "       'DLprediction Iteration',\n",
    "       'DLResults_Graphs timer_num:0',\n",
    "       'RunTFTCustomVersion bestfit finalize VisualizeTFT event_num:0']\n",
    "\n",
    "for i, row in df2.iterrows():\n",
    "   label = row['timer']\n",
    "   if label in poi:\n",
    "      # print(row['timer'], row['start'])\n",
    "      x = row['start']\n",
    "\n",
    "      y = 180\n",
    "\n",
    "      ax.text(x, y, label)\n",
    "      ax.plot(x, y)\n",
    "plt.show()"
   ],
   "metadata": {
    "collapsed": false
   }
  },
  {
   "cell_type": "code",
   "execution_count": null,
   "outputs": [],
   "source": [],
   "metadata": {
    "collapsed": false
   }
  }
 ],
 "metadata": {
  "kernelspec": {
   "display_name": "Python 3",
   "language": "python",
   "name": "python3"
  },
  "language_info": {
   "codemirror_mode": {
    "name": "ipython",
    "version": 2
   },
   "file_extension": ".py",
   "mimetype": "text/x-python",
   "name": "python",
   "nbconvert_exporter": "python",
   "pygments_lexer": "ipython2",
   "version": "2.7.6"
  }
 },
 "nbformat": 4,
 "nbformat_minor": 0
}
