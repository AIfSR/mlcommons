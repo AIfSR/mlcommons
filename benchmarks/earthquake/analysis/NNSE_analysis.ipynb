{
 "cells": [
  {
   "cell_type": "markdown",
   "id": "7f1b0080",
   "metadata": {},
   "source": [
    "# MLCommons Earthquake NNSE Analysis Notebook\n",
    "- Generate markdown tables for earthquake predictions across epochs"
   ]
  },
  {
   "cell_type": "code",
   "execution_count": null,
   "id": "e38c2922",
   "metadata": {},
   "outputs": [],
   "source": [
    "import os\n",
    "import re\n",
    "import ast\n",
    "import glob\n",
    "import pickle\n",
    "import datetime\n",
    "import numpy as np\n",
    "import pandas as pd\n",
    "import seaborn as sns\n",
    "from datetime import timedelta\n",
    "import matplotlib.dates as md\n",
    "import matplotlib.pyplot as plt"
   ]
  },
  {
   "cell_type": "code",
   "execution_count": null,
   "id": "eb26333c",
   "metadata": {},
   "outputs": [],
   "source": [
    "pd.set_option('display.max_rows', 500)"
   ]
  },
  {
   "cell_type": "markdown",
   "id": "615efa0c",
   "metadata": {},
   "source": [
    "### Plotting Functions"
   ]
  },
  {
   "cell_type": "code",
   "execution_count": null,
   "id": "045fba61",
   "metadata": {},
   "outputs": [],
   "source": [
    "def plot_nnse(data_dict):\n",
    "    fig = plt.figure(figsize=(8, 6), dpi=360)\n",
    "    data = pd.DataFrame()\n",
    "    for experiment in data_dict.keys():\n",
    "        timer_df = data_dict[experiment]['timer_df']\n",
    "        if not timer_df is None:\n",
    "            run = {}\n",
    "            run['gpu'] = data_dict[experiment]['run_info']['gpu']\n",
    "            run['system'] = data_dict[experiment]['run_info']['system']\n",
    "            run['filesystem'] = data_dict[experiment]['run_info']['filesystem']\n",
    "            run['epochs'] = int(data_dict[experiment]['run_info']['epochs'])\n",
    "            run['date'] = data_dict[experiment]['run_info']['date']\n",
    "            run['sys'] = f\"{run['gpu']}-{run['system']}-{run['filesystem']}-{run['date']}\"\n",
    "            if not timer_df.query(\"timer == 'NNSE_1774'\").empty:\n",
    "                dict_str = timer_df.query(\"timer == 'NNSE_1774'\")['msg'].values[0].replace(';',',')\n",
    "                NNSE = ast.literal_eval(dict_str)\n",
    "                run['NNSE'] = NNSE['Summed_NNSE_val']\n",
    "                run_df = pd.DataFrame([run])\n",
    "                data = pd.concat([data, run_df], ignore_index=True)\n",
    "            \n",
    "    # create plot\n",
    "    #sns.lineplot(x='epochs', \n",
    "    #             y='NNSE',\n",
    "    #             hue='sys',\n",
    "    #             data=data,\n",
    "    #             legend = False)\n",
    "    sns.scatterplot(x='epochs', \n",
    "                    y='NNSE',\n",
    "                    hue='sys',\n",
    "                    s=50,\n",
    "                    data=data) \n",
    "    \n",
    "    plt.ylabel('NNSE Value')\n",
    "    plt.xlabel('Epochs')\n",
    "    plt.legend(bbox_to_anchor=(1.01, 1), loc='upper left')\n",
    "    \n",
    "    plt.show()\n",
    "    "
   ]
  },
  {
   "cell_type": "code",
   "execution_count": null,
   "id": "a5236e14",
   "metadata": {},
   "outputs": [],
   "source": [
    "def plot_nnse_bar(data_dict):\n",
    "    fig = plt.figure(figsize=(8, 6), dpi=360)\n",
    "    data = pd.DataFrame()\n",
    "    for experiment in data_dict.keys():\n",
    "        timer_df = data_dict[experiment]['timer_df']\n",
    "        if not timer_df is None:\n",
    "            run = {}\n",
    "            run['gpu'] = data_dict[experiment]['run_info']['gpu']\n",
    "            run['system'] = data_dict[experiment]['run_info']['system']\n",
    "            run['filesystem'] = data_dict[experiment]['run_info']['filesystem']\n",
    "            run['epochs'] = int(data_dict[experiment]['run_info']['epochs'])\n",
    "            run['date'] = data_dict[experiment]['run_info']['date']\n",
    "            run['sys'] = f\"{run['gpu']}-{run['system']}-{run['filesystem']}-{run['date']}\"\n",
    "            if not timer_df.query(\"timer == 'NNSE_1774'\").empty:\n",
    "                dict_str = timer_df.query(\"timer == 'NNSE_1774'\")['msg'].values[0].replace(';',',')\n",
    "                NNSE = ast.literal_eval(dict_str)\n",
    "                run['NNSE'] = NNSE['Summed_NNSE_val']\n",
    "                run_df = pd.DataFrame([run])\n",
    "                data = pd.concat([data, run_df], ignore_index=True)\n",
    "            \n",
    "    # create plot\n",
    "    #sns.lineplot(x='epochs', \n",
    "    #             y='NNSE',\n",
    "    #             hue='sys',\n",
    "    #             data=data,\n",
    "    #             legend = False)\n",
    "    #sns.scatterplot(x='epochs', \n",
    "    #                y='NNSE',\n",
    "    #                hue='sys',\n",
    "    #                s=50,\n",
    "    #                data=data) \n",
    "    sns.barplot(x='epochs', y='NNSE', hue='sys',data=data)\n",
    "    \n",
    "    plt.ylabel('NNSE Value')\n",
    "    plt.xlabel('Epochs')\n",
    "    plt.legend(bbox_to_anchor=(1.01, 1), loc='upper left')\n",
    "    \n",
    "    plt.show()"
   ]
  },
  {
   "cell_type": "code",
   "execution_count": null,
   "id": "7039ae78",
   "metadata": {},
   "outputs": [],
   "source": [
    "def SAVEFIG(fig, filename, path=None, formats=('png', 'pdf')):\n",
    "    fileout = os.path.join(path,filename)\n",
    "    for my_format in formats:\n",
    "        fig.savefig(f\"{fileout}.{my_format}\", format=my_format, bbox_inches=\"tight\")\n",
    "    return 1, tuple(f'{fileout}.{fmt}' for fmt in formats)"
   ]
  },
  {
   "cell_type": "markdown",
   "id": "a773046b",
   "metadata": {},
   "source": [
    "### Load Pickle"
   ]
  },
  {
   "cell_type": "code",
   "execution_count": null,
   "id": "e290de28",
   "metadata": {},
   "outputs": [],
   "source": [
    "cwd = os.getcwd()\n",
    "pickle_file = os.path.join(cwd,'experiment_data.pkl')\n",
    "with open(pickle_file, 'rb') as f:\n",
    "    loaded_dict = pickle.load(f)"
   ]
  },
  {
   "cell_type": "markdown",
   "id": "f7104dbe",
   "metadata": {},
   "source": [
    "### Display Available Data"
   ]
  },
  {
   "cell_type": "code",
   "execution_count": null,
   "id": "8772d7c7",
   "metadata": {},
   "outputs": [],
   "source": [
    "data = pd.DataFrame()\n",
    "for experiment in loaded_dict.keys():\n",
    "    run = {}\n",
    "    gpu = loaded_dict[experiment]['run_info']['gpu']\n",
    "    system = loaded_dict[experiment]['run_info']['system']\n",
    "    filesystem = loaded_dict[experiment]['run_info']['filesystem']\n",
    "    run['count'] = 1\n",
    "    run['sys'] = f\"{gpu}-{system}-{filesystem}\"\n",
    "    run_df = pd.DataFrame([run])\n",
    "    data = pd.concat([data, run_df], ignore_index=True) \n",
    "data.groupby('sys').count()"
   ]
  },
  {
   "cell_type": "markdown",
   "id": "57e483d7",
   "metadata": {},
   "source": [
    "### Create Analysis Output"
   ]
  },
  {
   "cell_type": "code",
   "execution_count": null,
   "id": "057c013e",
   "metadata": {},
   "outputs": [],
   "source": [
    "NNSE_data = pd.DataFrame()\n",
    "for experiment in loaded_dict.keys():\n",
    "    if not experiment.startswith('mar2022'):\n",
    "        NNSE = loaded_dict[experiment]['NNSE_df']\n",
    "        #import pdb; pdb.set_trace()\n",
    "        NNSE_data = pd.concat([NNSE_data, NNSE], ignore_index=True)\n",
    "epoch_grouped = NNSE_data.groupby(['epochs','time']).mean(['averaged','summed']).reset_index()\n",
    "epoch_grouped['epochs'] = epoch_grouped['epochs'].astype(int)\n",
    "epoch_grouped = epoch_grouped.sort_values('epochs')\n",
    "for time in epoch_grouped['time'].unique():\n",
    "    filtered = epoch_grouped[epoch_grouped['time'] == time]\n",
    "    filtered = filtered.set_index('epochs')\n",
    "    print(f'{time}')\n",
    "    print(filtered.to_markdown())\n",
    "    print('\\n')"
   ]
  }
 ],
 "metadata": {
  "kernelspec": {
   "display_name": "Python 3 (ipykernel)",
   "language": "python",
   "name": "python3"
  },
  "language_info": {
   "codemirror_mode": {
    "name": "ipython",
    "version": 3
   },
   "file_extension": ".py",
   "mimetype": "text/x-python",
   "name": "python",
   "nbconvert_exporter": "python",
   "pygments_lexer": "ipython3",
   "version": "3.8.11"
  }
 },
 "nbformat": 4,
 "nbformat_minor": 5
}
